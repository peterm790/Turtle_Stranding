{
 "cells": [
  {
   "cell_type": "code",
   "execution_count": 54,
   "id": "58cebae4",
   "metadata": {},
   "outputs": [],
   "source": [
    "location = 'Struisbaai'"
   ]
  },
  {
   "cell_type": "code",
   "execution_count": 1,
   "id": "bdd40a85-66ba-437b-80f0-f15c7fd052aa",
   "metadata": {},
   "outputs": [
    {
     "name": "stdout",
     "output_type": "stream",
     "text": [
      "Warning: ecCodes 2.21.0 or higher is recommended. You are running version 2.16.0\n"
     ]
    }
   ],
   "source": [
    "import numpy as np\n",
    "import xarray as xr\n",
    "import pandas as pd\n",
    "import glob\n",
    "\n",
    "from ecmwf.opendata import Client\n",
    "client = Client()\n",
    "\n",
    "from datetime import datetime, timedelta\n",
    "\n",
    "import plotly.graph_objects as go\n",
    "from plotly.subplots import make_subplots\n",
    "import plotly.express as px\n",
    "\n",
    "import math\n",
    "import pickle"
   ]
  },
  {
   "cell_type": "code",
   "execution_count": 2,
   "id": "e2083d23",
   "metadata": {},
   "outputs": [
    {
     "name": "stdout",
     "output_type": "stream",
     "text": [
      "2022-04-12\n"
     ]
    },
    {
     "data": {
      "application/vnd.jupyter.widget-view+json": {
       "model_id": "",
       "version_major": 2,
       "version_minor": 0
      },
      "text/plain": [
       "<multiple>:   0%|          | 0.00/9.29M [00:00<?, ?B/s]"
      ]
     },
     "metadata": {},
     "output_type": "display_data"
    },
    {
     "name": "stdout",
     "output_type": "stream",
     "text": [
      "2022-04-11\n"
     ]
    },
    {
     "data": {
      "application/vnd.jupyter.widget-view+json": {
       "model_id": "",
       "version_major": 2,
       "version_minor": 0
      },
      "text/plain": [
       "<multiple>:   0%|          | 0.00/9.29M [00:00<?, ?B/s]"
      ]
     },
     "metadata": {},
     "output_type": "display_data"
    },
    {
     "name": "stdout",
     "output_type": "stream",
     "text": [
      "2022-04-10\n"
     ]
    },
    {
     "data": {
      "application/vnd.jupyter.widget-view+json": {
       "model_id": "",
       "version_major": 2,
       "version_minor": 0
      },
      "text/plain": [
       "<multiple>:   0%|          | 0.00/9.29M [00:00<?, ?B/s]"
      ]
     },
     "metadata": {},
     "output_type": "display_data"
    }
   ],
   "source": [
    "today = datetime.today().date()\n",
    "for i in range(3):\n",
    "    date = str(today - timedelta(days = i))\n",
    "    print(date)\n",
    "    client.retrieve(\n",
    "     date=str(date),\n",
    "     time=0,\n",
    "     step=list(np.arange(0,24,3)),\n",
    "     stream=\"enfo\",\n",
    "     type=['cf'],\n",
    "     levtype=\"sfc\",\n",
    "     param=[\"10u\",\"10v\"],\n",
    "     target='ECMWF_forecast/10m_U_V_'+str(date)+'.grib'\n",
    "    )"
   ]
  },
  {
   "cell_type": "code",
   "execution_count": 5,
   "id": "38237add",
   "metadata": {},
   "outputs": [
    {
     "data": {
      "application/vnd.jupyter.widget-view+json": {
       "model_id": "",
       "version_major": 2,
       "version_minor": 0
      },
      "text/plain": [
       "<multiple>:   0%|          | 0.00/47.6M [00:00<?, ?B/s]"
      ]
     },
     "metadata": {},
     "output_type": "display_data"
    },
    {
     "data": {
      "text/plain": [
       "<ecmwf.opendata.client.Result at 0x7ff4a07693d0>"
      ]
     },
     "execution_count": 5,
     "metadata": {},
     "output_type": "execute_result"
    }
   ],
   "source": [
    "client.retrieve(\n",
    " date=str(today),\n",
    " time=0,\n",
    " step=list(np.arange(24,147,3)),\n",
    " stream=\"enfo\",\n",
    " type=['cf'],\n",
    " levtype=\"sfc\",\n",
    " param=[\"10u\",\"10v\"],\n",
    " target='ECMWF_forecast/10m_U_V_7day_forecast.grib'\n",
    ")"
   ]
  },
  {
   "cell_type": "code",
   "execution_count": null,
   "id": "35b4fcec",
   "metadata": {},
   "outputs": [],
   "source": [
    "files = glob.glob('ECMWF_forecast/10m_U_V_*.grib')\n",
    "files.sort()"
   ]
  },
  {
   "cell_type": "code",
   "execution_count": 27,
   "id": "8f1ff4fe",
   "metadata": {},
   "outputs": [],
   "source": [
    "grbs = []\n",
    "for file in files:\n",
    "    ds = xr.open_dataset(file)\n",
    "    ds = ds.drop('time')\n",
    "    ds = ds.rename_dims({\"step\":\"time\"}) \n",
    "    ds['time'] = ds.valid_time\n",
    "    grbs.append(ds)\n",
    "    \n",
    "ds = xr.merge(grbs)"
   ]
  },
  {
   "cell_type": "code",
   "execution_count": 28,
   "id": "1f7cd65e",
   "metadata": {},
   "outputs": [],
   "source": [
    "ds['u10'] = ds.u10*1.94384\n",
    "ds['v10'] = ds.v10*1.94384"
   ]
  },
  {
   "cell_type": "code",
   "execution_count": 29,
   "id": "83254ff0-00fe-4b1e-b01c-f97876ea8905",
   "metadata": {},
   "outputs": [],
   "source": [
    "def wind_speed(U, V):\n",
    "    func = lambda x, y: np.sqrt(x**2 + y**2)\n",
    "    return xr.apply_ufunc(func, U, V, dask = 'parallelized')\n",
    "\n",
    "def wind_dir(U, V):\n",
    "    func = lambda x, y: np.mod(180+np.rad2deg(np.arctan2(x, y)),360)\n",
    "    return xr.apply_ufunc(func, U, V, dask = 'parallelized')\n"
   ]
  },
  {
   "cell_type": "code",
   "execution_count": 30,
   "id": "d8049949",
   "metadata": {},
   "outputs": [],
   "source": [
    "ds['ws'] = wind_speed(ds.u10, ds.v10)\n",
    "ds['dir'] = wind_dir(ds.u10, ds.v10)"
   ]
  },
  {
   "cell_type": "code",
   "execution_count": 39,
   "id": "04ce7bfc",
   "metadata": {},
   "outputs": [],
   "source": [
    "latlong_dict = {}\n",
    "latlong_dict['Struisbaai'] = [-34.80, 20.10]\n",
    "latlong_dict['Mossel Bay'] = [-34.15, 22.20]\n",
    "latlong_dict['Muizenberg'] = [-34.11, 18.52]\n",
    "latlong_dict['Witsands'] = [-34.41, 20.92]\n",
    "latlong_dict['Arniston'] = [-34.67, 20.27]\n",
    "latlong_dict['Plettenberg Bay'] = [-34.07, 23.44]\n",
    "latlong_dict['Hermanus'] = [-34.44, 19.25]\n",
    "latlong_dict['Sedgefield'] = [-34.10, 22.78]\n",
    "latlong_dict['Gaansbaai'] = [-34.64, 19.35]\n",
    "\n",
    "coords = latlong_dict[location]"
   ]
  },
  {
   "cell_type": "code",
   "execution_count": 32,
   "id": "ee58a9ff-40ca-41e9-9977-d50b4c4f7ba1",
   "metadata": {},
   "outputs": [],
   "source": [
    "ds = ds.sel(latitude = coords[0], method = 'nearest').sel(longitude = coords[0],method = 'nearest')"
   ]
  },
  {
   "cell_type": "code",
   "execution_count": 33,
   "id": "7d573676",
   "metadata": {},
   "outputs": [],
   "source": [
    "ds_daily = ds.resample(time = 'D', closed = \"right\").mean().load()\n",
    "\n",
    "df = ds_daily.to_dataframe()\n",
    "\n",
    "df['index'] = pd.to_datetime(df.index)\n",
    "\n",
    "u10_1 = list(ds_daily.u10.values[1:])\n",
    "u10_1.append(np.nan)\n",
    "df['u10_1'] = u10_1 \n",
    "df['u10_5m'] = ds_daily.u10.rolling(time = 5).mean().values\n",
    "df['month'] = pd.to_datetime(ds_daily.time.values).month\n",
    "\n",
    "df_ = df[['month', 'ws', 'u10_1', 'u10_5m']].dropna()\n",
    "\n",
    "features = np.array(df_)\n",
    "\n",
    "from sklearn.ensemble import RandomForestRegressor\n",
    "\n",
    "rf = pickle.load(open('model_no_sst_full.pkl', 'rb'))\n",
    "df_['predict'] = rf.predict(features)"
   ]
  },
  {
   "cell_type": "code",
   "execution_count": 34,
   "id": "7c23a221",
   "metadata": {},
   "outputs": [],
   "source": [
    "df['predict'] = df_.predict"
   ]
  },
  {
   "cell_type": "code",
   "execution_count": 35,
   "id": "51ac696a",
   "metadata": {},
   "outputs": [],
   "source": [
    "df['predict'] = df['predict'].fillna(-0.5) # set nan to -0.5 to show days with insufficient data"
   ]
  },
  {
   "cell_type": "code",
   "execution_count": 36,
   "id": "bd8e94bd",
   "metadata": {},
   "outputs": [],
   "source": [
    "def get_vector(direction):\n",
    "    if direction  < 90 and direction > 0:\n",
    "        x = math.sin(math.radians(direction))\n",
    "        y = math.cos(math.radians(direction))\n",
    "    elif direction > 90 and direction <180:\n",
    "        x = math.sin(math.radians(180 - direction))\n",
    "        y = -math.cos(math.radians(180 - direction))\n",
    "    elif direction >180 and direction <270:\n",
    "        x = -math.cos(math.radians(270 - direction))\n",
    "        y = -math.sin(math.radians(270 - direction))\n",
    "    else:\n",
    "        x = -math.sin(math.radians(360-direction))\n",
    "        y = math.cos(math.radians(360-direction))\n",
    "    return(x,-y)"
   ]
  },
  {
   "cell_type": "code",
   "execution_count": 51,
   "id": "18fd417e",
   "metadata": {},
   "outputs": [],
   "source": [
    "times = pd.to_datetime(ds.time.values)\n",
    "arrows = []\n",
    "for dir_,i in zip(ds.dir.values[0::2], times[0::2]):\n",
    "    ax_,ay_ = get_vector(dir_)\n",
    "    arrows.append(dict(\n",
    "        x=i,\n",
    "        y=-5,\n",
    "        xref = 'x',\n",
    "        yref = 'y',\n",
    "        axref = 'pixel',\n",
    "        ayref = 'pixel',\n",
    "        ax=ax_*25,\n",
    "        ay=ay_*25,\n",
    "        arrowhead = 2,\n",
    "        arrowsize = 1,\n",
    "        arrowwidth = 1.4,\n",
    "        xanchor = 'left',\n",
    "        yanchor = 'bottom',\n",
    "        visible = True\n",
    "    )\n",
    "    )"
   ]
  },
  {
   "cell_type": "code",
   "execution_count": 53,
   "id": "31fd4de9",
   "metadata": {},
   "outputs": [
    {
     "data": {
      "application/vnd.plotly.v1+json": {
       "config": {
        "plotlyServerURL": "https://plot.ly"
       },
       "data": [
        {
         "name": "Wind Speed (knots)",
         "type": "scatter",
         "visible": true,
         "x": [
          "2022-04-09T00:00:00",
          "2022-04-09T03:00:00",
          "2022-04-09T06:00:00",
          "2022-04-09T09:00:00",
          "2022-04-09T12:00:00",
          "2022-04-09T15:00:00",
          "2022-04-09T18:00:00",
          "2022-04-09T21:00:00",
          "2022-04-10T00:00:00",
          "2022-04-10T03:00:00",
          "2022-04-10T06:00:00",
          "2022-04-10T09:00:00",
          "2022-04-10T12:00:00",
          "2022-04-10T15:00:00",
          "2022-04-10T18:00:00",
          "2022-04-10T21:00:00",
          "2022-04-11T00:00:00",
          "2022-04-11T03:00:00",
          "2022-04-11T06:00:00",
          "2022-04-11T09:00:00",
          "2022-04-11T12:00:00",
          "2022-04-11T15:00:00",
          "2022-04-11T18:00:00",
          "2022-04-11T21:00:00",
          "2022-04-12T00:00:00",
          "2022-04-12T03:00:00",
          "2022-04-12T06:00:00",
          "2022-04-12T09:00:00",
          "2022-04-12T12:00:00",
          "2022-04-12T15:00:00",
          "2022-04-12T18:00:00",
          "2022-04-12T21:00:00",
          "2022-04-13T00:00:00",
          "2022-04-13T03:00:00",
          "2022-04-13T06:00:00",
          "2022-04-13T09:00:00",
          "2022-04-13T12:00:00",
          "2022-04-13T15:00:00",
          "2022-04-13T18:00:00",
          "2022-04-13T21:00:00",
          "2022-04-14T00:00:00",
          "2022-04-14T03:00:00",
          "2022-04-14T06:00:00",
          "2022-04-14T09:00:00",
          "2022-04-14T12:00:00",
          "2022-04-14T15:00:00",
          "2022-04-14T18:00:00",
          "2022-04-14T21:00:00",
          "2022-04-15T00:00:00",
          "2022-04-15T03:00:00",
          "2022-04-15T06:00:00",
          "2022-04-15T09:00:00",
          "2022-04-15T12:00:00",
          "2022-04-15T15:00:00",
          "2022-04-15T18:00:00",
          "2022-04-15T21:00:00",
          "2022-04-16T00:00:00",
          "2022-04-16T03:00:00",
          "2022-04-16T06:00:00",
          "2022-04-16T09:00:00",
          "2022-04-16T12:00:00",
          "2022-04-16T15:00:00",
          "2022-04-16T18:00:00",
          "2022-04-16T21:00:00",
          "2022-04-17T00:00:00",
          "2022-04-17T03:00:00",
          "2022-04-17T06:00:00",
          "2022-04-17T09:00:00",
          "2022-04-17T12:00:00",
          "2022-04-17T15:00:00",
          "2022-04-17T18:00:00",
          "2022-04-17T21:00:00",
          "2022-04-18T00:00:00"
         ],
         "xaxis": "x",
         "y": [
          13.652205467224121,
          12.135433197021484,
          10.862696647644043,
          13.103896141052246,
          14.36566162109375,
          12.164571762084961,
          11.226287841796875,
          13.668989181518555,
          10.69832992553711,
          14.559285163879395,
          16.855161666870117,
          19.03827476501465,
          18.519187927246094,
          17.644084930419922,
          17.171432495117188,
          16.831418991088867,
          15.326519012451172,
          14.532148361206055,
          15.324624061584473,
          16.439559936523438,
          17.76800537109375,
          19.135244369506836,
          18.7889461517334,
          17.28059959411621,
          17.271547317504883,
          17.241243362426758,
          18.583328247070312,
          21.872892379760742,
          23.23392105102539,
          21.750654220581055,
          21.159513473510742,
          23.089702606201172,
          21.35525131225586,
          20.53618049621582,
          18.00383758544922,
          20.65821075439453,
          17.17902946472168,
          13.060846328735352,
          9.320243835449219,
          9.92712116241455,
          10.288065910339355,
          10.099433898925781,
          2.8624305725097656,
          0.07449324429035187,
          3.3660027980804443,
          1.2946622371673584,
          2.907503843307495,
          3.726440668106079,
          5.5714006423950195,
          10.109868049621582,
          12.701534271240234,
          18.293630599975586,
          21.069150924682617,
          20.076025009155273,
          22.365976333618164,
          13.405688285827637,
          8.244256973266602,
          4.111220836639404,
          9.323771476745605,
          10.017874717712402,
          14.800992965698242,
          16.733816146850586,
          16.332651138305664,
          14.132333755493164,
          19.217018127441406,
          21.020540237426758,
          19.321977615356445,
          20.039777755737305,
          19.931842803955078,
          22.808704376220703,
          24.928646087646484,
          25.354148864746094,
          27.6793212890625
         ],
         "yaxis": "y"
        },
        {
         "marker": {
          "color": "grey",
          "size": 10
         },
         "mode": "markers",
         "name": "Insufficent data",
         "type": "scatter",
         "visible": true,
         "x": [
          "2022-04-08T00:00:00.000000000",
          "2022-04-09T00:00:00.000000000",
          "2022-04-10T00:00:00.000000000",
          "2022-04-11T00:00:00.000000000",
          "2022-04-17T00:00:00.000000000"
         ],
         "xaxis": "x2",
         "y": [
          -0.5,
          -0.5,
          -0.5,
          -0.5,
          -0.5
         ],
         "yaxis": "y2"
        },
        {
         "marker": {
          "color": "green",
          "size": 10
         },
         "mode": "markers",
         "name": "Stranding Unlikely",
         "type": "scatter",
         "visible": true,
         "x": [
          "2022-04-12T00:00:00.000000000",
          "2022-04-15T00:00:00.000000000",
          "2022-04-16T00:00:00.000000000"
         ],
         "xaxis": "x2",
         "y": [
          0.35,
          0.46,
          0.35
         ],
         "yaxis": "y2"
        },
        {
         "marker": {
          "color": "yellow",
          "size": 10
         },
         "mode": "markers",
         "name": "Stranding Possible",
         "type": "scatter",
         "visible": true,
         "x": [
          "2022-04-13T00:00:00.000000000"
         ],
         "xaxis": "x2",
         "y": [
          0.66
         ],
         "yaxis": "y2"
        },
        {
         "marker": {
          "color": "red",
          "size": 10
         },
         "mode": "markers",
         "name": "Stranding Likely",
         "type": "scatter",
         "visible": true,
         "x": [
          "2022-04-14T00:00:00.000000000"
         ],
         "xaxis": "x2",
         "y": [
          5.11
         ],
         "yaxis": "y2"
        }
       ],
       "layout": {
        "annotations": [
         {
          "arrowhead": 2,
          "arrowsize": 1,
          "arrowwidth": 1.4,
          "ax": 16.939360250746688,
          "axref": "pixel",
          "ay": 18.386355655632876,
          "ayref": "pixel",
          "visible": true,
          "x": "2022-04-09T00:00:00",
          "xanchor": "left",
          "xref": "x",
          "y": -5,
          "yanchor": "bottom",
          "yref": "y"
         },
         {
          "arrowhead": 2,
          "arrowsize": 1,
          "arrowwidth": 1.4,
          "ax": 12.377992129438166,
          "axref": "pixel",
          "ay": 21.720619485722935,
          "ayref": "pixel",
          "visible": true,
          "x": "2022-04-09T06:00:00",
          "xanchor": "left",
          "xref": "x",
          "y": -5,
          "yanchor": "bottom",
          "yref": "y"
         },
         {
          "arrowhead": 2,
          "arrowsize": 1,
          "arrowwidth": 1.4,
          "ax": 11.915275166543966,
          "axref": "pixel",
          "ay": 21.977857441196143,
          "ayref": "pixel",
          "visible": true,
          "x": "2022-04-09T12:00:00",
          "xanchor": "left",
          "xref": "x",
          "y": -5,
          "yanchor": "bottom",
          "yref": "y"
         },
         {
          "arrowhead": 2,
          "arrowsize": 1,
          "arrowwidth": 1.4,
          "ax": 18.715632066002005,
          "axref": "pixel",
          "ay": 16.574833826317462,
          "ayref": "pixel",
          "visible": true,
          "x": "2022-04-09T18:00:00",
          "xanchor": "left",
          "xref": "x",
          "y": -5,
          "yanchor": "bottom",
          "yref": "y"
         },
         {
          "arrowhead": 2,
          "arrowsize": 1,
          "arrowwidth": 1.4,
          "ax": 23.15506402763452,
          "axref": "pixel",
          "ay": 9.425656999708073,
          "ayref": "pixel",
          "visible": true,
          "x": "2022-04-10T00:00:00",
          "xanchor": "left",
          "xref": "x",
          "y": -5,
          "yanchor": "bottom",
          "yref": "y"
         },
         {
          "arrowhead": 2,
          "arrowsize": 1,
          "arrowwidth": 1.4,
          "ax": 23.954588511602275,
          "axref": "pixel",
          "ay": 7.153858346361928,
          "ayref": "pixel",
          "visible": true,
          "x": "2022-04-10T06:00:00",
          "xanchor": "left",
          "xref": "x",
          "y": -5,
          "yanchor": "bottom",
          "yref": "y"
         },
         {
          "arrowhead": 2,
          "arrowsize": 1,
          "arrowwidth": 1.4,
          "ax": 24.408802923881176,
          "axref": "pixel",
          "ay": 5.404659084820224,
          "ayref": "pixel",
          "visible": true,
          "x": "2022-04-10T12:00:00",
          "xanchor": "left",
          "xref": "x",
          "y": -5,
          "yanchor": "bottom",
          "yref": "y"
         },
         {
          "arrowhead": 2,
          "arrowsize": 1,
          "arrowwidth": 1.4,
          "ax": 24.85560244373179,
          "axref": "pixel",
          "ay": 2.6831002886873896,
          "ayref": "pixel",
          "visible": true,
          "x": "2022-04-10T18:00:00",
          "xanchor": "left",
          "xref": "x",
          "y": -5,
          "yanchor": "bottom",
          "yref": "y"
         },
         {
          "arrowhead": 2,
          "arrowsize": 1,
          "arrowwidth": 1.4,
          "ax": 24.43185219279556,
          "axref": "pixel",
          "ay": 5.2994903933671695,
          "ayref": "pixel",
          "visible": true,
          "x": "2022-04-11T00:00:00",
          "xanchor": "left",
          "xref": "x",
          "y": -5,
          "yanchor": "bottom",
          "yref": "y"
         },
         {
          "arrowhead": 2,
          "arrowsize": 1,
          "arrowwidth": 1.4,
          "ax": 24.886326775292478,
          "axref": "pixel",
          "ay": 2.3813314833010466,
          "ayref": "pixel",
          "visible": true,
          "x": "2022-04-11T06:00:00",
          "xanchor": "left",
          "xref": "x",
          "y": -5,
          "yanchor": "bottom",
          "yref": "y"
         },
         {
          "arrowhead": 2,
          "arrowsize": 1,
          "arrowwidth": 1.4,
          "ax": 24.70010077308976,
          "axref": "pixel",
          "ay": 3.860702241718552,
          "ayref": "pixel",
          "visible": true,
          "x": "2022-04-11T12:00:00",
          "xanchor": "left",
          "xref": "x",
          "y": -5,
          "yanchor": "bottom",
          "yref": "y"
         },
         {
          "arrowhead": 2,
          "arrowsize": 1,
          "arrowwidth": 1.4,
          "ax": 24.56501539693395,
          "axref": "pixel",
          "ay": -4.643276703837272,
          "ayref": "pixel",
          "visible": true,
          "x": "2022-04-11T18:00:00",
          "xanchor": "left",
          "xref": "x",
          "y": -5,
          "yanchor": "bottom",
          "yref": "y"
         },
         {
          "arrowhead": 2,
          "arrowsize": 1,
          "arrowwidth": 1.4,
          "ax": 24.995355482569494,
          "axref": "pixel",
          "ay": -0.48187581385994066,
          "ayref": "pixel",
          "visible": true,
          "x": "2022-04-12T00:00:00",
          "xanchor": "left",
          "xref": "x",
          "y": -5,
          "yanchor": "bottom",
          "yref": "y"
         },
         {
          "arrowhead": 2,
          "arrowsize": 1,
          "arrowwidth": 1.4,
          "ax": 24.985018629243466,
          "axref": "pixel",
          "ay": -0.865357785171516,
          "ayref": "pixel",
          "visible": true,
          "x": "2022-04-12T06:00:00",
          "xanchor": "left",
          "xref": "x",
          "y": -5,
          "yanchor": "bottom",
          "yref": "y"
         },
         {
          "arrowhead": 2,
          "arrowsize": 1,
          "arrowwidth": 1.4,
          "ax": 24.201452342042113,
          "axref": "pixel",
          "ay": -6.2681500090428806,
          "ayref": "pixel",
          "visible": true,
          "x": "2022-04-12T12:00:00",
          "xanchor": "left",
          "xref": "x",
          "y": -5,
          "yanchor": "bottom",
          "yref": "y"
         },
         {
          "arrowhead": 2,
          "arrowsize": 1,
          "arrowwidth": 1.4,
          "ax": 21.8783158225885,
          "axref": "pixel",
          "ay": -12.097078025997586,
          "ayref": "pixel",
          "visible": true,
          "x": "2022-04-12T18:00:00",
          "xanchor": "left",
          "xref": "x",
          "y": -5,
          "yanchor": "bottom",
          "yref": "y"
         },
         {
          "arrowhead": 2,
          "arrowsize": 1,
          "arrowwidth": 1.4,
          "ax": 22.7608574265055,
          "axref": "pixel",
          "ay": -10.341342717959284,
          "ayref": "pixel",
          "visible": true,
          "x": "2022-04-13T00:00:00",
          "xanchor": "left",
          "xref": "x",
          "y": -5,
          "yanchor": "bottom",
          "yref": "y"
         },
         {
          "arrowhead": 2,
          "arrowsize": 1,
          "arrowwidth": 1.4,
          "ax": 23.827332771253555,
          "axref": "pixel",
          "ay": -7.566915686588986,
          "ayref": "pixel",
          "visible": true,
          "x": "2022-04-13T06:00:00",
          "xanchor": "left",
          "xref": "x",
          "y": -5,
          "yanchor": "bottom",
          "yref": "y"
         },
         {
          "arrowhead": 2,
          "arrowsize": 1,
          "arrowwidth": 1.4,
          "ax": 23.884816351688404,
          "axref": "pixel",
          "ay": -7.383464488038002,
          "ayref": "pixel",
          "visible": true,
          "x": "2022-04-13T12:00:00",
          "xanchor": "left",
          "xref": "x",
          "y": -5,
          "yanchor": "bottom",
          "yref": "y"
         },
         {
          "arrowhead": 2,
          "arrowsize": 1,
          "arrowwidth": 1.4,
          "ax": 22.132962385834514,
          "axref": "pixel",
          "ay": -11.62462799521923,
          "ayref": "pixel",
          "visible": true,
          "x": "2022-04-13T18:00:00",
          "xanchor": "left",
          "xref": "x",
          "y": -5,
          "yanchor": "bottom",
          "yref": "y"
         },
         {
          "arrowhead": 2,
          "arrowsize": 1,
          "arrowwidth": 1.4,
          "ax": 24.419496559168692,
          "axref": "pixel",
          "ay": -5.356135528228193,
          "ayref": "pixel",
          "visible": true,
          "x": "2022-04-14T00:00:00",
          "xanchor": "left",
          "xref": "x",
          "y": -5,
          "yanchor": "bottom",
          "yref": "y"
         },
         {
          "arrowhead": 2,
          "arrowsize": 1,
          "arrowwidth": 1.4,
          "ax": 9.883587618535254,
          "axref": "pixel",
          "ay": -22.96333372545756,
          "ayref": "pixel",
          "visible": true,
          "x": "2022-04-14T06:00:00",
          "xanchor": "left",
          "xref": "x",
          "y": -5,
          "yanchor": "bottom",
          "yref": "y"
         },
         {
          "arrowhead": 2,
          "arrowsize": 1,
          "arrowwidth": 1.4,
          "ax": 24.306773784274828,
          "axref": "pixel",
          "ay": 5.846430381017965,
          "ayref": "pixel",
          "visible": true,
          "x": "2022-04-14T12:00:00",
          "xanchor": "left",
          "xref": "x",
          "y": -5,
          "yanchor": "bottom",
          "yref": "y"
         },
         {
          "arrowhead": 2,
          "arrowsize": 1,
          "arrowwidth": 1.4,
          "ax": 24.45686714873162,
          "axref": "pixel",
          "ay": -5.182822519563244,
          "ayref": "pixel",
          "visible": true,
          "x": "2022-04-14T18:00:00",
          "xanchor": "left",
          "xref": "x",
          "y": -5,
          "yanchor": "bottom",
          "yref": "y"
         },
         {
          "arrowhead": 2,
          "arrowsize": 1,
          "arrowwidth": 1.4,
          "ax": 24.999049470503834,
          "axref": "pixel",
          "ay": -0.21800360387378825,
          "ayref": "pixel",
          "visible": true,
          "x": "2022-04-15T00:00:00",
          "xanchor": "left",
          "xref": "x",
          "y": -5,
          "yanchor": "bottom",
          "yref": "y"
         },
         {
          "arrowhead": 2,
          "arrowsize": 1,
          "arrowwidth": 1.4,
          "ax": 23.32201175051777,
          "axref": "pixel",
          "ay": -9.004652570127899,
          "ayref": "pixel",
          "visible": true,
          "x": "2022-04-15T06:00:00",
          "xanchor": "left",
          "xref": "x",
          "y": -5,
          "yanchor": "bottom",
          "yref": "y"
         },
         {
          "arrowhead": 2,
          "arrowsize": 1,
          "arrowwidth": 1.4,
          "ax": 24.160533901977963,
          "axref": "pixel",
          "ay": -6.424064256479191,
          "ayref": "pixel",
          "visible": true,
          "x": "2022-04-15T12:00:00",
          "xanchor": "left",
          "xref": "x",
          "y": -5,
          "yanchor": "bottom",
          "yref": "y"
         },
         {
          "arrowhead": 2,
          "arrowsize": 1,
          "arrowwidth": 1.4,
          "ax": 16.078940218991665,
          "axref": "pixel",
          "ay": -19.143345617579293,
          "ayref": "pixel",
          "visible": true,
          "x": "2022-04-15T18:00:00",
          "xanchor": "left",
          "xref": "x",
          "y": -5,
          "yanchor": "bottom",
          "yref": "y"
         },
         {
          "arrowhead": 2,
          "arrowsize": 1,
          "arrowwidth": 1.4,
          "ax": 13.894005216834945,
          "axref": "pixel",
          "ay": -20.78356608078997,
          "ayref": "pixel",
          "visible": true,
          "x": "2022-04-16T00:00:00",
          "xanchor": "left",
          "xref": "x",
          "y": -5,
          "yanchor": "bottom",
          "yref": "y"
         },
         {
          "arrowhead": 2,
          "arrowsize": 1,
          "arrowwidth": 1.4,
          "ax": -23.82381570732837,
          "axref": "pixel",
          "ay": -7.577981600878557,
          "ayref": "pixel",
          "visible": true,
          "x": "2022-04-16T06:00:00",
          "xanchor": "left",
          "xref": "x",
          "y": -5,
          "yanchor": "bottom",
          "yref": "y"
         },
         {
          "arrowhead": 2,
          "arrowsize": 1,
          "arrowwidth": 1.4,
          "ax": -8.598959794257564,
          "axref": "pixel",
          "ay": -23.474622264410176,
          "ayref": "pixel",
          "visible": true,
          "x": "2022-04-16T12:00:00",
          "xanchor": "left",
          "xref": "x",
          "y": -5,
          "yanchor": "bottom",
          "yref": "y"
         },
         {
          "arrowhead": 2,
          "arrowsize": 1,
          "arrowwidth": 1.4,
          "ax": 7.632430704089786,
          "axref": "pixel",
          "ay": -23.80642773595542,
          "ayref": "pixel",
          "visible": true,
          "x": "2022-04-16T18:00:00",
          "xanchor": "left",
          "xref": "x",
          "y": -5,
          "yanchor": "bottom",
          "yref": "y"
         },
         {
          "arrowhead": 2,
          "arrowsize": 1,
          "arrowwidth": 1.4,
          "ax": 15.30681648323014,
          "axref": "pixel",
          "ay": -19.766167285255733,
          "ayref": "pixel",
          "visible": true,
          "x": "2022-04-17T00:00:00",
          "xanchor": "left",
          "xref": "x",
          "y": -5,
          "yanchor": "bottom",
          "yref": "y"
         },
         {
          "arrowhead": 2,
          "arrowsize": 1,
          "arrowwidth": 1.4,
          "ax": -23.732572087763703,
          "axref": "pixel",
          "ay": -7.8590725979023235,
          "ayref": "pixel",
          "visible": true,
          "x": "2022-04-17T06:00:00",
          "xanchor": "left",
          "xref": "x",
          "y": -5,
          "yanchor": "bottom",
          "yref": "y"
         },
         {
          "arrowhead": 2,
          "arrowsize": 1,
          "arrowwidth": 1.4,
          "ax": -17.402664564456174,
          "axref": "pixel",
          "ay": 17.94846138411372,
          "ayref": "pixel",
          "visible": true,
          "x": "2022-04-17T12:00:00",
          "xanchor": "left",
          "xref": "x",
          "y": -5,
          "yanchor": "bottom",
          "yref": "y"
         },
         {
          "arrowhead": 2,
          "arrowsize": 1,
          "arrowwidth": 1.4,
          "ax": 0.2939130027170286,
          "axref": "pixel",
          "ay": 24.998272243233806,
          "ayref": "pixel",
          "visible": true,
          "x": "2022-04-17T18:00:00",
          "xanchor": "left",
          "xref": "x",
          "y": -5,
          "yanchor": "bottom",
          "yref": "y"
         },
         {
          "arrowhead": 2,
          "arrowsize": 1,
          "arrowwidth": 1.4,
          "ax": 2.728164360467327,
          "axref": "pixel",
          "ay": 24.85069655406616,
          "ayref": "pixel",
          "visible": true,
          "x": "2022-04-18T00:00:00",
          "xanchor": "left",
          "xref": "x",
          "y": -5,
          "yanchor": "bottom",
          "yref": "y"
         }
        ],
        "template": {
         "data": {
          "bar": [
           {
            "error_x": {
             "color": "#2a3f5f"
            },
            "error_y": {
             "color": "#2a3f5f"
            },
            "marker": {
             "line": {
              "color": "#E5ECF6",
              "width": 0.5
             },
             "pattern": {
              "fillmode": "overlay",
              "size": 10,
              "solidity": 0.2
             }
            },
            "type": "bar"
           }
          ],
          "barpolar": [
           {
            "marker": {
             "line": {
              "color": "#E5ECF6",
              "width": 0.5
             },
             "pattern": {
              "fillmode": "overlay",
              "size": 10,
              "solidity": 0.2
             }
            },
            "type": "barpolar"
           }
          ],
          "carpet": [
           {
            "aaxis": {
             "endlinecolor": "#2a3f5f",
             "gridcolor": "white",
             "linecolor": "white",
             "minorgridcolor": "white",
             "startlinecolor": "#2a3f5f"
            },
            "baxis": {
             "endlinecolor": "#2a3f5f",
             "gridcolor": "white",
             "linecolor": "white",
             "minorgridcolor": "white",
             "startlinecolor": "#2a3f5f"
            },
            "type": "carpet"
           }
          ],
          "choropleth": [
           {
            "colorbar": {
             "outlinewidth": 0,
             "ticks": ""
            },
            "type": "choropleth"
           }
          ],
          "contour": [
           {
            "colorbar": {
             "outlinewidth": 0,
             "ticks": ""
            },
            "colorscale": [
             [
              0,
              "#0d0887"
             ],
             [
              0.1111111111111111,
              "#46039f"
             ],
             [
              0.2222222222222222,
              "#7201a8"
             ],
             [
              0.3333333333333333,
              "#9c179e"
             ],
             [
              0.4444444444444444,
              "#bd3786"
             ],
             [
              0.5555555555555556,
              "#d8576b"
             ],
             [
              0.6666666666666666,
              "#ed7953"
             ],
             [
              0.7777777777777778,
              "#fb9f3a"
             ],
             [
              0.8888888888888888,
              "#fdca26"
             ],
             [
              1,
              "#f0f921"
             ]
            ],
            "type": "contour"
           }
          ],
          "contourcarpet": [
           {
            "colorbar": {
             "outlinewidth": 0,
             "ticks": ""
            },
            "type": "contourcarpet"
           }
          ],
          "heatmap": [
           {
            "colorbar": {
             "outlinewidth": 0,
             "ticks": ""
            },
            "colorscale": [
             [
              0,
              "#0d0887"
             ],
             [
              0.1111111111111111,
              "#46039f"
             ],
             [
              0.2222222222222222,
              "#7201a8"
             ],
             [
              0.3333333333333333,
              "#9c179e"
             ],
             [
              0.4444444444444444,
              "#bd3786"
             ],
             [
              0.5555555555555556,
              "#d8576b"
             ],
             [
              0.6666666666666666,
              "#ed7953"
             ],
             [
              0.7777777777777778,
              "#fb9f3a"
             ],
             [
              0.8888888888888888,
              "#fdca26"
             ],
             [
              1,
              "#f0f921"
             ]
            ],
            "type": "heatmap"
           }
          ],
          "heatmapgl": [
           {
            "colorbar": {
             "outlinewidth": 0,
             "ticks": ""
            },
            "colorscale": [
             [
              0,
              "#0d0887"
             ],
             [
              0.1111111111111111,
              "#46039f"
             ],
             [
              0.2222222222222222,
              "#7201a8"
             ],
             [
              0.3333333333333333,
              "#9c179e"
             ],
             [
              0.4444444444444444,
              "#bd3786"
             ],
             [
              0.5555555555555556,
              "#d8576b"
             ],
             [
              0.6666666666666666,
              "#ed7953"
             ],
             [
              0.7777777777777778,
              "#fb9f3a"
             ],
             [
              0.8888888888888888,
              "#fdca26"
             ],
             [
              1,
              "#f0f921"
             ]
            ],
            "type": "heatmapgl"
           }
          ],
          "histogram": [
           {
            "marker": {
             "pattern": {
              "fillmode": "overlay",
              "size": 10,
              "solidity": 0.2
             }
            },
            "type": "histogram"
           }
          ],
          "histogram2d": [
           {
            "colorbar": {
             "outlinewidth": 0,
             "ticks": ""
            },
            "colorscale": [
             [
              0,
              "#0d0887"
             ],
             [
              0.1111111111111111,
              "#46039f"
             ],
             [
              0.2222222222222222,
              "#7201a8"
             ],
             [
              0.3333333333333333,
              "#9c179e"
             ],
             [
              0.4444444444444444,
              "#bd3786"
             ],
             [
              0.5555555555555556,
              "#d8576b"
             ],
             [
              0.6666666666666666,
              "#ed7953"
             ],
             [
              0.7777777777777778,
              "#fb9f3a"
             ],
             [
              0.8888888888888888,
              "#fdca26"
             ],
             [
              1,
              "#f0f921"
             ]
            ],
            "type": "histogram2d"
           }
          ],
          "histogram2dcontour": [
           {
            "colorbar": {
             "outlinewidth": 0,
             "ticks": ""
            },
            "colorscale": [
             [
              0,
              "#0d0887"
             ],
             [
              0.1111111111111111,
              "#46039f"
             ],
             [
              0.2222222222222222,
              "#7201a8"
             ],
             [
              0.3333333333333333,
              "#9c179e"
             ],
             [
              0.4444444444444444,
              "#bd3786"
             ],
             [
              0.5555555555555556,
              "#d8576b"
             ],
             [
              0.6666666666666666,
              "#ed7953"
             ],
             [
              0.7777777777777778,
              "#fb9f3a"
             ],
             [
              0.8888888888888888,
              "#fdca26"
             ],
             [
              1,
              "#f0f921"
             ]
            ],
            "type": "histogram2dcontour"
           }
          ],
          "mesh3d": [
           {
            "colorbar": {
             "outlinewidth": 0,
             "ticks": ""
            },
            "type": "mesh3d"
           }
          ],
          "parcoords": [
           {
            "line": {
             "colorbar": {
              "outlinewidth": 0,
              "ticks": ""
             }
            },
            "type": "parcoords"
           }
          ],
          "pie": [
           {
            "automargin": true,
            "type": "pie"
           }
          ],
          "scatter": [
           {
            "marker": {
             "colorbar": {
              "outlinewidth": 0,
              "ticks": ""
             }
            },
            "type": "scatter"
           }
          ],
          "scatter3d": [
           {
            "line": {
             "colorbar": {
              "outlinewidth": 0,
              "ticks": ""
             }
            },
            "marker": {
             "colorbar": {
              "outlinewidth": 0,
              "ticks": ""
             }
            },
            "type": "scatter3d"
           }
          ],
          "scattercarpet": [
           {
            "marker": {
             "colorbar": {
              "outlinewidth": 0,
              "ticks": ""
             }
            },
            "type": "scattercarpet"
           }
          ],
          "scattergeo": [
           {
            "marker": {
             "colorbar": {
              "outlinewidth": 0,
              "ticks": ""
             }
            },
            "type": "scattergeo"
           }
          ],
          "scattergl": [
           {
            "marker": {
             "colorbar": {
              "outlinewidth": 0,
              "ticks": ""
             }
            },
            "type": "scattergl"
           }
          ],
          "scattermapbox": [
           {
            "marker": {
             "colorbar": {
              "outlinewidth": 0,
              "ticks": ""
             }
            },
            "type": "scattermapbox"
           }
          ],
          "scatterpolar": [
           {
            "marker": {
             "colorbar": {
              "outlinewidth": 0,
              "ticks": ""
             }
            },
            "type": "scatterpolar"
           }
          ],
          "scatterpolargl": [
           {
            "marker": {
             "colorbar": {
              "outlinewidth": 0,
              "ticks": ""
             }
            },
            "type": "scatterpolargl"
           }
          ],
          "scatterternary": [
           {
            "marker": {
             "colorbar": {
              "outlinewidth": 0,
              "ticks": ""
             }
            },
            "type": "scatterternary"
           }
          ],
          "surface": [
           {
            "colorbar": {
             "outlinewidth": 0,
             "ticks": ""
            },
            "colorscale": [
             [
              0,
              "#0d0887"
             ],
             [
              0.1111111111111111,
              "#46039f"
             ],
             [
              0.2222222222222222,
              "#7201a8"
             ],
             [
              0.3333333333333333,
              "#9c179e"
             ],
             [
              0.4444444444444444,
              "#bd3786"
             ],
             [
              0.5555555555555556,
              "#d8576b"
             ],
             [
              0.6666666666666666,
              "#ed7953"
             ],
             [
              0.7777777777777778,
              "#fb9f3a"
             ],
             [
              0.8888888888888888,
              "#fdca26"
             ],
             [
              1,
              "#f0f921"
             ]
            ],
            "type": "surface"
           }
          ],
          "table": [
           {
            "cells": {
             "fill": {
              "color": "#EBF0F8"
             },
             "line": {
              "color": "white"
             }
            },
            "header": {
             "fill": {
              "color": "#C8D4E3"
             },
             "line": {
              "color": "white"
             }
            },
            "type": "table"
           }
          ]
         },
         "layout": {
          "annotationdefaults": {
           "arrowcolor": "#2a3f5f",
           "arrowhead": 0,
           "arrowwidth": 1
          },
          "autotypenumbers": "strict",
          "coloraxis": {
           "colorbar": {
            "outlinewidth": 0,
            "ticks": ""
           }
          },
          "colorscale": {
           "diverging": [
            [
             0,
             "#8e0152"
            ],
            [
             0.1,
             "#c51b7d"
            ],
            [
             0.2,
             "#de77ae"
            ],
            [
             0.3,
             "#f1b6da"
            ],
            [
             0.4,
             "#fde0ef"
            ],
            [
             0.5,
             "#f7f7f7"
            ],
            [
             0.6,
             "#e6f5d0"
            ],
            [
             0.7,
             "#b8e186"
            ],
            [
             0.8,
             "#7fbc41"
            ],
            [
             0.9,
             "#4d9221"
            ],
            [
             1,
             "#276419"
            ]
           ],
           "sequential": [
            [
             0,
             "#0d0887"
            ],
            [
             0.1111111111111111,
             "#46039f"
            ],
            [
             0.2222222222222222,
             "#7201a8"
            ],
            [
             0.3333333333333333,
             "#9c179e"
            ],
            [
             0.4444444444444444,
             "#bd3786"
            ],
            [
             0.5555555555555556,
             "#d8576b"
            ],
            [
             0.6666666666666666,
             "#ed7953"
            ],
            [
             0.7777777777777778,
             "#fb9f3a"
            ],
            [
             0.8888888888888888,
             "#fdca26"
            ],
            [
             1,
             "#f0f921"
            ]
           ],
           "sequentialminus": [
            [
             0,
             "#0d0887"
            ],
            [
             0.1111111111111111,
             "#46039f"
            ],
            [
             0.2222222222222222,
             "#7201a8"
            ],
            [
             0.3333333333333333,
             "#9c179e"
            ],
            [
             0.4444444444444444,
             "#bd3786"
            ],
            [
             0.5555555555555556,
             "#d8576b"
            ],
            [
             0.6666666666666666,
             "#ed7953"
            ],
            [
             0.7777777777777778,
             "#fb9f3a"
            ],
            [
             0.8888888888888888,
             "#fdca26"
            ],
            [
             1,
             "#f0f921"
            ]
           ]
          },
          "colorway": [
           "#636efa",
           "#EF553B",
           "#00cc96",
           "#ab63fa",
           "#FFA15A",
           "#19d3f3",
           "#FF6692",
           "#B6E880",
           "#FF97FF",
           "#FECB52"
          ],
          "font": {
           "color": "#2a3f5f"
          },
          "geo": {
           "bgcolor": "white",
           "lakecolor": "white",
           "landcolor": "#E5ECF6",
           "showlakes": true,
           "showland": true,
           "subunitcolor": "white"
          },
          "hoverlabel": {
           "align": "left"
          },
          "hovermode": "closest",
          "mapbox": {
           "style": "light"
          },
          "paper_bgcolor": "white",
          "plot_bgcolor": "#E5ECF6",
          "polar": {
           "angularaxis": {
            "gridcolor": "white",
            "linecolor": "white",
            "ticks": ""
           },
           "bgcolor": "#E5ECF6",
           "radialaxis": {
            "gridcolor": "white",
            "linecolor": "white",
            "ticks": ""
           }
          },
          "scene": {
           "xaxis": {
            "backgroundcolor": "#E5ECF6",
            "gridcolor": "white",
            "gridwidth": 2,
            "linecolor": "white",
            "showbackground": true,
            "ticks": "",
            "zerolinecolor": "white"
           },
           "yaxis": {
            "backgroundcolor": "#E5ECF6",
            "gridcolor": "white",
            "gridwidth": 2,
            "linecolor": "white",
            "showbackground": true,
            "ticks": "",
            "zerolinecolor": "white"
           },
           "zaxis": {
            "backgroundcolor": "#E5ECF6",
            "gridcolor": "white",
            "gridwidth": 2,
            "linecolor": "white",
            "showbackground": true,
            "ticks": "",
            "zerolinecolor": "white"
           }
          },
          "shapedefaults": {
           "line": {
            "color": "#2a3f5f"
           }
          },
          "ternary": {
           "aaxis": {
            "gridcolor": "white",
            "linecolor": "white",
            "ticks": ""
           },
           "baxis": {
            "gridcolor": "white",
            "linecolor": "white",
            "ticks": ""
           },
           "bgcolor": "#E5ECF6",
           "caxis": {
            "gridcolor": "white",
            "linecolor": "white",
            "ticks": ""
           }
          },
          "title": {
           "x": 0.05
          },
          "xaxis": {
           "automargin": true,
           "gridcolor": "white",
           "linecolor": "white",
           "ticks": "",
           "title": {
            "standoff": 15
           },
           "zerolinecolor": "white",
           "zerolinewidth": 2
          },
          "yaxis": {
           "automargin": true,
           "gridcolor": "white",
           "linecolor": "white",
           "ticks": "",
           "title": {
            "standoff": 15
           },
           "zerolinecolor": "white",
           "zerolinewidth": 2
          }
         }
        },
        "xaxis": {
         "anchor": "y",
         "domain": [
          0,
          1
         ],
         "range": [
          "2022-04-10T03:00:00",
          "2022-04-18T00:00:00"
         ]
        },
        "xaxis2": {
         "anchor": "y2",
         "domain": [
          0,
          1
         ],
         "range": [
          "2022-04-10T03:00:00",
          "2022-04-18T00:00:00"
         ]
        },
        "yaxis": {
         "anchor": "x",
         "domain": [
          0.405,
          1
         ],
         "range": [
          -10,
          30
         ],
         "title": {
          "text": "Wind Speed(knots)"
         }
        },
        "yaxis2": {
         "anchor": "x2",
         "domain": [
          0,
          0.255
         ],
         "title": {
          "text": "Strandings Projected"
         }
        }
       }
      },
      "text/html": [
       "<div>                            <div id=\"a96ae47f-6345-4785-abd4-176fe1f385c2\" class=\"plotly-graph-div\" style=\"height:525px; width:100%;\"></div>            <script type=\"text/javascript\">                require([\"plotly\"], function(Plotly) {                    window.PLOTLYENV=window.PLOTLYENV || {};                                    if (document.getElementById(\"a96ae47f-6345-4785-abd4-176fe1f385c2\")) {                    Plotly.newPlot(                        \"a96ae47f-6345-4785-abd4-176fe1f385c2\",                        [{\"name\":\"Wind Speed (knots)\",\"visible\":true,\"x\":[\"2022-04-09T00:00:00\",\"2022-04-09T03:00:00\",\"2022-04-09T06:00:00\",\"2022-04-09T09:00:00\",\"2022-04-09T12:00:00\",\"2022-04-09T15:00:00\",\"2022-04-09T18:00:00\",\"2022-04-09T21:00:00\",\"2022-04-10T00:00:00\",\"2022-04-10T03:00:00\",\"2022-04-10T06:00:00\",\"2022-04-10T09:00:00\",\"2022-04-10T12:00:00\",\"2022-04-10T15:00:00\",\"2022-04-10T18:00:00\",\"2022-04-10T21:00:00\",\"2022-04-11T00:00:00\",\"2022-04-11T03:00:00\",\"2022-04-11T06:00:00\",\"2022-04-11T09:00:00\",\"2022-04-11T12:00:00\",\"2022-04-11T15:00:00\",\"2022-04-11T18:00:00\",\"2022-04-11T21:00:00\",\"2022-04-12T00:00:00\",\"2022-04-12T03:00:00\",\"2022-04-12T06:00:00\",\"2022-04-12T09:00:00\",\"2022-04-12T12:00:00\",\"2022-04-12T15:00:00\",\"2022-04-12T18:00:00\",\"2022-04-12T21:00:00\",\"2022-04-13T00:00:00\",\"2022-04-13T03:00:00\",\"2022-04-13T06:00:00\",\"2022-04-13T09:00:00\",\"2022-04-13T12:00:00\",\"2022-04-13T15:00:00\",\"2022-04-13T18:00:00\",\"2022-04-13T21:00:00\",\"2022-04-14T00:00:00\",\"2022-04-14T03:00:00\",\"2022-04-14T06:00:00\",\"2022-04-14T09:00:00\",\"2022-04-14T12:00:00\",\"2022-04-14T15:00:00\",\"2022-04-14T18:00:00\",\"2022-04-14T21:00:00\",\"2022-04-15T00:00:00\",\"2022-04-15T03:00:00\",\"2022-04-15T06:00:00\",\"2022-04-15T09:00:00\",\"2022-04-15T12:00:00\",\"2022-04-15T15:00:00\",\"2022-04-15T18:00:00\",\"2022-04-15T21:00:00\",\"2022-04-16T00:00:00\",\"2022-04-16T03:00:00\",\"2022-04-16T06:00:00\",\"2022-04-16T09:00:00\",\"2022-04-16T12:00:00\",\"2022-04-16T15:00:00\",\"2022-04-16T18:00:00\",\"2022-04-16T21:00:00\",\"2022-04-17T00:00:00\",\"2022-04-17T03:00:00\",\"2022-04-17T06:00:00\",\"2022-04-17T09:00:00\",\"2022-04-17T12:00:00\",\"2022-04-17T15:00:00\",\"2022-04-17T18:00:00\",\"2022-04-17T21:00:00\",\"2022-04-18T00:00:00\"],\"y\":[13.652205467224121,12.135433197021484,10.862696647644043,13.103896141052246,14.36566162109375,12.164571762084961,11.226287841796875,13.668989181518555,10.69832992553711,14.559285163879395,16.855161666870117,19.03827476501465,18.519187927246094,17.644084930419922,17.171432495117188,16.831418991088867,15.326519012451172,14.532148361206055,15.324624061584473,16.439559936523438,17.76800537109375,19.135244369506836,18.7889461517334,17.28059959411621,17.271547317504883,17.241243362426758,18.583328247070312,21.872892379760742,23.23392105102539,21.750654220581055,21.159513473510742,23.089702606201172,21.35525131225586,20.53618049621582,18.00383758544922,20.65821075439453,17.17902946472168,13.060846328735352,9.320243835449219,9.92712116241455,10.288065910339355,10.099433898925781,2.8624305725097656,0.07449324429035187,3.3660027980804443,1.2946622371673584,2.907503843307495,3.726440668106079,5.5714006423950195,10.109868049621582,12.701534271240234,18.293630599975586,21.069150924682617,20.076025009155273,22.365976333618164,13.405688285827637,8.244256973266602,4.111220836639404,9.323771476745605,10.017874717712402,14.800992965698242,16.733816146850586,16.332651138305664,14.132333755493164,19.217018127441406,21.020540237426758,19.321977615356445,20.039777755737305,19.931842803955078,22.808704376220703,24.928646087646484,25.354148864746094,27.6793212890625],\"type\":\"scatter\",\"xaxis\":\"x\",\"yaxis\":\"y\"},{\"marker\":{\"color\":\"grey\",\"size\":10},\"mode\":\"markers\",\"name\":\"Insufficent data\",\"visible\":true,\"x\":[\"2022-04-08T00:00:00.000000000\",\"2022-04-09T00:00:00.000000000\",\"2022-04-10T00:00:00.000000000\",\"2022-04-11T00:00:00.000000000\",\"2022-04-17T00:00:00.000000000\"],\"y\":[-0.5,-0.5,-0.5,-0.5,-0.5],\"type\":\"scatter\",\"xaxis\":\"x2\",\"yaxis\":\"y2\"},{\"marker\":{\"color\":\"green\",\"size\":10},\"mode\":\"markers\",\"name\":\"Stranding Unlikely\",\"visible\":true,\"x\":[\"2022-04-12T00:00:00.000000000\",\"2022-04-15T00:00:00.000000000\",\"2022-04-16T00:00:00.000000000\"],\"y\":[0.35,0.46,0.35],\"type\":\"scatter\",\"xaxis\":\"x2\",\"yaxis\":\"y2\"},{\"marker\":{\"color\":\"yellow\",\"size\":10},\"mode\":\"markers\",\"name\":\"Stranding Possible\",\"visible\":true,\"x\":[\"2022-04-13T00:00:00.000000000\"],\"y\":[0.66],\"type\":\"scatter\",\"xaxis\":\"x2\",\"yaxis\":\"y2\"},{\"marker\":{\"color\":\"red\",\"size\":10},\"mode\":\"markers\",\"name\":\"Stranding Likely\",\"visible\":true,\"x\":[\"2022-04-14T00:00:00.000000000\"],\"y\":[5.11],\"type\":\"scatter\",\"xaxis\":\"x2\",\"yaxis\":\"y2\"}],                        {\"template\":{\"data\":{\"bar\":[{\"error_x\":{\"color\":\"#2a3f5f\"},\"error_y\":{\"color\":\"#2a3f5f\"},\"marker\":{\"line\":{\"color\":\"#E5ECF6\",\"width\":0.5},\"pattern\":{\"fillmode\":\"overlay\",\"size\":10,\"solidity\":0.2}},\"type\":\"bar\"}],\"barpolar\":[{\"marker\":{\"line\":{\"color\":\"#E5ECF6\",\"width\":0.5},\"pattern\":{\"fillmode\":\"overlay\",\"size\":10,\"solidity\":0.2}},\"type\":\"barpolar\"}],\"carpet\":[{\"aaxis\":{\"endlinecolor\":\"#2a3f5f\",\"gridcolor\":\"white\",\"linecolor\":\"white\",\"minorgridcolor\":\"white\",\"startlinecolor\":\"#2a3f5f\"},\"baxis\":{\"endlinecolor\":\"#2a3f5f\",\"gridcolor\":\"white\",\"linecolor\":\"white\",\"minorgridcolor\":\"white\",\"startlinecolor\":\"#2a3f5f\"},\"type\":\"carpet\"}],\"choropleth\":[{\"colorbar\":{\"outlinewidth\":0,\"ticks\":\"\"},\"type\":\"choropleth\"}],\"contour\":[{\"colorbar\":{\"outlinewidth\":0,\"ticks\":\"\"},\"colorscale\":[[0.0,\"#0d0887\"],[0.1111111111111111,\"#46039f\"],[0.2222222222222222,\"#7201a8\"],[0.3333333333333333,\"#9c179e\"],[0.4444444444444444,\"#bd3786\"],[0.5555555555555556,\"#d8576b\"],[0.6666666666666666,\"#ed7953\"],[0.7777777777777778,\"#fb9f3a\"],[0.8888888888888888,\"#fdca26\"],[1.0,\"#f0f921\"]],\"type\":\"contour\"}],\"contourcarpet\":[{\"colorbar\":{\"outlinewidth\":0,\"ticks\":\"\"},\"type\":\"contourcarpet\"}],\"heatmap\":[{\"colorbar\":{\"outlinewidth\":0,\"ticks\":\"\"},\"colorscale\":[[0.0,\"#0d0887\"],[0.1111111111111111,\"#46039f\"],[0.2222222222222222,\"#7201a8\"],[0.3333333333333333,\"#9c179e\"],[0.4444444444444444,\"#bd3786\"],[0.5555555555555556,\"#d8576b\"],[0.6666666666666666,\"#ed7953\"],[0.7777777777777778,\"#fb9f3a\"],[0.8888888888888888,\"#fdca26\"],[1.0,\"#f0f921\"]],\"type\":\"heatmap\"}],\"heatmapgl\":[{\"colorbar\":{\"outlinewidth\":0,\"ticks\":\"\"},\"colorscale\":[[0.0,\"#0d0887\"],[0.1111111111111111,\"#46039f\"],[0.2222222222222222,\"#7201a8\"],[0.3333333333333333,\"#9c179e\"],[0.4444444444444444,\"#bd3786\"],[0.5555555555555556,\"#d8576b\"],[0.6666666666666666,\"#ed7953\"],[0.7777777777777778,\"#fb9f3a\"],[0.8888888888888888,\"#fdca26\"],[1.0,\"#f0f921\"]],\"type\":\"heatmapgl\"}],\"histogram\":[{\"marker\":{\"pattern\":{\"fillmode\":\"overlay\",\"size\":10,\"solidity\":0.2}},\"type\":\"histogram\"}],\"histogram2d\":[{\"colorbar\":{\"outlinewidth\":0,\"ticks\":\"\"},\"colorscale\":[[0.0,\"#0d0887\"],[0.1111111111111111,\"#46039f\"],[0.2222222222222222,\"#7201a8\"],[0.3333333333333333,\"#9c179e\"],[0.4444444444444444,\"#bd3786\"],[0.5555555555555556,\"#d8576b\"],[0.6666666666666666,\"#ed7953\"],[0.7777777777777778,\"#fb9f3a\"],[0.8888888888888888,\"#fdca26\"],[1.0,\"#f0f921\"]],\"type\":\"histogram2d\"}],\"histogram2dcontour\":[{\"colorbar\":{\"outlinewidth\":0,\"ticks\":\"\"},\"colorscale\":[[0.0,\"#0d0887\"],[0.1111111111111111,\"#46039f\"],[0.2222222222222222,\"#7201a8\"],[0.3333333333333333,\"#9c179e\"],[0.4444444444444444,\"#bd3786\"],[0.5555555555555556,\"#d8576b\"],[0.6666666666666666,\"#ed7953\"],[0.7777777777777778,\"#fb9f3a\"],[0.8888888888888888,\"#fdca26\"],[1.0,\"#f0f921\"]],\"type\":\"histogram2dcontour\"}],\"mesh3d\":[{\"colorbar\":{\"outlinewidth\":0,\"ticks\":\"\"},\"type\":\"mesh3d\"}],\"parcoords\":[{\"line\":{\"colorbar\":{\"outlinewidth\":0,\"ticks\":\"\"}},\"type\":\"parcoords\"}],\"pie\":[{\"automargin\":true,\"type\":\"pie\"}],\"scatter\":[{\"marker\":{\"colorbar\":{\"outlinewidth\":0,\"ticks\":\"\"}},\"type\":\"scatter\"}],\"scatter3d\":[{\"line\":{\"colorbar\":{\"outlinewidth\":0,\"ticks\":\"\"}},\"marker\":{\"colorbar\":{\"outlinewidth\":0,\"ticks\":\"\"}},\"type\":\"scatter3d\"}],\"scattercarpet\":[{\"marker\":{\"colorbar\":{\"outlinewidth\":0,\"ticks\":\"\"}},\"type\":\"scattercarpet\"}],\"scattergeo\":[{\"marker\":{\"colorbar\":{\"outlinewidth\":0,\"ticks\":\"\"}},\"type\":\"scattergeo\"}],\"scattergl\":[{\"marker\":{\"colorbar\":{\"outlinewidth\":0,\"ticks\":\"\"}},\"type\":\"scattergl\"}],\"scattermapbox\":[{\"marker\":{\"colorbar\":{\"outlinewidth\":0,\"ticks\":\"\"}},\"type\":\"scattermapbox\"}],\"scatterpolar\":[{\"marker\":{\"colorbar\":{\"outlinewidth\":0,\"ticks\":\"\"}},\"type\":\"scatterpolar\"}],\"scatterpolargl\":[{\"marker\":{\"colorbar\":{\"outlinewidth\":0,\"ticks\":\"\"}},\"type\":\"scatterpolargl\"}],\"scatterternary\":[{\"marker\":{\"colorbar\":{\"outlinewidth\":0,\"ticks\":\"\"}},\"type\":\"scatterternary\"}],\"surface\":[{\"colorbar\":{\"outlinewidth\":0,\"ticks\":\"\"},\"colorscale\":[[0.0,\"#0d0887\"],[0.1111111111111111,\"#46039f\"],[0.2222222222222222,\"#7201a8\"],[0.3333333333333333,\"#9c179e\"],[0.4444444444444444,\"#bd3786\"],[0.5555555555555556,\"#d8576b\"],[0.6666666666666666,\"#ed7953\"],[0.7777777777777778,\"#fb9f3a\"],[0.8888888888888888,\"#fdca26\"],[1.0,\"#f0f921\"]],\"type\":\"surface\"}],\"table\":[{\"cells\":{\"fill\":{\"color\":\"#EBF0F8\"},\"line\":{\"color\":\"white\"}},\"header\":{\"fill\":{\"color\":\"#C8D4E3\"},\"line\":{\"color\":\"white\"}},\"type\":\"table\"}]},\"layout\":{\"annotationdefaults\":{\"arrowcolor\":\"#2a3f5f\",\"arrowhead\":0,\"arrowwidth\":1},\"autotypenumbers\":\"strict\",\"coloraxis\":{\"colorbar\":{\"outlinewidth\":0,\"ticks\":\"\"}},\"colorscale\":{\"diverging\":[[0,\"#8e0152\"],[0.1,\"#c51b7d\"],[0.2,\"#de77ae\"],[0.3,\"#f1b6da\"],[0.4,\"#fde0ef\"],[0.5,\"#f7f7f7\"],[0.6,\"#e6f5d0\"],[0.7,\"#b8e186\"],[0.8,\"#7fbc41\"],[0.9,\"#4d9221\"],[1,\"#276419\"]],\"sequential\":[[0.0,\"#0d0887\"],[0.1111111111111111,\"#46039f\"],[0.2222222222222222,\"#7201a8\"],[0.3333333333333333,\"#9c179e\"],[0.4444444444444444,\"#bd3786\"],[0.5555555555555556,\"#d8576b\"],[0.6666666666666666,\"#ed7953\"],[0.7777777777777778,\"#fb9f3a\"],[0.8888888888888888,\"#fdca26\"],[1.0,\"#f0f921\"]],\"sequentialminus\":[[0.0,\"#0d0887\"],[0.1111111111111111,\"#46039f\"],[0.2222222222222222,\"#7201a8\"],[0.3333333333333333,\"#9c179e\"],[0.4444444444444444,\"#bd3786\"],[0.5555555555555556,\"#d8576b\"],[0.6666666666666666,\"#ed7953\"],[0.7777777777777778,\"#fb9f3a\"],[0.8888888888888888,\"#fdca26\"],[1.0,\"#f0f921\"]]},\"colorway\":[\"#636efa\",\"#EF553B\",\"#00cc96\",\"#ab63fa\",\"#FFA15A\",\"#19d3f3\",\"#FF6692\",\"#B6E880\",\"#FF97FF\",\"#FECB52\"],\"font\":{\"color\":\"#2a3f5f\"},\"geo\":{\"bgcolor\":\"white\",\"lakecolor\":\"white\",\"landcolor\":\"#E5ECF6\",\"showlakes\":true,\"showland\":true,\"subunitcolor\":\"white\"},\"hoverlabel\":{\"align\":\"left\"},\"hovermode\":\"closest\",\"mapbox\":{\"style\":\"light\"},\"paper_bgcolor\":\"white\",\"plot_bgcolor\":\"#E5ECF6\",\"polar\":{\"angularaxis\":{\"gridcolor\":\"white\",\"linecolor\":\"white\",\"ticks\":\"\"},\"bgcolor\":\"#E5ECF6\",\"radialaxis\":{\"gridcolor\":\"white\",\"linecolor\":\"white\",\"ticks\":\"\"}},\"scene\":{\"xaxis\":{\"backgroundcolor\":\"#E5ECF6\",\"gridcolor\":\"white\",\"gridwidth\":2,\"linecolor\":\"white\",\"showbackground\":true,\"ticks\":\"\",\"zerolinecolor\":\"white\"},\"yaxis\":{\"backgroundcolor\":\"#E5ECF6\",\"gridcolor\":\"white\",\"gridwidth\":2,\"linecolor\":\"white\",\"showbackground\":true,\"ticks\":\"\",\"zerolinecolor\":\"white\"},\"zaxis\":{\"backgroundcolor\":\"#E5ECF6\",\"gridcolor\":\"white\",\"gridwidth\":2,\"linecolor\":\"white\",\"showbackground\":true,\"ticks\":\"\",\"zerolinecolor\":\"white\"}},\"shapedefaults\":{\"line\":{\"color\":\"#2a3f5f\"}},\"ternary\":{\"aaxis\":{\"gridcolor\":\"white\",\"linecolor\":\"white\",\"ticks\":\"\"},\"baxis\":{\"gridcolor\":\"white\",\"linecolor\":\"white\",\"ticks\":\"\"},\"bgcolor\":\"#E5ECF6\",\"caxis\":{\"gridcolor\":\"white\",\"linecolor\":\"white\",\"ticks\":\"\"}},\"title\":{\"x\":0.05},\"xaxis\":{\"automargin\":true,\"gridcolor\":\"white\",\"linecolor\":\"white\",\"ticks\":\"\",\"title\":{\"standoff\":15},\"zerolinecolor\":\"white\",\"zerolinewidth\":2},\"yaxis\":{\"automargin\":true,\"gridcolor\":\"white\",\"linecolor\":\"white\",\"ticks\":\"\",\"title\":{\"standoff\":15},\"zerolinecolor\":\"white\",\"zerolinewidth\":2}}},\"xaxis\":{\"anchor\":\"y\",\"domain\":[0.0,1.0],\"range\":[\"2022-04-10T03:00:00\",\"2022-04-18T00:00:00\"]},\"yaxis\":{\"anchor\":\"x\",\"domain\":[0.405,1.0],\"range\":[-10,30],\"title\":{\"text\":\"Wind Speed(knots)\"}},\"xaxis2\":{\"anchor\":\"y2\",\"domain\":[0.0,1.0],\"range\":[\"2022-04-10T03:00:00\",\"2022-04-18T00:00:00\"]},\"yaxis2\":{\"anchor\":\"x2\",\"domain\":[0.0,0.255],\"title\":{\"text\":\"Strandings Projected\"}},\"annotations\":[{\"arrowhead\":2,\"arrowsize\":1,\"arrowwidth\":1.4,\"ax\":16.939360250746688,\"axref\":\"pixel\",\"ay\":18.386355655632876,\"ayref\":\"pixel\",\"visible\":true,\"x\":\"2022-04-09T00:00:00\",\"xanchor\":\"left\",\"xref\":\"x\",\"y\":-5,\"yanchor\":\"bottom\",\"yref\":\"y\"},{\"arrowhead\":2,\"arrowsize\":1,\"arrowwidth\":1.4,\"ax\":12.377992129438166,\"axref\":\"pixel\",\"ay\":21.720619485722935,\"ayref\":\"pixel\",\"visible\":true,\"x\":\"2022-04-09T06:00:00\",\"xanchor\":\"left\",\"xref\":\"x\",\"y\":-5,\"yanchor\":\"bottom\",\"yref\":\"y\"},{\"arrowhead\":2,\"arrowsize\":1,\"arrowwidth\":1.4,\"ax\":11.915275166543966,\"axref\":\"pixel\",\"ay\":21.977857441196143,\"ayref\":\"pixel\",\"visible\":true,\"x\":\"2022-04-09T12:00:00\",\"xanchor\":\"left\",\"xref\":\"x\",\"y\":-5,\"yanchor\":\"bottom\",\"yref\":\"y\"},{\"arrowhead\":2,\"arrowsize\":1,\"arrowwidth\":1.4,\"ax\":18.715632066002005,\"axref\":\"pixel\",\"ay\":16.574833826317462,\"ayref\":\"pixel\",\"visible\":true,\"x\":\"2022-04-09T18:00:00\",\"xanchor\":\"left\",\"xref\":\"x\",\"y\":-5,\"yanchor\":\"bottom\",\"yref\":\"y\"},{\"arrowhead\":2,\"arrowsize\":1,\"arrowwidth\":1.4,\"ax\":23.15506402763452,\"axref\":\"pixel\",\"ay\":9.425656999708073,\"ayref\":\"pixel\",\"visible\":true,\"x\":\"2022-04-10T00:00:00\",\"xanchor\":\"left\",\"xref\":\"x\",\"y\":-5,\"yanchor\":\"bottom\",\"yref\":\"y\"},{\"arrowhead\":2,\"arrowsize\":1,\"arrowwidth\":1.4,\"ax\":23.954588511602275,\"axref\":\"pixel\",\"ay\":7.153858346361928,\"ayref\":\"pixel\",\"visible\":true,\"x\":\"2022-04-10T06:00:00\",\"xanchor\":\"left\",\"xref\":\"x\",\"y\":-5,\"yanchor\":\"bottom\",\"yref\":\"y\"},{\"arrowhead\":2,\"arrowsize\":1,\"arrowwidth\":1.4,\"ax\":24.408802923881176,\"axref\":\"pixel\",\"ay\":5.404659084820224,\"ayref\":\"pixel\",\"visible\":true,\"x\":\"2022-04-10T12:00:00\",\"xanchor\":\"left\",\"xref\":\"x\",\"y\":-5,\"yanchor\":\"bottom\",\"yref\":\"y\"},{\"arrowhead\":2,\"arrowsize\":1,\"arrowwidth\":1.4,\"ax\":24.85560244373179,\"axref\":\"pixel\",\"ay\":2.6831002886873896,\"ayref\":\"pixel\",\"visible\":true,\"x\":\"2022-04-10T18:00:00\",\"xanchor\":\"left\",\"xref\":\"x\",\"y\":-5,\"yanchor\":\"bottom\",\"yref\":\"y\"},{\"arrowhead\":2,\"arrowsize\":1,\"arrowwidth\":1.4,\"ax\":24.43185219279556,\"axref\":\"pixel\",\"ay\":5.2994903933671695,\"ayref\":\"pixel\",\"visible\":true,\"x\":\"2022-04-11T00:00:00\",\"xanchor\":\"left\",\"xref\":\"x\",\"y\":-5,\"yanchor\":\"bottom\",\"yref\":\"y\"},{\"arrowhead\":2,\"arrowsize\":1,\"arrowwidth\":1.4,\"ax\":24.886326775292478,\"axref\":\"pixel\",\"ay\":2.3813314833010466,\"ayref\":\"pixel\",\"visible\":true,\"x\":\"2022-04-11T06:00:00\",\"xanchor\":\"left\",\"xref\":\"x\",\"y\":-5,\"yanchor\":\"bottom\",\"yref\":\"y\"},{\"arrowhead\":2,\"arrowsize\":1,\"arrowwidth\":1.4,\"ax\":24.70010077308976,\"axref\":\"pixel\",\"ay\":3.860702241718552,\"ayref\":\"pixel\",\"visible\":true,\"x\":\"2022-04-11T12:00:00\",\"xanchor\":\"left\",\"xref\":\"x\",\"y\":-5,\"yanchor\":\"bottom\",\"yref\":\"y\"},{\"arrowhead\":2,\"arrowsize\":1,\"arrowwidth\":1.4,\"ax\":24.56501539693395,\"axref\":\"pixel\",\"ay\":-4.643276703837272,\"ayref\":\"pixel\",\"visible\":true,\"x\":\"2022-04-11T18:00:00\",\"xanchor\":\"left\",\"xref\":\"x\",\"y\":-5,\"yanchor\":\"bottom\",\"yref\":\"y\"},{\"arrowhead\":2,\"arrowsize\":1,\"arrowwidth\":1.4,\"ax\":24.995355482569494,\"axref\":\"pixel\",\"ay\":-0.48187581385994066,\"ayref\":\"pixel\",\"visible\":true,\"x\":\"2022-04-12T00:00:00\",\"xanchor\":\"left\",\"xref\":\"x\",\"y\":-5,\"yanchor\":\"bottom\",\"yref\":\"y\"},{\"arrowhead\":2,\"arrowsize\":1,\"arrowwidth\":1.4,\"ax\":24.985018629243466,\"axref\":\"pixel\",\"ay\":-0.865357785171516,\"ayref\":\"pixel\",\"visible\":true,\"x\":\"2022-04-12T06:00:00\",\"xanchor\":\"left\",\"xref\":\"x\",\"y\":-5,\"yanchor\":\"bottom\",\"yref\":\"y\"},{\"arrowhead\":2,\"arrowsize\":1,\"arrowwidth\":1.4,\"ax\":24.201452342042113,\"axref\":\"pixel\",\"ay\":-6.2681500090428806,\"ayref\":\"pixel\",\"visible\":true,\"x\":\"2022-04-12T12:00:00\",\"xanchor\":\"left\",\"xref\":\"x\",\"y\":-5,\"yanchor\":\"bottom\",\"yref\":\"y\"},{\"arrowhead\":2,\"arrowsize\":1,\"arrowwidth\":1.4,\"ax\":21.8783158225885,\"axref\":\"pixel\",\"ay\":-12.097078025997586,\"ayref\":\"pixel\",\"visible\":true,\"x\":\"2022-04-12T18:00:00\",\"xanchor\":\"left\",\"xref\":\"x\",\"y\":-5,\"yanchor\":\"bottom\",\"yref\":\"y\"},{\"arrowhead\":2,\"arrowsize\":1,\"arrowwidth\":1.4,\"ax\":22.7608574265055,\"axref\":\"pixel\",\"ay\":-10.341342717959284,\"ayref\":\"pixel\",\"visible\":true,\"x\":\"2022-04-13T00:00:00\",\"xanchor\":\"left\",\"xref\":\"x\",\"y\":-5,\"yanchor\":\"bottom\",\"yref\":\"y\"},{\"arrowhead\":2,\"arrowsize\":1,\"arrowwidth\":1.4,\"ax\":23.827332771253555,\"axref\":\"pixel\",\"ay\":-7.566915686588986,\"ayref\":\"pixel\",\"visible\":true,\"x\":\"2022-04-13T06:00:00\",\"xanchor\":\"left\",\"xref\":\"x\",\"y\":-5,\"yanchor\":\"bottom\",\"yref\":\"y\"},{\"arrowhead\":2,\"arrowsize\":1,\"arrowwidth\":1.4,\"ax\":23.884816351688404,\"axref\":\"pixel\",\"ay\":-7.383464488038002,\"ayref\":\"pixel\",\"visible\":true,\"x\":\"2022-04-13T12:00:00\",\"xanchor\":\"left\",\"xref\":\"x\",\"y\":-5,\"yanchor\":\"bottom\",\"yref\":\"y\"},{\"arrowhead\":2,\"arrowsize\":1,\"arrowwidth\":1.4,\"ax\":22.132962385834514,\"axref\":\"pixel\",\"ay\":-11.62462799521923,\"ayref\":\"pixel\",\"visible\":true,\"x\":\"2022-04-13T18:00:00\",\"xanchor\":\"left\",\"xref\":\"x\",\"y\":-5,\"yanchor\":\"bottom\",\"yref\":\"y\"},{\"arrowhead\":2,\"arrowsize\":1,\"arrowwidth\":1.4,\"ax\":24.419496559168692,\"axref\":\"pixel\",\"ay\":-5.356135528228193,\"ayref\":\"pixel\",\"visible\":true,\"x\":\"2022-04-14T00:00:00\",\"xanchor\":\"left\",\"xref\":\"x\",\"y\":-5,\"yanchor\":\"bottom\",\"yref\":\"y\"},{\"arrowhead\":2,\"arrowsize\":1,\"arrowwidth\":1.4,\"ax\":9.883587618535254,\"axref\":\"pixel\",\"ay\":-22.96333372545756,\"ayref\":\"pixel\",\"visible\":true,\"x\":\"2022-04-14T06:00:00\",\"xanchor\":\"left\",\"xref\":\"x\",\"y\":-5,\"yanchor\":\"bottom\",\"yref\":\"y\"},{\"arrowhead\":2,\"arrowsize\":1,\"arrowwidth\":1.4,\"ax\":24.306773784274828,\"axref\":\"pixel\",\"ay\":5.846430381017965,\"ayref\":\"pixel\",\"visible\":true,\"x\":\"2022-04-14T12:00:00\",\"xanchor\":\"left\",\"xref\":\"x\",\"y\":-5,\"yanchor\":\"bottom\",\"yref\":\"y\"},{\"arrowhead\":2,\"arrowsize\":1,\"arrowwidth\":1.4,\"ax\":24.45686714873162,\"axref\":\"pixel\",\"ay\":-5.182822519563244,\"ayref\":\"pixel\",\"visible\":true,\"x\":\"2022-04-14T18:00:00\",\"xanchor\":\"left\",\"xref\":\"x\",\"y\":-5,\"yanchor\":\"bottom\",\"yref\":\"y\"},{\"arrowhead\":2,\"arrowsize\":1,\"arrowwidth\":1.4,\"ax\":24.999049470503834,\"axref\":\"pixel\",\"ay\":-0.21800360387378825,\"ayref\":\"pixel\",\"visible\":true,\"x\":\"2022-04-15T00:00:00\",\"xanchor\":\"left\",\"xref\":\"x\",\"y\":-5,\"yanchor\":\"bottom\",\"yref\":\"y\"},{\"arrowhead\":2,\"arrowsize\":1,\"arrowwidth\":1.4,\"ax\":23.32201175051777,\"axref\":\"pixel\",\"ay\":-9.004652570127899,\"ayref\":\"pixel\",\"visible\":true,\"x\":\"2022-04-15T06:00:00\",\"xanchor\":\"left\",\"xref\":\"x\",\"y\":-5,\"yanchor\":\"bottom\",\"yref\":\"y\"},{\"arrowhead\":2,\"arrowsize\":1,\"arrowwidth\":1.4,\"ax\":24.160533901977963,\"axref\":\"pixel\",\"ay\":-6.424064256479191,\"ayref\":\"pixel\",\"visible\":true,\"x\":\"2022-04-15T12:00:00\",\"xanchor\":\"left\",\"xref\":\"x\",\"y\":-5,\"yanchor\":\"bottom\",\"yref\":\"y\"},{\"arrowhead\":2,\"arrowsize\":1,\"arrowwidth\":1.4,\"ax\":16.078940218991665,\"axref\":\"pixel\",\"ay\":-19.143345617579293,\"ayref\":\"pixel\",\"visible\":true,\"x\":\"2022-04-15T18:00:00\",\"xanchor\":\"left\",\"xref\":\"x\",\"y\":-5,\"yanchor\":\"bottom\",\"yref\":\"y\"},{\"arrowhead\":2,\"arrowsize\":1,\"arrowwidth\":1.4,\"ax\":13.894005216834945,\"axref\":\"pixel\",\"ay\":-20.78356608078997,\"ayref\":\"pixel\",\"visible\":true,\"x\":\"2022-04-16T00:00:00\",\"xanchor\":\"left\",\"xref\":\"x\",\"y\":-5,\"yanchor\":\"bottom\",\"yref\":\"y\"},{\"arrowhead\":2,\"arrowsize\":1,\"arrowwidth\":1.4,\"ax\":-23.82381570732837,\"axref\":\"pixel\",\"ay\":-7.577981600878557,\"ayref\":\"pixel\",\"visible\":true,\"x\":\"2022-04-16T06:00:00\",\"xanchor\":\"left\",\"xref\":\"x\",\"y\":-5,\"yanchor\":\"bottom\",\"yref\":\"y\"},{\"arrowhead\":2,\"arrowsize\":1,\"arrowwidth\":1.4,\"ax\":-8.598959794257564,\"axref\":\"pixel\",\"ay\":-23.474622264410176,\"ayref\":\"pixel\",\"visible\":true,\"x\":\"2022-04-16T12:00:00\",\"xanchor\":\"left\",\"xref\":\"x\",\"y\":-5,\"yanchor\":\"bottom\",\"yref\":\"y\"},{\"arrowhead\":2,\"arrowsize\":1,\"arrowwidth\":1.4,\"ax\":7.632430704089786,\"axref\":\"pixel\",\"ay\":-23.80642773595542,\"ayref\":\"pixel\",\"visible\":true,\"x\":\"2022-04-16T18:00:00\",\"xanchor\":\"left\",\"xref\":\"x\",\"y\":-5,\"yanchor\":\"bottom\",\"yref\":\"y\"},{\"arrowhead\":2,\"arrowsize\":1,\"arrowwidth\":1.4,\"ax\":15.30681648323014,\"axref\":\"pixel\",\"ay\":-19.766167285255733,\"ayref\":\"pixel\",\"visible\":true,\"x\":\"2022-04-17T00:00:00\",\"xanchor\":\"left\",\"xref\":\"x\",\"y\":-5,\"yanchor\":\"bottom\",\"yref\":\"y\"},{\"arrowhead\":2,\"arrowsize\":1,\"arrowwidth\":1.4,\"ax\":-23.732572087763703,\"axref\":\"pixel\",\"ay\":-7.8590725979023235,\"ayref\":\"pixel\",\"visible\":true,\"x\":\"2022-04-17T06:00:00\",\"xanchor\":\"left\",\"xref\":\"x\",\"y\":-5,\"yanchor\":\"bottom\",\"yref\":\"y\"},{\"arrowhead\":2,\"arrowsize\":1,\"arrowwidth\":1.4,\"ax\":-17.402664564456174,\"axref\":\"pixel\",\"ay\":17.94846138411372,\"ayref\":\"pixel\",\"visible\":true,\"x\":\"2022-04-17T12:00:00\",\"xanchor\":\"left\",\"xref\":\"x\",\"y\":-5,\"yanchor\":\"bottom\",\"yref\":\"y\"},{\"arrowhead\":2,\"arrowsize\":1,\"arrowwidth\":1.4,\"ax\":0.2939130027170286,\"axref\":\"pixel\",\"ay\":24.998272243233806,\"ayref\":\"pixel\",\"visible\":true,\"x\":\"2022-04-17T18:00:00\",\"xanchor\":\"left\",\"xref\":\"x\",\"y\":-5,\"yanchor\":\"bottom\",\"yref\":\"y\"},{\"arrowhead\":2,\"arrowsize\":1,\"arrowwidth\":1.4,\"ax\":2.728164360467327,\"axref\":\"pixel\",\"ay\":24.85069655406616,\"ayref\":\"pixel\",\"visible\":true,\"x\":\"2022-04-18T00:00:00\",\"xanchor\":\"left\",\"xref\":\"x\",\"y\":-5,\"yanchor\":\"bottom\",\"yref\":\"y\"}]},                        {\"responsive\": true}                    ).then(function(){\n",
       "                            \n",
       "var gd = document.getElementById('a96ae47f-6345-4785-abd4-176fe1f385c2');\n",
       "var x = new MutationObserver(function (mutations, observer) {{\n",
       "        var display = window.getComputedStyle(gd).display;\n",
       "        if (!display || display === 'none') {{\n",
       "            console.log([gd, 'removed!']);\n",
       "            Plotly.purge(gd);\n",
       "            observer.disconnect();\n",
       "        }}\n",
       "}});\n",
       "\n",
       "// Listen for the removal of the full notebook cells\n",
       "var notebookContainer = gd.closest('#notebook-container');\n",
       "if (notebookContainer) {{\n",
       "    x.observe(notebookContainer, {childList: true});\n",
       "}}\n",
       "\n",
       "// Listen for the clearing of the current output cell\n",
       "var outputEl = gd.closest('.output');\n",
       "if (outputEl) {{\n",
       "    x.observe(outputEl, {childList: true});\n",
       "}}\n",
       "\n",
       "                        })                };                });            </script>        </div>"
      ]
     },
     "metadata": {},
     "output_type": "display_data"
    }
   ],
   "source": [
    "fig = make_subplots(rows=2, cols=1, row_heights=[0.7, 0.3])\n",
    "\n",
    "fig.add_trace(\n",
    "    go.Scatter(x = times, y= ds.ws, name='Wind Speed (knots)', visible=True), row = 1, col =1)\n",
    "\n",
    "\n",
    "x = df.predict.where(df.predict<0).dropna()\n",
    "fig.add_trace(\n",
    "    go.Scatter(x = x.index.values, y= list(x.values),  \n",
    "                    visible=True, \n",
    "                    marker = dict(size=10, color = 'grey'),\n",
    "                    mode='markers',\n",
    "                    name='Insufficent data'), row = 2, col =1)\n",
    "\n",
    "\n",
    "x = df.predict.where(df.predict>=0).where(df.predict<0.6).dropna()\n",
    "fig.add_trace(\n",
    "    go.Scatter(x = x.index.values, y= list(x.values),  \n",
    "                    visible=True, \n",
    "                    marker = dict(size=10, color = 'green'),\n",
    "                    mode='markers',\n",
    "                    name='Stranding Unlikely'), row = 2, col =1)\n",
    "\n",
    "x = df.predict.where(df.predict>=0.6).where(df.predict<1).dropna()\n",
    "fig.add_trace(\n",
    "    go.Scatter(x = x.index.values, y= list(x.values),  \n",
    "                    visible=True, \n",
    "                    marker = dict(size=10, color = 'yellow'),\n",
    "                    mode='markers',\n",
    "                    name='Stranding Possible'), row = 2, col =1)\n",
    "\n",
    "\n",
    "x = df.predict.where(df.predict>=1).dropna()\n",
    "fig.add_trace(\n",
    "    go.Scatter(x = x.index.values, y= list(x.values),  \n",
    "                    visible=True, \n",
    "                    marker = dict(size=10, color = 'red'),\n",
    "                    mode='markers',\n",
    "                    name='Stranding Likely'), row = 2, col =1)\n",
    "\n",
    "\n",
    "\n",
    "for a in arrows:\n",
    "    fig.add_annotation(a)\n",
    "    \n",
    "fig.update_yaxes(range=[-10, 30], row = 1)\n",
    "fig.update_xaxes(range=[times[-64], times[-1]], row = 1)\n",
    "\n",
    "if df.predict.max() < 1:\n",
    "    fig.update_yaxes(range=[-1, 5], row = 2)\n",
    "    \n",
    "fig.update_xaxes(range=[times[-64], times[-1]], row = 2)\n",
    "\n",
    "\n",
    "fig.update_yaxes(title=\"Wind Speed(knots)\", row = 1)\n",
    "fig.update_yaxes(title=\"Strandings Projected\", row = 2)\n",
    "    \n",
    "fig.show()\n",
    "fig.write_html(\"forecast.html\")"
   ]
  }
 ],
 "metadata": {
  "kernelspec": {
   "display_name": "Python 3 (ipykernel)",
   "language": "python",
   "name": "python3"
  },
  "language_info": {
   "codemirror_mode": {
    "name": "ipython",
    "version": 3
   },
   "file_extension": ".py",
   "mimetype": "text/x-python",
   "name": "python",
   "nbconvert_exporter": "python",
   "pygments_lexer": "ipython3",
   "version": "3.9.7"
  },
  "widgets": {
   "application/vnd.jupyter.widget-state+json": {
    "state": {
     "02320be2704f4748bdc1121d06159c97": {
      "model_module": "@jupyter-widgets/base",
      "model_module_version": "1.2.0",
      "model_name": "LayoutModel",
      "state": {}
     },
     "025156aa78654fdfab5e308218559d7d": {
      "model_module": "@jupyter-widgets/controls",
      "model_module_version": "1.5.0",
      "model_name": "DescriptionStyleModel",
      "state": {
       "description_width": ""
      }
     },
     "02fa46a7fca1444c82cff93a22ee8413": {
      "model_module": "@jupyter-widgets/controls",
      "model_module_version": "1.5.0",
      "model_name": "HTMLModel",
      "state": {
       "layout": "IPY_MODEL_02320be2704f4748bdc1121d06159c97",
       "style": "IPY_MODEL_d102f6bf29bd4786b81026debe2a0be0",
       "value": " 47.6M/47.6M [05:42&lt;00:00, 303kB/s]"
      }
     },
     "03190ece0c0b4c06a847078dfc160637": {
      "model_module": "@jupyter-widgets/base",
      "model_module_version": "1.2.0",
      "model_name": "LayoutModel",
      "state": {}
     },
     "039931a2eaf04dbdb37ae42f3c14792f": {
      "model_module": "@jupyter-widgets/base",
      "model_module_version": "1.2.0",
      "model_name": "LayoutModel",
      "state": {}
     },
     "0409e73868e84679840d5afe9eb91ece": {
      "model_module": "@jupyter-widgets/controls",
      "model_module_version": "1.5.0",
      "model_name": "DescriptionStyleModel",
      "state": {
       "description_width": ""
      }
     },
     "045ca7820d7049f49ac1a8c78563921e": {
      "model_module": "@jupyter-widgets/controls",
      "model_module_version": "1.5.0",
      "model_name": "FloatProgressModel",
      "state": {
       "layout": "IPY_MODEL_8ba6d046085c415a941ee147300cf63b",
       "max": 49943658,
       "style": "IPY_MODEL_88f436a88e7c4ea2b88eb4bbb7f9b997",
       "value": 49943658
      }
     },
     "046af2a91d0d4fffb3f0a7a37ed18115": {
      "model_module": "@jupyter-widgets/controls",
      "model_module_version": "1.5.0",
      "model_name": "FloatProgressModel",
      "state": {
       "layout": "IPY_MODEL_ffe49c2e42eb4a00936d45c9f12e6f7c",
       "max": 49943658,
       "style": "IPY_MODEL_1804851605d44b5a878da75404443cea",
       "value": 49943658
      }
     },
     "0503a6355a834eb8951474791e170a0b": {
      "model_module": "@jupyter-widgets/controls",
      "model_module_version": "1.5.0",
      "model_name": "HTMLModel",
      "state": {
       "layout": "IPY_MODEL_fea205765fa64cf6b4531ecfbbb8e255",
       "style": "IPY_MODEL_79478b56afb046b1b9ecf420e1b83438",
       "value": " 9.29M/9.29M [00:20&lt;00:00, 829kB/s]"
      }
     },
     "07a24544bee746e78f8a80daa4065de6": {
      "model_module": "@jupyter-widgets/controls",
      "model_module_version": "1.5.0",
      "model_name": "HTMLModel",
      "state": {
       "layout": "IPY_MODEL_f0593fbf1f3b40039478b888042c1c9b",
       "style": "IPY_MODEL_56372df1de4d4666b21e7b605bb1b42c",
       "value": " 9.17M/9.29M [00:15&lt;00:00, 937kB/s]"
      }
     },
     "0982af562d394b27987046f1794937bf": {
      "model_module": "@jupyter-widgets/controls",
      "model_module_version": "1.5.0",
      "model_name": "HTMLModel",
      "state": {
       "layout": "IPY_MODEL_c1d84d8150b743108aeabcdadce6aa18",
       "style": "IPY_MODEL_131915689ea44fdbb884efb762345745",
       "value": "&lt;multiple&gt;: 100%"
      }
     },
     "0be606060fba460999feb4c9fc5f97a4": {
      "model_module": "@jupyter-widgets/base",
      "model_module_version": "1.2.0",
      "model_name": "LayoutModel",
      "state": {}
     },
     "131915689ea44fdbb884efb762345745": {
      "model_module": "@jupyter-widgets/controls",
      "model_module_version": "1.5.0",
      "model_name": "DescriptionStyleModel",
      "state": {
       "description_width": ""
      }
     },
     "1804851605d44b5a878da75404443cea": {
      "model_module": "@jupyter-widgets/controls",
      "model_module_version": "1.5.0",
      "model_name": "ProgressStyleModel",
      "state": {
       "description_width": ""
      }
     },
     "188949b2745f4a48b51c72f64980da27": {
      "model_module": "@jupyter-widgets/controls",
      "model_module_version": "1.5.0",
      "model_name": "DescriptionStyleModel",
      "state": {
       "description_width": ""
      }
     },
     "1b8539f40f9a4afe8da6b12653b43a5d": {
      "model_module": "@jupyter-widgets/controls",
      "model_module_version": "1.5.0",
      "model_name": "DescriptionStyleModel",
      "state": {
       "description_width": ""
      }
     },
     "1e4a1e7608794d898cb95182f00c4317": {
      "model_module": "@jupyter-widgets/base",
      "model_module_version": "1.2.0",
      "model_name": "LayoutModel",
      "state": {}
     },
     "2034724061db4955bc06948a579738ef": {
      "model_module": "@jupyter-widgets/controls",
      "model_module_version": "1.5.0",
      "model_name": "ProgressStyleModel",
      "state": {
       "description_width": ""
      }
     },
     "208b38d4be904804807071342322c06f": {
      "model_module": "@jupyter-widgets/controls",
      "model_module_version": "1.5.0",
      "model_name": "FloatProgressModel",
      "state": {
       "layout": "IPY_MODEL_70b560ac95764d09b976091560c9ccc8",
       "max": 9745104,
       "style": "IPY_MODEL_3a98a4cca4644df9a11423f327513417",
       "value": 9745104
      }
     },
     "217b26da0514476fbbddc5f5430025bb": {
      "model_module": "@jupyter-widgets/controls",
      "model_module_version": "1.5.0",
      "model_name": "DescriptionStyleModel",
      "state": {
       "description_width": ""
      }
     },
     "23f11bd8fbbd4c5ba51d13830bd9a32f": {
      "model_module": "@jupyter-widgets/controls",
      "model_module_version": "1.5.0",
      "model_name": "HTMLModel",
      "state": {
       "layout": "IPY_MODEL_bee91c20b80649b2b1e94c7eb494face",
       "style": "IPY_MODEL_2584a0cf71d048718d1b48f0a0973b77",
       "value": "&lt;multiple&gt;: 100%"
      }
     },
     "244d0f33b1354ef59214d3fa561170e1": {
      "model_module": "@jupyter-widgets/base",
      "model_module_version": "1.2.0",
      "model_name": "LayoutModel",
      "state": {}
     },
     "2584a0cf71d048718d1b48f0a0973b77": {
      "model_module": "@jupyter-widgets/controls",
      "model_module_version": "1.5.0",
      "model_name": "DescriptionStyleModel",
      "state": {
       "description_width": ""
      }
     },
     "276c4ac24d204f249104f3020c2d9748": {
      "model_module": "@jupyter-widgets/base",
      "model_module_version": "1.2.0",
      "model_name": "LayoutModel",
      "state": {}
     },
     "2c37232b26c74fafa788750c0886cc95": {
      "model_module": "@jupyter-widgets/controls",
      "model_module_version": "1.5.0",
      "model_name": "HTMLModel",
      "state": {
       "layout": "IPY_MODEL_8b3431a4c35145dab4c89f81c6849adf",
       "style": "IPY_MODEL_643b0898076149bab026a7d9794b8bca",
       "value": " 9.29M/9.29M [01:04&lt;00:00, 308kB/s]"
      }
     },
     "3a98a4cca4644df9a11423f327513417": {
      "model_module": "@jupyter-widgets/controls",
      "model_module_version": "1.5.0",
      "model_name": "ProgressStyleModel",
      "state": {
       "description_width": ""
      }
     },
     "4671d845ace949e09522ab729b387267": {
      "model_module": "@jupyter-widgets/base",
      "model_module_version": "1.2.0",
      "model_name": "LayoutModel",
      "state": {}
     },
     "4e1d13fa8c374ed5b2472210bc9ead88": {
      "model_module": "@jupyter-widgets/controls",
      "model_module_version": "1.5.0",
      "model_name": "FloatProgressModel",
      "state": {
       "layout": "IPY_MODEL_5a4553f9b52a4d1ebcdaf76dfe77188e",
       "max": 9745104,
       "style": "IPY_MODEL_2034724061db4955bc06948a579738ef",
       "value": 9745104
      }
     },
     "4e99da08b9794b1b81526c8601d31f5d": {
      "model_module": "@jupyter-widgets/base",
      "model_module_version": "1.2.0",
      "model_name": "LayoutModel",
      "state": {}
     },
     "56372df1de4d4666b21e7b605bb1b42c": {
      "model_module": "@jupyter-widgets/controls",
      "model_module_version": "1.5.0",
      "model_name": "DescriptionStyleModel",
      "state": {
       "description_width": ""
      }
     },
     "566b71b22ec7454daf1007870651e0c5": {
      "model_module": "@jupyter-widgets/base",
      "model_module_version": "1.2.0",
      "model_name": "LayoutModel",
      "state": {}
     },
     "571ad41a25364d1da82218cc8a5adba0": {
      "model_module": "@jupyter-widgets/controls",
      "model_module_version": "1.5.0",
      "model_name": "HTMLModel",
      "state": {
       "layout": "IPY_MODEL_e9641d7c04e1479a98c854e2bf95e792",
       "style": "IPY_MODEL_b5f2dea684df47ac892d8e5bc67ff214",
       "value": " 9.21M/9.29M [00:13&lt;00:00, 875kB/s]"
      }
     },
     "5a4553f9b52a4d1ebcdaf76dfe77188e": {
      "model_module": "@jupyter-widgets/base",
      "model_module_version": "1.2.0",
      "model_name": "LayoutModel",
      "state": {}
     },
     "643b0898076149bab026a7d9794b8bca": {
      "model_module": "@jupyter-widgets/controls",
      "model_module_version": "1.5.0",
      "model_name": "DescriptionStyleModel",
      "state": {
       "description_width": ""
      }
     },
     "673c1dacb882477b93b56a017c1d4b49": {
      "model_module": "@jupyter-widgets/base",
      "model_module_version": "1.2.0",
      "model_name": "LayoutModel",
      "state": {}
     },
     "6750d350d5a14fcc9040870ecf089c7a": {
      "model_module": "@jupyter-widgets/base",
      "model_module_version": "1.2.0",
      "model_name": "LayoutModel",
      "state": {}
     },
     "6b8c5966c0fb4cf4a7c96cbd59014110": {
      "model_module": "@jupyter-widgets/base",
      "model_module_version": "1.2.0",
      "model_name": "LayoutModel",
      "state": {}
     },
     "6d87a3548518421fb6653965ccfc5436": {
      "model_module": "@jupyter-widgets/controls",
      "model_module_version": "1.5.0",
      "model_name": "DescriptionStyleModel",
      "state": {
       "description_width": ""
      }
     },
     "70b560ac95764d09b976091560c9ccc8": {
      "model_module": "@jupyter-widgets/base",
      "model_module_version": "1.2.0",
      "model_name": "LayoutModel",
      "state": {}
     },
     "71e3f066ccf14b60bb235b9f1832b633": {
      "model_module": "@jupyter-widgets/base",
      "model_module_version": "1.2.0",
      "model_name": "LayoutModel",
      "state": {}
     },
     "73df6b2318394723b0f0ad8c9c9d55b7": {
      "model_module": "@jupyter-widgets/base",
      "model_module_version": "1.2.0",
      "model_name": "LayoutModel",
      "state": {}
     },
     "740d201505be46c8a6417801aa149d55": {
      "model_module": "@jupyter-widgets/controls",
      "model_module_version": "1.5.0",
      "model_name": "HTMLModel",
      "state": {
       "layout": "IPY_MODEL_ddccbd9e712c4176888658ad6c6aa2d2",
       "style": "IPY_MODEL_cf2b61fb046e42d89699bbbddaef2ba1",
       "value": "&lt;multiple&gt;:  99%"
      }
     },
     "750f74b26f10462bad0d7357264de99a": {
      "model_module": "@jupyter-widgets/controls",
      "model_module_version": "1.5.0",
      "model_name": "ProgressStyleModel",
      "state": {
       "description_width": ""
      }
     },
     "76693a02d98c4f7590c2242946ee7876": {
      "model_module": "@jupyter-widgets/base",
      "model_module_version": "1.2.0",
      "model_name": "LayoutModel",
      "state": {}
     },
     "79478b56afb046b1b9ecf420e1b83438": {
      "model_module": "@jupyter-widgets/controls",
      "model_module_version": "1.5.0",
      "model_name": "DescriptionStyleModel",
      "state": {
       "description_width": ""
      }
     },
     "7ba4a40a72954babb17772f95318909e": {
      "model_module": "@jupyter-widgets/controls",
      "model_module_version": "1.5.0",
      "model_name": "DescriptionStyleModel",
      "state": {
       "description_width": ""
      }
     },
     "817611603c3d4032a162c9dc316c50a7": {
      "model_module": "@jupyter-widgets/base",
      "model_module_version": "1.2.0",
      "model_name": "LayoutModel",
      "state": {}
     },
     "86e75d02fcdc4bd4975313dd7d008594": {
      "model_module": "@jupyter-widgets/base",
      "model_module_version": "1.2.0",
      "model_name": "LayoutModel",
      "state": {}
     },
     "88f436a88e7c4ea2b88eb4bbb7f9b997": {
      "model_module": "@jupyter-widgets/controls",
      "model_module_version": "1.5.0",
      "model_name": "ProgressStyleModel",
      "state": {
       "description_width": ""
      }
     },
     "8b3431a4c35145dab4c89f81c6849adf": {
      "model_module": "@jupyter-widgets/base",
      "model_module_version": "1.2.0",
      "model_name": "LayoutModel",
      "state": {}
     },
     "8b7cb007135d403cabb8ac01edc92998": {
      "model_module": "@jupyter-widgets/controls",
      "model_module_version": "1.5.0",
      "model_name": "DescriptionStyleModel",
      "state": {
       "description_width": ""
      }
     },
     "8ba6d046085c415a941ee147300cf63b": {
      "model_module": "@jupyter-widgets/base",
      "model_module_version": "1.2.0",
      "model_name": "LayoutModel",
      "state": {}
     },
     "8c61c268a57d4e16bc2ca1aca83c194c": {
      "model_module": "@jupyter-widgets/controls",
      "model_module_version": "1.5.0",
      "model_name": "ProgressStyleModel",
      "state": {
       "description_width": ""
      }
     },
     "95c1be1da48648f682fd9dfeb5a6ebc4": {
      "model_module": "@jupyter-widgets/controls",
      "model_module_version": "1.5.0",
      "model_name": "HTMLModel",
      "state": {
       "layout": "IPY_MODEL_6750d350d5a14fcc9040870ecf089c7a",
       "style": "IPY_MODEL_217b26da0514476fbbddc5f5430025bb",
       "value": "&lt;multiple&gt;: 100%"
      }
     },
     "97c8eb91f2494861bd638995b9f37ff1": {
      "model_module": "@jupyter-widgets/base",
      "model_module_version": "1.2.0",
      "model_name": "LayoutModel",
      "state": {}
     },
     "9965b22c606d4392b16d6ba68feb1e64": {
      "model_module": "@jupyter-widgets/controls",
      "model_module_version": "1.5.0",
      "model_name": "HTMLModel",
      "state": {
       "layout": "IPY_MODEL_276c4ac24d204f249104f3020c2d9748",
       "style": "IPY_MODEL_ab8713b242e44e088228b8c22da2e210",
       "value": "&lt;multiple&gt;: 100%"
      }
     },
     "9af6f11ffd394f82835247ad4b9a621a": {
      "model_module": "@jupyter-widgets/controls",
      "model_module_version": "1.5.0",
      "model_name": "HTMLModel",
      "state": {
       "layout": "IPY_MODEL_6b8c5966c0fb4cf4a7c96cbd59014110",
       "style": "IPY_MODEL_8b7cb007135d403cabb8ac01edc92998",
       "value": " 9.29M/9.29M [01:12&lt;00:00, 252kB/s]"
      }
     },
     "9bf043ab64cd44a586c927fdf619a7ce": {
      "model_module": "@jupyter-widgets/controls",
      "model_module_version": "1.5.0",
      "model_name": "HTMLModel",
      "state": {
       "layout": "IPY_MODEL_566b71b22ec7454daf1007870651e0c5",
       "style": "IPY_MODEL_188949b2745f4a48b51c72f64980da27",
       "value": " 9.29M/9.29M [01:10&lt;00:00, 186kB/s]"
      }
     },
     "9fef41ce80be4c37b267df31a0aba69d": {
      "model_module": "@jupyter-widgets/controls",
      "model_module_version": "1.5.0",
      "model_name": "HTMLModel",
      "state": {
       "layout": "IPY_MODEL_b961a9eb0079460e96b4c866f4019883",
       "style": "IPY_MODEL_025156aa78654fdfab5e308218559d7d",
       "value": "&lt;multiple&gt;: 100%"
      }
     },
     "a0b75f0f0d70443396d4f489044e3a5a": {
      "model_module": "@jupyter-widgets/controls",
      "model_module_version": "1.5.0",
      "model_name": "HTMLModel",
      "state": {
       "layout": "IPY_MODEL_71e3f066ccf14b60bb235b9f1832b633",
       "style": "IPY_MODEL_d68a5c5c2ca343f0a8f0b86fc94aca00",
       "value": "&lt;multiple&gt;:  99%"
      }
     },
     "a455b80748f1494eab7bb4dd8d4bb023": {
      "model_module": "@jupyter-widgets/controls",
      "model_module_version": "1.5.0",
      "model_name": "FloatProgressModel",
      "state": {
       "layout": "IPY_MODEL_e13384e1325e45f4a54e035898be81b3",
       "max": 9745104,
       "style": "IPY_MODEL_e5155bd07f3746ab83106a569ad23c26",
       "value": 9745104
      }
     },
     "ab8713b242e44e088228b8c22da2e210": {
      "model_module": "@jupyter-widgets/controls",
      "model_module_version": "1.5.0",
      "model_name": "DescriptionStyleModel",
      "state": {
       "description_width": ""
      }
     },
     "abaa7b96d3244056a47f37e5c100eec0": {
      "model_module": "@jupyter-widgets/controls",
      "model_module_version": "1.5.0",
      "model_name": "HTMLModel",
      "state": {
       "layout": "IPY_MODEL_86e75d02fcdc4bd4975313dd7d008594",
       "style": "IPY_MODEL_7ba4a40a72954babb17772f95318909e",
       "value": "&lt;multiple&gt;:  99%"
      }
     },
     "b4681debd0e844fe8be3d9582436c0e7": {
      "model_module": "@jupyter-widgets/controls",
      "model_module_version": "1.5.0",
      "model_name": "HTMLModel",
      "state": {
       "layout": "IPY_MODEL_4671d845ace949e09522ab729b387267",
       "style": "IPY_MODEL_6d87a3548518421fb6653965ccfc5436",
       "value": " 47.4M/47.6M [01:17&lt;00:00, 504kB/s]"
      }
     },
     "b5f2dea684df47ac892d8e5bc67ff214": {
      "model_module": "@jupyter-widgets/controls",
      "model_module_version": "1.5.0",
      "model_name": "DescriptionStyleModel",
      "state": {
       "description_width": ""
      }
     },
     "b6d578f6bc3d4c5ea4ce8ef3fe99f15b": {
      "model_module": "@jupyter-widgets/base",
      "model_module_version": "1.2.0",
      "model_name": "LayoutModel",
      "state": {}
     },
     "b8f1ebd0a6bd49139b902ca63ac557b8": {
      "model_module": "@jupyter-widgets/controls",
      "model_module_version": "1.5.0",
      "model_name": "HTMLModel",
      "state": {
       "layout": "IPY_MODEL_244d0f33b1354ef59214d3fa561170e1",
       "style": "IPY_MODEL_1b8539f40f9a4afe8da6b12653b43a5d",
       "value": "&lt;multiple&gt;: 100%"
      }
     },
     "b961a9eb0079460e96b4c866f4019883": {
      "model_module": "@jupyter-widgets/base",
      "model_module_version": "1.2.0",
      "model_name": "LayoutModel",
      "state": {}
     },
     "bd9ec8244f3247a09065528add0f69d5": {
      "model_module": "@jupyter-widgets/base",
      "model_module_version": "1.2.0",
      "model_name": "LayoutModel",
      "state": {}
     },
     "bde2be6d4af54e27bd68cff431c89b13": {
      "model_module": "@jupyter-widgets/base",
      "model_module_version": "1.2.0",
      "model_name": "LayoutModel",
      "state": {}
     },
     "be8f1e583a9b4edaa11871443f641dff": {
      "model_module": "@jupyter-widgets/controls",
      "model_module_version": "1.5.0",
      "model_name": "ProgressStyleModel",
      "state": {
       "description_width": ""
      }
     },
     "bee91c20b80649b2b1e94c7eb494face": {
      "model_module": "@jupyter-widgets/base",
      "model_module_version": "1.2.0",
      "model_name": "LayoutModel",
      "state": {}
     },
     "c1d84d8150b743108aeabcdadce6aa18": {
      "model_module": "@jupyter-widgets/base",
      "model_module_version": "1.2.0",
      "model_name": "LayoutModel",
      "state": {}
     },
     "c321c29487b7401d84cd79c9c2882c8b": {
      "model_module": "@jupyter-widgets/base",
      "model_module_version": "1.2.0",
      "model_name": "LayoutModel",
      "state": {}
     },
     "c400178b50764caca6248eed1670a293": {
      "model_module": "@jupyter-widgets/controls",
      "model_module_version": "1.5.0",
      "model_name": "ProgressStyleModel",
      "state": {
       "description_width": ""
      }
     },
     "cf2b61fb046e42d89699bbbddaef2ba1": {
      "model_module": "@jupyter-widgets/controls",
      "model_module_version": "1.5.0",
      "model_name": "DescriptionStyleModel",
      "state": {
       "description_width": ""
      }
     },
     "d102f6bf29bd4786b81026debe2a0be0": {
      "model_module": "@jupyter-widgets/controls",
      "model_module_version": "1.5.0",
      "model_name": "DescriptionStyleModel",
      "state": {
       "description_width": ""
      }
     },
     "d1d153c3ab894f58bec6072142a3d0b7": {
      "model_module": "@jupyter-widgets/controls",
      "model_module_version": "1.5.0",
      "model_name": "FloatProgressModel",
      "state": {
       "layout": "IPY_MODEL_b6d578f6bc3d4c5ea4ce8ef3fe99f15b",
       "max": 9745104,
       "style": "IPY_MODEL_8c61c268a57d4e16bc2ca1aca83c194c",
       "value": 9745104
      }
     },
     "d34bd35f81ac4a3383efadf3253ee1bd": {
      "model_module": "@jupyter-widgets/controls",
      "model_module_version": "1.5.0",
      "model_name": "FloatProgressModel",
      "state": {
       "layout": "IPY_MODEL_4e99da08b9794b1b81526c8601d31f5d",
       "max": 9745104,
       "style": "IPY_MODEL_750f74b26f10462bad0d7357264de99a",
       "value": 9745104
      }
     },
     "d68a5c5c2ca343f0a8f0b86fc94aca00": {
      "model_module": "@jupyter-widgets/controls",
      "model_module_version": "1.5.0",
      "model_name": "DescriptionStyleModel",
      "state": {
       "description_width": ""
      }
     },
     "dbf03161eae343e8909fe7ce9af02d4d": {
      "model_module": "@jupyter-widgets/controls",
      "model_module_version": "1.5.0",
      "model_name": "HTMLModel",
      "state": {
       "layout": "IPY_MODEL_73df6b2318394723b0f0ad8c9c9d55b7",
       "style": "IPY_MODEL_0409e73868e84679840d5afe9eb91ece",
       "value": " 9.25M/9.29M [00:16&lt;00:00, 939kB/s]"
      }
     },
     "ddccbd9e712c4176888658ad6c6aa2d2": {
      "model_module": "@jupyter-widgets/base",
      "model_module_version": "1.2.0",
      "model_name": "LayoutModel",
      "state": {}
     },
     "e13384e1325e45f4a54e035898be81b3": {
      "model_module": "@jupyter-widgets/base",
      "model_module_version": "1.2.0",
      "model_name": "LayoutModel",
      "state": {}
     },
     "e5155bd07f3746ab83106a569ad23c26": {
      "model_module": "@jupyter-widgets/controls",
      "model_module_version": "1.5.0",
      "model_name": "ProgressStyleModel",
      "state": {
       "description_width": ""
      }
     },
     "e9641d7c04e1479a98c854e2bf95e792": {
      "model_module": "@jupyter-widgets/base",
      "model_module_version": "1.2.0",
      "model_name": "LayoutModel",
      "state": {}
     },
     "f0593fbf1f3b40039478b888042c1c9b": {
      "model_module": "@jupyter-widgets/base",
      "model_module_version": "1.2.0",
      "model_name": "LayoutModel",
      "state": {}
     },
     "f8f570d1aa0c44ed90cdf62aa09086eb": {
      "model_module": "@jupyter-widgets/controls",
      "model_module_version": "1.5.0",
      "model_name": "FloatProgressModel",
      "state": {
       "layout": "IPY_MODEL_039931a2eaf04dbdb37ae42f3c14792f",
       "max": 9745104,
       "style": "IPY_MODEL_be8f1e583a9b4edaa11871443f641dff",
       "value": 9745104
      }
     },
     "fb9d58bc5bb3409198307bc9e3c4356d": {
      "model_module": "@jupyter-widgets/controls",
      "model_module_version": "1.5.0",
      "model_name": "FloatProgressModel",
      "state": {
       "layout": "IPY_MODEL_1e4a1e7608794d898cb95182f00c4317",
       "max": 9745104,
       "style": "IPY_MODEL_c400178b50764caca6248eed1670a293",
       "value": 9745104
      }
     },
     "fea205765fa64cf6b4531ecfbbb8e255": {
      "model_module": "@jupyter-widgets/base",
      "model_module_version": "1.2.0",
      "model_name": "LayoutModel",
      "state": {}
     },
     "ffe49c2e42eb4a00936d45c9f12e6f7c": {
      "model_module": "@jupyter-widgets/base",
      "model_module_version": "1.2.0",
      "model_name": "LayoutModel",
      "state": {}
     }
    },
    "version_major": 2,
    "version_minor": 0
   }
  }
 },
 "nbformat": 4,
 "nbformat_minor": 5
}
