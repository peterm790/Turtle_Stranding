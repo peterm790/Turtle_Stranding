{
 "cells": [
  {
   "cell_type": "code",
   "execution_count": 1,
   "id": "bdd40a85-66ba-437b-80f0-f15c7fd052aa",
   "metadata": {},
   "outputs": [
    {
     "name": "stdout",
     "output_type": "stream",
     "text": [
      "Warning: ecCodes 2.21.0 or higher is recommended. You are running version 2.16.0\n"
     ]
    }
   ],
   "source": [
    "import numpy as np\n",
    "import xarray as xr\n",
    "import pandas as pd\n",
    "import glob\n",
    "\n",
    "from ecmwf.opendata import Client\n",
    "client = Client()\n",
    "\n",
    "from datetime import datetime, timedelta\n",
    "\n",
    "import plotly.graph_objects as go\n",
    "from plotly.subplots import make_subplots\n",
    "import plotly.express as px\n",
    "\n",
    "import math\n",
    "import pickle"
   ]
  },
  {
   "cell_type": "code",
   "execution_count": 26,
   "id": "e2083d23",
   "metadata": {},
   "outputs": [
    {
     "name": "stdout",
     "output_type": "stream",
     "text": [
      "2022-04-11\n"
     ]
    },
    {
     "data": {
      "application/vnd.jupyter.widget-view+json": {
       "model_id": "",
       "version_major": 2,
       "version_minor": 0
      },
      "text/plain": [
       "<multiple>:   0%|          | 0.00/9.29M [00:00<?, ?B/s]"
      ]
     },
     "metadata": {},
     "output_type": "display_data"
    },
    {
     "name": "stdout",
     "output_type": "stream",
     "text": [
      "2022-04-10\n"
     ]
    },
    {
     "data": {
      "application/vnd.jupyter.widget-view+json": {
       "model_id": "",
       "version_major": 2,
       "version_minor": 0
      },
      "text/plain": [
       "<multiple>:   0%|          | 0.00/9.29M [00:00<?, ?B/s]"
      ]
     },
     "metadata": {},
     "output_type": "display_data"
    },
    {
     "name": "stdout",
     "output_type": "stream",
     "text": [
      "2022-04-09\n"
     ]
    },
    {
     "data": {
      "application/vnd.jupyter.widget-view+json": {
       "model_id": "",
       "version_major": 2,
       "version_minor": 0
      },
      "text/plain": [
       "<multiple>:   0%|          | 0.00/9.29M [00:00<?, ?B/s]"
      ]
     },
     "metadata": {},
     "output_type": "display_data"
    }
   ],
   "source": [
    "today = datetime.today().date()\n",
    "for i in range(3):\n",
    "    date = str(today - timedelta(days = i))\n",
    "    print(date)\n",
    "    client.retrieve(\n",
    "     date=str(date),\n",
    "     time=0,\n",
    "     step=list(np.arange(0,24,3)),\n",
    "     stream=\"enfo\",\n",
    "     type=['cf'],\n",
    "     levtype=\"sfc\",\n",
    "     param=[\"10u\",\"10v\"],\n",
    "     target='ECMWF_forecast/10m_U_V_'+str(date)+'.grib'\n",
    "    )"
   ]
  },
  {
   "cell_type": "code",
   "execution_count": 27,
   "id": "38237add",
   "metadata": {},
   "outputs": [
    {
     "data": {
      "application/vnd.jupyter.widget-view+json": {
       "model_id": "",
       "version_major": 2,
       "version_minor": 0
      },
      "text/plain": [
       "<multiple>:   0%|          | 0.00/47.6M [00:00<?, ?B/s]"
      ]
     },
     "metadata": {},
     "output_type": "display_data"
    },
    {
     "data": {
      "text/plain": [
       "<ecmwf.opendata.client.Result at 0x7fddb13d0220>"
      ]
     },
     "execution_count": 27,
     "metadata": {},
     "output_type": "execute_result"
    }
   ],
   "source": [
    "client.retrieve(\n",
    " date=str(today),\n",
    " time=0,\n",
    " step=list(np.arange(24,147,3)),\n",
    " stream=\"enfo\",\n",
    " type=['cf'],\n",
    " levtype=\"sfc\",\n",
    " param=[\"10u\",\"10v\"],\n",
    " target='ECMWF_forecast/10m_U_V_7day_forecast.grib'\n",
    ")"
   ]
  },
  {
   "cell_type": "code",
   "execution_count": 2,
   "id": "f6d517d5",
   "metadata": {},
   "outputs": [],
   "source": [
    "files = glob.glob('ECMWF_forecast/10m_U_V_*.grib')\n",
    "files.sort()\n",
    "\n",
    "ds = xr.open_mfdataset(files)\n",
    "ds = ds.drop('time')\n",
    "ds = ds.rename_dims({\"step\":\"time\"}) \n",
    "ds['time'] = ds.valid_time"
   ]
  },
  {
   "cell_type": "code",
   "execution_count": 3,
   "id": "1f7cd65e",
   "metadata": {},
   "outputs": [],
   "source": [
    "ds['u10'] = ds.u10*1.94384\n",
    "ds['v10'] = ds.v10*1.94384"
   ]
  },
  {
   "cell_type": "code",
   "execution_count": 4,
   "id": "83254ff0-00fe-4b1e-b01c-f97876ea8905",
   "metadata": {},
   "outputs": [],
   "source": [
    "def wind_speed(U, V):\n",
    "    func = lambda x, y: np.sqrt(x**2 + y**2)\n",
    "    return xr.apply_ufunc(func, U, V, dask = 'parallelized')\n",
    "\n",
    "def wind_dir(U, V):\n",
    "    func = lambda x, y: np.mod(180+np.rad2deg(np.arctan2(x, y)),360)\n",
    "    return xr.apply_ufunc(func, U, V, dask = 'parallelized')\n"
   ]
  },
  {
   "cell_type": "code",
   "execution_count": 5,
   "id": "d8049949",
   "metadata": {},
   "outputs": [],
   "source": [
    "ds['ws'] = wind_speed(ds.u10, ds.v10)\n",
    "ds['dir'] = wind_dir(ds.u10, ds.v10)"
   ]
  },
  {
   "cell_type": "code",
   "execution_count": 6,
   "id": "2361dd79",
   "metadata": {},
   "outputs": [],
   "source": [
    "struisbaai_ocean_coords = [-35.0, 20.0]"
   ]
  },
  {
   "cell_type": "code",
   "execution_count": 7,
   "id": "ee58a9ff-40ca-41e9-9977-d50b4c4f7ba1",
   "metadata": {},
   "outputs": [],
   "source": [
    "ds = ds.sel(latitude = struisbaai_ocean_coords[0], method = 'nearest').sel(longitude = struisbaai_ocean_coords[0],method = 'nearest')"
   ]
  },
  {
   "cell_type": "code",
   "execution_count": 8,
   "id": "7d573676",
   "metadata": {},
   "outputs": [],
   "source": [
    "ds_daily = ds.resample(time = 'D', closed = \"right\").mean().load()\n",
    "\n",
    "df = ds_daily.to_dataframe()\n",
    "\n",
    "df['index'] = pd.to_datetime(df.index)\n",
    "\n",
    "u10_1 = list(ds_daily.u10.values[1:])\n",
    "u10_1.append(np.nan)\n",
    "df['u10_1'] = u10_1 \n",
    "df['u10_5m'] = ds_daily.u10.rolling(time = 5).mean().values\n",
    "df['month'] = pd.to_datetime(ds_daily.time.values).month\n",
    "\n",
    "df_ = df[['month', 'ws', 'u10_1', 'u10_5m']].dropna()\n",
    "\n",
    "features = np.array(df_)\n",
    "\n",
    "from sklearn.ensemble import RandomForestRegressor\n",
    "\n",
    "rf = pickle.load(open('model_no_sst_full.pkl', 'rb'))\n",
    "df_['predict'] = rf.predict(features)"
   ]
  },
  {
   "cell_type": "code",
   "execution_count": 9,
   "id": "7c23a221",
   "metadata": {},
   "outputs": [],
   "source": [
    "df['predict'] = df_.predict"
   ]
  },
  {
   "cell_type": "code",
   "execution_count": 10,
   "id": "51ac696a",
   "metadata": {},
   "outputs": [],
   "source": [
    "df['predict'] = df['predict'].fillna(-0.5) # set nan to -0.5 to show days with insufficient data"
   ]
  },
  {
   "cell_type": "code",
   "execution_count": 11,
   "id": "bd8e94bd",
   "metadata": {},
   "outputs": [],
   "source": [
    "def get_vector(direction):\n",
    "    if direction  < 90 and direction > 0:\n",
    "        x = math.sin(math.radians(direction))\n",
    "        y = math.cos(math.radians(direction))\n",
    "    elif direction > 90 and direction <180:\n",
    "        x = math.sin(math.radians(180 - direction))\n",
    "        y = -math.cos(math.radians(180 - direction))\n",
    "    elif direction >180 and direction <270:\n",
    "        x = -math.cos(math.radians(270 - direction))\n",
    "        y = -math.sin(math.radians(270 - direction))\n",
    "    else:\n",
    "        x = -math.sin(math.radians(360-direction))\n",
    "        y = math.cos(math.radians(360-direction))\n",
    "    return(x,-y)"
   ]
  },
  {
   "cell_type": "code",
   "execution_count": 12,
   "id": "18fd417e",
   "metadata": {},
   "outputs": [],
   "source": [
    "times = pd.to_datetime(ds.time.values)\n",
    "arrows = []\n",
    "for dir_,i in zip(ds.dir.values, times):\n",
    "    ax_,ay_ = get_vector(dir_)\n",
    "    arrows.append(dict(\n",
    "        x=i,\n",
    "        y=-5,\n",
    "        xref = 'x',\n",
    "        yref = 'y',\n",
    "        axref = 'pixel',\n",
    "        ayref = 'pixel',\n",
    "        ax=ax_*25,\n",
    "        ay=ay_*25,\n",
    "        arrowhead = 2,\n",
    "        arrowsize = 1,\n",
    "        arrowwidth = 1.4,\n",
    "        xanchor = 'left',\n",
    "        yanchor = 'bottom',\n",
    "        visible = True\n",
    "    )\n",
    "    )"
   ]
  },
  {
   "cell_type": "code",
   "execution_count": 19,
   "id": "31fd4de9",
   "metadata": {},
   "outputs": [
    {
     "data": {
      "application/vnd.plotly.v1+json": {
       "config": {
        "plotlyServerURL": "https://plot.ly"
       },
       "data": [
        {
         "name": "Wind Speed (knots)",
         "type": "scatter",
         "visible": true,
         "x": [
          "2022-04-11T00:00:00",
          "2022-04-11T03:00:00",
          "2022-04-11T06:00:00",
          "2022-04-11T09:00:00",
          "2022-04-11T12:00:00",
          "2022-04-11T15:00:00",
          "2022-04-11T18:00:00",
          "2022-04-11T21:00:00",
          "2022-04-12T00:00:00",
          "2022-04-12T03:00:00",
          "2022-04-12T06:00:00",
          "2022-04-12T09:00:00",
          "2022-04-12T12:00:00",
          "2022-04-12T15:00:00",
          "2022-04-12T18:00:00",
          "2022-04-12T21:00:00",
          "2022-04-13T00:00:00",
          "2022-04-13T03:00:00",
          "2022-04-13T06:00:00",
          "2022-04-13T09:00:00",
          "2022-04-13T12:00:00",
          "2022-04-13T15:00:00",
          "2022-04-13T18:00:00",
          "2022-04-13T21:00:00",
          "2022-04-14T00:00:00",
          "2022-04-14T03:00:00",
          "2022-04-14T06:00:00",
          "2022-04-14T09:00:00",
          "2022-04-14T12:00:00",
          "2022-04-14T15:00:00",
          "2022-04-14T18:00:00",
          "2022-04-14T21:00:00",
          "2022-04-15T00:00:00",
          "2022-04-15T03:00:00",
          "2022-04-15T06:00:00",
          "2022-04-15T09:00:00",
          "2022-04-15T12:00:00",
          "2022-04-15T15:00:00",
          "2022-04-15T18:00:00",
          "2022-04-15T21:00:00",
          "2022-04-16T00:00:00",
          "2022-04-16T03:00:00",
          "2022-04-16T06:00:00",
          "2022-04-16T09:00:00",
          "2022-04-16T12:00:00",
          "2022-04-16T15:00:00",
          "2022-04-16T18:00:00",
          "2022-04-16T21:00:00",
          "2022-04-17T00:00:00"
         ],
         "xaxis": "x",
         "y": [
          15.326519012451172,
          14.532148361206055,
          15.324624061584473,
          16.439559936523438,
          17.76800537109375,
          19.135244369506836,
          18.7889461517334,
          17.28059959411621,
          16.342952728271484,
          19.4110107421875,
          17.999160766601562,
          21.75457191467285,
          22.183128356933594,
          22.079822540283203,
          21.96236801147461,
          22.549110412597656,
          22.471847534179688,
          21.416059494018555,
          20.96146583557129,
          21.10673713684082,
          18.663978576660156,
          17.07754135131836,
          15.160116195678711,
          14.233674049377441,
          14.353170394897461,
          12.238842010498047,
          12.63850212097168,
          13.226304054260254,
          15.212262153625488,
          16.550657272338867,
          16.268062591552734,
          16.281686782836914,
          14.113175392150879,
          15.857884407043457,
          17.1285457611084,
          16.034896850585938,
          14.120512008666992,
          15.762837409973145,
          17.402555465698242,
          18.414915084838867,
          17.626510620117188,
          16.690752029418945,
          9.976558685302734,
          11.198882102966309,
          11.32913875579834,
          8.14019775390625,
          10.18045425415039,
          15.678895950317383,
          14.816520690917969
         ],
         "yaxis": "y"
        },
        {
         "name": "Wind Speed (knots)",
         "type": "scatter",
         "visible": true,
         "x": [
          "2022-04-11T00:00:00",
          "2022-04-11T03:00:00",
          "2022-04-11T06:00:00",
          "2022-04-11T09:00:00",
          "2022-04-11T12:00:00",
          "2022-04-11T15:00:00",
          "2022-04-11T18:00:00",
          "2022-04-11T21:00:00",
          "2022-04-12T00:00:00",
          "2022-04-12T03:00:00",
          "2022-04-12T06:00:00",
          "2022-04-12T09:00:00",
          "2022-04-12T12:00:00",
          "2022-04-12T15:00:00",
          "2022-04-12T18:00:00",
          "2022-04-12T21:00:00",
          "2022-04-13T00:00:00",
          "2022-04-13T03:00:00",
          "2022-04-13T06:00:00",
          "2022-04-13T09:00:00",
          "2022-04-13T12:00:00",
          "2022-04-13T15:00:00",
          "2022-04-13T18:00:00",
          "2022-04-13T21:00:00",
          "2022-04-14T00:00:00",
          "2022-04-14T03:00:00",
          "2022-04-14T06:00:00",
          "2022-04-14T09:00:00",
          "2022-04-14T12:00:00",
          "2022-04-14T15:00:00",
          "2022-04-14T18:00:00",
          "2022-04-14T21:00:00",
          "2022-04-15T00:00:00",
          "2022-04-15T03:00:00",
          "2022-04-15T06:00:00",
          "2022-04-15T09:00:00",
          "2022-04-15T12:00:00",
          "2022-04-15T15:00:00",
          "2022-04-15T18:00:00",
          "2022-04-15T21:00:00",
          "2022-04-16T00:00:00",
          "2022-04-16T03:00:00",
          "2022-04-16T06:00:00",
          "2022-04-16T09:00:00",
          "2022-04-16T12:00:00",
          "2022-04-16T15:00:00",
          "2022-04-16T18:00:00",
          "2022-04-16T21:00:00",
          "2022-04-17T00:00:00"
         ],
         "xaxis": "x",
         "y": [
          15.326519012451172,
          14.532148361206055,
          15.324624061584473,
          16.439559936523438,
          17.76800537109375,
          19.135244369506836,
          18.7889461517334,
          17.28059959411621,
          16.342952728271484,
          19.4110107421875,
          17.999160766601562,
          21.75457191467285,
          22.183128356933594,
          22.079822540283203,
          21.96236801147461,
          22.549110412597656,
          22.471847534179688,
          21.416059494018555,
          20.96146583557129,
          21.10673713684082,
          18.663978576660156,
          17.07754135131836,
          15.160116195678711,
          14.233674049377441,
          14.353170394897461,
          12.238842010498047,
          12.63850212097168,
          13.226304054260254,
          15.212262153625488,
          16.550657272338867,
          16.268062591552734,
          16.281686782836914,
          14.113175392150879,
          15.857884407043457,
          17.1285457611084,
          16.034896850585938,
          14.120512008666992,
          15.762837409973145,
          17.402555465698242,
          18.414915084838867,
          17.626510620117188,
          16.690752029418945,
          9.976558685302734,
          11.198882102966309,
          11.32913875579834,
          8.14019775390625,
          10.18045425415039,
          15.678895950317383,
          14.816520690917969
         ],
         "yaxis": "y"
        },
        {
         "marker": {
          "color": "grey",
          "size": 10
         },
         "mode": "markers",
         "name": "Insufficent data",
         "type": "scatter",
         "visible": true,
         "x": [
          "2022-04-10T00:00:00.000000000",
          "2022-04-11T00:00:00.000000000",
          "2022-04-12T00:00:00.000000000",
          "2022-04-13T00:00:00.000000000",
          "2022-04-16T00:00:00.000000000"
         ],
         "xaxis": "x2",
         "y": [
          -0.5,
          -0.5,
          -0.5,
          -0.5,
          -0.5
         ],
         "yaxis": "y2"
        },
        {
         "marker": {
          "color": "green",
          "size": 10
         },
         "mode": "markers",
         "name": "Stranding not likely",
         "type": "scatter",
         "visible": true,
         "x": [
          "2022-04-14T00:00:00.000000000",
          "2022-04-15T00:00:00.000000000"
         ],
         "xaxis": "x2",
         "y": [
          0.27,
          0
         ],
         "yaxis": "y2"
        },
        {
         "marker": {
          "color": "yellow",
          "size": 10
         },
         "mode": "markers",
         "name": "Stranding Possible",
         "type": "scatter",
         "visible": true,
         "x": [],
         "xaxis": "x2",
         "y": [],
         "yaxis": "y2"
        },
        {
         "marker": {
          "color": "red",
          "size": 10
         },
         "mode": "markers",
         "name": "Stranding Likely",
         "type": "scatter",
         "visible": true,
         "x": [],
         "xaxis": "x2",
         "y": [],
         "yaxis": "y2"
        }
       ],
       "layout": {
        "annotations": [
         {
          "arrowhead": 2,
          "arrowsize": 1,
          "arrowwidth": 1.4,
          "ax": 24.43185219279556,
          "axref": "pixel",
          "ay": 5.2994903933671695,
          "ayref": "pixel",
          "visible": true,
          "x": "2022-04-11T00:00:00",
          "xanchor": "left",
          "xref": "x",
          "y": -5,
          "yanchor": "bottom",
          "yref": "y"
         },
         {
          "arrowhead": 2,
          "arrowsize": 1,
          "arrowwidth": 1.4,
          "ax": 24.998920022191644,
          "axref": "pixel",
          "ay": 0.23237410369007233,
          "ayref": "pixel",
          "visible": true,
          "x": "2022-04-11T03:00:00",
          "xanchor": "left",
          "xref": "x",
          "y": -5,
          "yanchor": "bottom",
          "yref": "y"
         },
         {
          "arrowhead": 2,
          "arrowsize": 1,
          "arrowwidth": 1.4,
          "ax": 24.886326775292478,
          "axref": "pixel",
          "ay": 2.3813314833010466,
          "ayref": "pixel",
          "visible": true,
          "x": "2022-04-11T06:00:00",
          "xanchor": "left",
          "xref": "x",
          "y": -5,
          "yanchor": "bottom",
          "yref": "y"
         },
         {
          "arrowhead": 2,
          "arrowsize": 1,
          "arrowwidth": 1.4,
          "ax": 24.50731140708084,
          "axref": "pixel",
          "ay": 4.938794143955105,
          "ayref": "pixel",
          "visible": true,
          "x": "2022-04-11T09:00:00",
          "xanchor": "left",
          "xref": "x",
          "y": -5,
          "yanchor": "bottom",
          "yref": "y"
         },
         {
          "arrowhead": 2,
          "arrowsize": 1,
          "arrowwidth": 1.4,
          "ax": 24.70010077308976,
          "axref": "pixel",
          "ay": 3.860702241718552,
          "ayref": "pixel",
          "visible": true,
          "x": "2022-04-11T12:00:00",
          "xanchor": "left",
          "xref": "x",
          "y": -5,
          "yanchor": "bottom",
          "yref": "y"
         },
         {
          "arrowhead": 2,
          "arrowsize": 1,
          "arrowwidth": 1.4,
          "ax": 24.999760504995727,
          "axref": "pixel",
          "ay": -0.10942893975422457,
          "ayref": "pixel",
          "visible": true,
          "x": "2022-04-11T15:00:00",
          "xanchor": "left",
          "xref": "x",
          "y": -5,
          "yanchor": "bottom",
          "yref": "y"
         },
         {
          "arrowhead": 2,
          "arrowsize": 1,
          "arrowwidth": 1.4,
          "ax": 24.56501539693395,
          "axref": "pixel",
          "ay": -4.643276703837272,
          "ayref": "pixel",
          "visible": true,
          "x": "2022-04-11T18:00:00",
          "xanchor": "left",
          "xref": "x",
          "y": -5,
          "yanchor": "bottom",
          "yref": "y"
         },
         {
          "arrowhead": 2,
          "arrowsize": 1,
          "arrowwidth": 1.4,
          "ax": 24.687510740892673,
          "axref": "pixel",
          "ay": -3.9404077731002483,
          "ayref": "pixel",
          "visible": true,
          "x": "2022-04-11T21:00:00",
          "xanchor": "left",
          "xref": "x",
          "y": -5,
          "yanchor": "bottom",
          "yref": "y"
         },
         {
          "arrowhead": 2,
          "arrowsize": 1,
          "arrowwidth": 1.4,
          "ax": 24.991519090901924,
          "axref": "pixel",
          "ay": -0.6511324973341117,
          "ayref": "pixel",
          "visible": true,
          "x": "2022-04-12T00:00:00",
          "xanchor": "left",
          "xref": "x",
          "y": -5,
          "yanchor": "bottom",
          "yref": "y"
         },
         {
          "arrowhead": 2,
          "arrowsize": 1,
          "arrowwidth": 1.4,
          "ax": 24.992298423263705,
          "axref": "pixel",
          "ay": 0.6204994138035457,
          "ayref": "pixel",
          "visible": true,
          "x": "2022-04-12T03:00:00",
          "xanchor": "left",
          "xref": "x",
          "y": -5,
          "yanchor": "bottom",
          "yref": "y"
         },
         {
          "arrowhead": 2,
          "arrowsize": 1,
          "arrowwidth": 1.4,
          "ax": 24.754033279351912,
          "axref": "pixel",
          "ay": -3.4982619119697236,
          "ayref": "pixel",
          "visible": true,
          "x": "2022-04-12T06:00:00",
          "xanchor": "left",
          "xref": "x",
          "y": -5,
          "yanchor": "bottom",
          "yref": "y"
         },
         {
          "arrowhead": 2,
          "arrowsize": 1,
          "arrowwidth": 1.4,
          "ax": 24.912774835229612,
          "axref": "pixel",
          "ay": -2.08654020070311,
          "ayref": "pixel",
          "visible": true,
          "x": "2022-04-12T09:00:00",
          "xanchor": "left",
          "xref": "x",
          "y": -5,
          "yanchor": "bottom",
          "yref": "y"
         },
         {
          "arrowhead": 2,
          "arrowsize": 1,
          "arrowwidth": 1.4,
          "ax": 24.30726726620897,
          "axref": "pixel",
          "ay": -5.844378328709217,
          "ayref": "pixel",
          "visible": true,
          "x": "2022-04-12T12:00:00",
          "xanchor": "left",
          "xref": "x",
          "y": -5,
          "yanchor": "bottom",
          "yref": "y"
         },
         {
          "arrowhead": 2,
          "arrowsize": 1,
          "arrowwidth": 1.4,
          "ax": 23.153860195883425,
          "axref": "pixel",
          "ay": -9.42861379151173,
          "ayref": "pixel",
          "visible": true,
          "x": "2022-04-12T15:00:00",
          "xanchor": "left",
          "xref": "x",
          "y": -5,
          "yanchor": "bottom",
          "yref": "y"
         },
         {
          "arrowhead": 2,
          "arrowsize": 1,
          "arrowwidth": 1.4,
          "ax": 22.99968371953054,
          "axref": "pixel",
          "ay": -9.798701383426367,
          "ayref": "pixel",
          "visible": true,
          "x": "2022-04-12T18:00:00",
          "xanchor": "left",
          "xref": "x",
          "y": -5,
          "yanchor": "bottom",
          "yref": "y"
         },
         {
          "arrowhead": 2,
          "arrowsize": 1,
          "arrowwidth": 1.4,
          "ax": 23.196066269635963,
          "axref": "pixel",
          "ay": -9.324296735660917,
          "ayref": "pixel",
          "visible": true,
          "x": "2022-04-12T21:00:00",
          "xanchor": "left",
          "xref": "x",
          "y": -5,
          "yanchor": "bottom",
          "yref": "y"
         },
         {
          "arrowhead": 2,
          "arrowsize": 1,
          "arrowwidth": 1.4,
          "ax": 23.554417764071186,
          "axref": "pixel",
          "ay": -8.377911660766523,
          "ayref": "pixel",
          "visible": true,
          "x": "2022-04-13T00:00:00",
          "xanchor": "left",
          "xref": "x",
          "y": -5,
          "yanchor": "bottom",
          "yref": "y"
         },
         {
          "arrowhead": 2,
          "arrowsize": 1,
          "arrowwidth": 1.4,
          "ax": 23.697496842141934,
          "axref": "pixel",
          "ay": -7.964210156485889,
          "ayref": "pixel",
          "visible": true,
          "x": "2022-04-13T03:00:00",
          "xanchor": "left",
          "xref": "x",
          "y": -5,
          "yanchor": "bottom",
          "yref": "y"
         },
         {
          "arrowhead": 2,
          "arrowsize": 1,
          "arrowwidth": 1.4,
          "ax": 23.844515880285737,
          "axref": "pixel",
          "ay": -7.512593589087685,
          "ayref": "pixel",
          "visible": true,
          "x": "2022-04-13T06:00:00",
          "xanchor": "left",
          "xref": "x",
          "y": -5,
          "yanchor": "bottom",
          "yref": "y"
         },
         {
          "arrowhead": 2,
          "arrowsize": 1,
          "arrowwidth": 1.4,
          "ax": 23.691535518532564,
          "axref": "pixel",
          "ay": -7.981926131837478,
          "ayref": "pixel",
          "visible": true,
          "x": "2022-04-13T09:00:00",
          "xanchor": "left",
          "xref": "x",
          "y": -5,
          "yanchor": "bottom",
          "yref": "y"
         },
         {
          "arrowhead": 2,
          "arrowsize": 1,
          "arrowwidth": 1.4,
          "ax": 20.891395574805628,
          "axref": "pixel",
          "ay": -13.731336094386148,
          "ayref": "pixel",
          "visible": true,
          "x": "2022-04-13T12:00:00",
          "xanchor": "left",
          "xref": "x",
          "y": -5,
          "yanchor": "bottom",
          "yref": "y"
         },
         {
          "arrowhead": 2,
          "arrowsize": 1,
          "arrowwidth": 1.4,
          "ax": 19.28879343103543,
          "axref": "pixel",
          "ay": -15.904164485280086,
          "ayref": "pixel",
          "visible": true,
          "x": "2022-04-13T15:00:00",
          "xanchor": "left",
          "xref": "x",
          "y": -5,
          "yanchor": "bottom",
          "yref": "y"
         },
         {
          "arrowhead": 2,
          "arrowsize": 1,
          "arrowwidth": 1.4,
          "ax": 17.13774431105896,
          "axref": "pixel",
          "ay": -18.20158564325554,
          "ayref": "pixel",
          "visible": true,
          "x": "2022-04-13T18:00:00",
          "xanchor": "left",
          "xref": "x",
          "y": -5,
          "yanchor": "bottom",
          "yref": "y"
         },
         {
          "arrowhead": 2,
          "arrowsize": 1,
          "arrowwidth": 1.4,
          "ax": 16.906271156317516,
          "axref": "pixel",
          "ay": -18.416785701882578,
          "ayref": "pixel",
          "visible": true,
          "x": "2022-04-13T21:00:00",
          "xanchor": "left",
          "xref": "x",
          "y": -5,
          "yanchor": "bottom",
          "yref": "y"
         },
         {
          "arrowhead": 2,
          "arrowsize": 1,
          "arrowwidth": 1.4,
          "ax": 18.388074337520848,
          "axref": "pixel",
          "ay": -16.93749456554325,
          "ayref": "pixel",
          "visible": true,
          "x": "2022-04-14T00:00:00",
          "xanchor": "left",
          "xref": "x",
          "y": -5,
          "yanchor": "bottom",
          "yref": "y"
         },
         {
          "arrowhead": 2,
          "arrowsize": 1,
          "arrowwidth": 1.4,
          "ax": 12.352687900119225,
          "axref": "pixel",
          "ay": -21.735020166594005,
          "ayref": "pixel",
          "visible": true,
          "x": "2022-04-14T03:00:00",
          "xanchor": "left",
          "xref": "x",
          "y": -5,
          "yanchor": "bottom",
          "yref": "y"
         },
         {
          "arrowhead": 2,
          "arrowsize": 1,
          "arrowwidth": 1.4,
          "ax": 6.642167505109718,
          "axref": "pixel",
          "ay": -24.10148565615955,
          "ayref": "pixel",
          "visible": true,
          "x": "2022-04-14T06:00:00",
          "xanchor": "left",
          "xref": "x",
          "y": -5,
          "yanchor": "bottom",
          "yref": "y"
         },
         {
          "arrowhead": 2,
          "arrowsize": 1,
          "arrowwidth": 1.4,
          "ax": 0.004773716224957649,
          "axref": "pixel",
          "ay": -24.999999544232665,
          "ayref": "pixel",
          "visible": true,
          "x": "2022-04-14T09:00:00",
          "xanchor": "left",
          "xref": "x",
          "y": -5,
          "yanchor": "bottom",
          "yref": "y"
         },
         {
          "arrowhead": 2,
          "arrowsize": 1,
          "arrowwidth": 1.4,
          "ax": -5.963227815349681,
          "axref": "pixel",
          "ay": -24.278383678124865,
          "ayref": "pixel",
          "visible": true,
          "x": "2022-04-14T12:00:00",
          "xanchor": "left",
          "xref": "x",
          "y": -5,
          "yanchor": "bottom",
          "yref": "y"
         },
         {
          "arrowhead": 2,
          "arrowsize": 1,
          "arrowwidth": 1.4,
          "ax": -3.946814667744356,
          "axref": "pixel",
          "ay": -24.686487274994757,
          "ayref": "pixel",
          "visible": true,
          "x": "2022-04-14T15:00:00",
          "xanchor": "left",
          "xref": "x",
          "y": -5,
          "yanchor": "bottom",
          "yref": "y"
         },
         {
          "arrowhead": 2,
          "arrowsize": 1,
          "arrowwidth": 1.4,
          "ax": 1.8452227085506694,
          "axref": "pixel",
          "ay": -24.931810065774386,
          "ayref": "pixel",
          "visible": true,
          "x": "2022-04-14T18:00:00",
          "xanchor": "left",
          "xref": "x",
          "y": -5,
          "yanchor": "bottom",
          "yref": "y"
         },
         {
          "arrowhead": 2,
          "arrowsize": 1,
          "arrowwidth": 1.4,
          "ax": 8.04612364187724,
          "axref": "pixel",
          "ay": -23.669809765598544,
          "ayref": "pixel",
          "visible": true,
          "x": "2022-04-14T21:00:00",
          "xanchor": "left",
          "xref": "x",
          "y": -5,
          "yanchor": "bottom",
          "yref": "y"
         },
         {
          "arrowhead": 2,
          "arrowsize": 1,
          "arrowwidth": 1.4,
          "ax": -9.487286087069384,
          "axref": "pixel",
          "ay": -23.1298811648936,
          "ayref": "pixel",
          "visible": true,
          "x": "2022-04-15T00:00:00",
          "xanchor": "left",
          "xref": "x",
          "y": -5,
          "yanchor": "bottom",
          "yref": "y"
         },
         {
          "arrowhead": 2,
          "arrowsize": 1,
          "arrowwidth": 1.4,
          "ax": -24.227197576858035,
          "axref": "pixel",
          "ay": 6.167892474085789,
          "ayref": "pixel",
          "visible": true,
          "x": "2022-04-15T03:00:00",
          "xanchor": "left",
          "xref": "x",
          "y": -5,
          "yanchor": "bottom",
          "yref": "y"
         },
         {
          "arrowhead": 2,
          "arrowsize": 1,
          "arrowwidth": 1.4,
          "ax": -23.468657940776033,
          "axref": "pixel",
          "ay": 8.615224573906941,
          "ayref": "pixel",
          "visible": true,
          "x": "2022-04-15T06:00:00",
          "xanchor": "left",
          "xref": "x",
          "y": -5,
          "yanchor": "bottom",
          "yref": "y"
         },
         {
          "arrowhead": 2,
          "arrowsize": 1,
          "arrowwidth": 1.4,
          "ax": -23.906524652010887,
          "axref": "pixel",
          "ay": 7.312870781218263,
          "ayref": "pixel",
          "visible": true,
          "x": "2022-04-15T09:00:00",
          "xanchor": "left",
          "xref": "x",
          "y": -5,
          "yanchor": "bottom",
          "yref": "y"
         },
         {
          "arrowhead": 2,
          "arrowsize": 1,
          "arrowwidth": 1.4,
          "ax": -24.99737699398637,
          "axref": "pixel",
          "ay": 0.36213729512549625,
          "ayref": "pixel",
          "visible": true,
          "x": "2022-04-15T12:00:00",
          "xanchor": "left",
          "xref": "x",
          "y": -5,
          "yanchor": "bottom",
          "yref": "y"
         },
         {
          "arrowhead": 2,
          "arrowsize": 1,
          "arrowwidth": 1.4,
          "ax": -24.473671767973254,
          "axref": "pixel",
          "ay": -5.102880578017572,
          "ayref": "pixel",
          "visible": true,
          "x": "2022-04-15T15:00:00",
          "xanchor": "left",
          "xref": "x",
          "y": -5,
          "yanchor": "bottom",
          "yref": "y"
         },
         {
          "arrowhead": 2,
          "arrowsize": 1,
          "arrowwidth": 1.4,
          "ax": -21.998399885517326,
          "axref": "pixel",
          "ay": -11.87730619614024,
          "ayref": "pixel",
          "visible": true,
          "x": "2022-04-15T18:00:00",
          "xanchor": "left",
          "xref": "x",
          "y": -5,
          "yanchor": "bottom",
          "yref": "y"
         },
         {
          "arrowhead": 2,
          "arrowsize": 1,
          "arrowwidth": 1.4,
          "ax": -16.076380788286464,
          "axref": "pixel",
          "ay": -19.145495051056105,
          "ayref": "pixel",
          "visible": true,
          "x": "2022-04-15T21:00:00",
          "xanchor": "left",
          "xref": "x",
          "y": -5,
          "yanchor": "bottom",
          "yref": "y"
         },
         {
          "arrowhead": 2,
          "arrowsize": 1,
          "arrowwidth": 1.4,
          "ax": -11.965463250064325,
          "axref": "pixel",
          "ay": -21.950573778636404,
          "ayref": "pixel",
          "visible": true,
          "x": "2022-04-16T00:00:00",
          "xanchor": "left",
          "xref": "x",
          "y": -5,
          "yanchor": "bottom",
          "yref": "y"
         },
         {
          "arrowhead": 2,
          "arrowsize": 1,
          "arrowwidth": 1.4,
          "ax": -10.4594308200294,
          "axref": "pixel",
          "ay": -22.706833925517206,
          "ayref": "pixel",
          "visible": true,
          "x": "2022-04-16T03:00:00",
          "xanchor": "left",
          "xref": "x",
          "y": -5,
          "yanchor": "bottom",
          "yref": "y"
         },
         {
          "arrowhead": 2,
          "arrowsize": 1,
          "arrowwidth": 1.4,
          "ax": -9.819268899352979,
          "axref": "pixel",
          "ay": -22.990910340441054,
          "ayref": "pixel",
          "visible": true,
          "x": "2022-04-16T06:00:00",
          "xanchor": "left",
          "xref": "x",
          "y": -5,
          "yanchor": "bottom",
          "yref": "y"
         },
         {
          "arrowhead": 2,
          "arrowsize": 1,
          "arrowwidth": 1.4,
          "ax": 0.1913595714656526,
          "axref": "pixel",
          "ay": -24.99926761956055,
          "ayref": "pixel",
          "visible": true,
          "x": "2022-04-16T09:00:00",
          "xanchor": "left",
          "xref": "x",
          "y": -5,
          "yanchor": "bottom",
          "yref": "y"
         },
         {
          "arrowhead": 2,
          "arrowsize": 1,
          "arrowwidth": 1.4,
          "ax": 14.824380195491816,
          "axref": "pixel",
          "ay": -20.1305179222868,
          "ayref": "pixel",
          "visible": true,
          "x": "2022-04-16T12:00:00",
          "xanchor": "left",
          "xref": "x",
          "y": -5,
          "yanchor": "bottom",
          "yref": "y"
         },
         {
          "arrowhead": 2,
          "arrowsize": 1,
          "arrowwidth": 1.4,
          "ax": 24.87635036382014,
          "axref": "pixel",
          "ay": 2.4833832922981536,
          "ayref": "pixel",
          "visible": true,
          "x": "2022-04-16T15:00:00",
          "xanchor": "left",
          "xref": "x",
          "y": -5,
          "yanchor": "bottom",
          "yref": "y"
         },
         {
          "arrowhead": 2,
          "arrowsize": 1,
          "arrowwidth": 1.4,
          "ax": 12.189963085148605,
          "axref": "pixel",
          "ay": 21.826699246169,
          "ayref": "pixel",
          "visible": true,
          "x": "2022-04-16T18:00:00",
          "xanchor": "left",
          "xref": "x",
          "y": -5,
          "yanchor": "bottom",
          "yref": "y"
         },
         {
          "arrowhead": 2,
          "arrowsize": 1,
          "arrowwidth": 1.4,
          "ax": -0.6002521116123805,
          "axref": "pixel",
          "ay": 24.992792909206944,
          "ayref": "pixel",
          "visible": true,
          "x": "2022-04-16T21:00:00",
          "xanchor": "left",
          "xref": "x",
          "y": -5,
          "yanchor": "bottom",
          "yref": "y"
         },
         {
          "arrowhead": 2,
          "arrowsize": 1,
          "arrowwidth": 1.4,
          "ax": -6.932952049288893,
          "axref": "pixel",
          "ay": 24.019454112911497,
          "ayref": "pixel",
          "visible": true,
          "x": "2022-04-17T00:00:00",
          "xanchor": "left",
          "xref": "x",
          "y": -5,
          "yanchor": "bottom",
          "yref": "y"
         }
        ],
        "template": {
         "data": {
          "bar": [
           {
            "error_x": {
             "color": "#2a3f5f"
            },
            "error_y": {
             "color": "#2a3f5f"
            },
            "marker": {
             "line": {
              "color": "#E5ECF6",
              "width": 0.5
             },
             "pattern": {
              "fillmode": "overlay",
              "size": 10,
              "solidity": 0.2
             }
            },
            "type": "bar"
           }
          ],
          "barpolar": [
           {
            "marker": {
             "line": {
              "color": "#E5ECF6",
              "width": 0.5
             },
             "pattern": {
              "fillmode": "overlay",
              "size": 10,
              "solidity": 0.2
             }
            },
            "type": "barpolar"
           }
          ],
          "carpet": [
           {
            "aaxis": {
             "endlinecolor": "#2a3f5f",
             "gridcolor": "white",
             "linecolor": "white",
             "minorgridcolor": "white",
             "startlinecolor": "#2a3f5f"
            },
            "baxis": {
             "endlinecolor": "#2a3f5f",
             "gridcolor": "white",
             "linecolor": "white",
             "minorgridcolor": "white",
             "startlinecolor": "#2a3f5f"
            },
            "type": "carpet"
           }
          ],
          "choropleth": [
           {
            "colorbar": {
             "outlinewidth": 0,
             "ticks": ""
            },
            "type": "choropleth"
           }
          ],
          "contour": [
           {
            "colorbar": {
             "outlinewidth": 0,
             "ticks": ""
            },
            "colorscale": [
             [
              0,
              "#0d0887"
             ],
             [
              0.1111111111111111,
              "#46039f"
             ],
             [
              0.2222222222222222,
              "#7201a8"
             ],
             [
              0.3333333333333333,
              "#9c179e"
             ],
             [
              0.4444444444444444,
              "#bd3786"
             ],
             [
              0.5555555555555556,
              "#d8576b"
             ],
             [
              0.6666666666666666,
              "#ed7953"
             ],
             [
              0.7777777777777778,
              "#fb9f3a"
             ],
             [
              0.8888888888888888,
              "#fdca26"
             ],
             [
              1,
              "#f0f921"
             ]
            ],
            "type": "contour"
           }
          ],
          "contourcarpet": [
           {
            "colorbar": {
             "outlinewidth": 0,
             "ticks": ""
            },
            "type": "contourcarpet"
           }
          ],
          "heatmap": [
           {
            "colorbar": {
             "outlinewidth": 0,
             "ticks": ""
            },
            "colorscale": [
             [
              0,
              "#0d0887"
             ],
             [
              0.1111111111111111,
              "#46039f"
             ],
             [
              0.2222222222222222,
              "#7201a8"
             ],
             [
              0.3333333333333333,
              "#9c179e"
             ],
             [
              0.4444444444444444,
              "#bd3786"
             ],
             [
              0.5555555555555556,
              "#d8576b"
             ],
             [
              0.6666666666666666,
              "#ed7953"
             ],
             [
              0.7777777777777778,
              "#fb9f3a"
             ],
             [
              0.8888888888888888,
              "#fdca26"
             ],
             [
              1,
              "#f0f921"
             ]
            ],
            "type": "heatmap"
           }
          ],
          "heatmapgl": [
           {
            "colorbar": {
             "outlinewidth": 0,
             "ticks": ""
            },
            "colorscale": [
             [
              0,
              "#0d0887"
             ],
             [
              0.1111111111111111,
              "#46039f"
             ],
             [
              0.2222222222222222,
              "#7201a8"
             ],
             [
              0.3333333333333333,
              "#9c179e"
             ],
             [
              0.4444444444444444,
              "#bd3786"
             ],
             [
              0.5555555555555556,
              "#d8576b"
             ],
             [
              0.6666666666666666,
              "#ed7953"
             ],
             [
              0.7777777777777778,
              "#fb9f3a"
             ],
             [
              0.8888888888888888,
              "#fdca26"
             ],
             [
              1,
              "#f0f921"
             ]
            ],
            "type": "heatmapgl"
           }
          ],
          "histogram": [
           {
            "marker": {
             "pattern": {
              "fillmode": "overlay",
              "size": 10,
              "solidity": 0.2
             }
            },
            "type": "histogram"
           }
          ],
          "histogram2d": [
           {
            "colorbar": {
             "outlinewidth": 0,
             "ticks": ""
            },
            "colorscale": [
             [
              0,
              "#0d0887"
             ],
             [
              0.1111111111111111,
              "#46039f"
             ],
             [
              0.2222222222222222,
              "#7201a8"
             ],
             [
              0.3333333333333333,
              "#9c179e"
             ],
             [
              0.4444444444444444,
              "#bd3786"
             ],
             [
              0.5555555555555556,
              "#d8576b"
             ],
             [
              0.6666666666666666,
              "#ed7953"
             ],
             [
              0.7777777777777778,
              "#fb9f3a"
             ],
             [
              0.8888888888888888,
              "#fdca26"
             ],
             [
              1,
              "#f0f921"
             ]
            ],
            "type": "histogram2d"
           }
          ],
          "histogram2dcontour": [
           {
            "colorbar": {
             "outlinewidth": 0,
             "ticks": ""
            },
            "colorscale": [
             [
              0,
              "#0d0887"
             ],
             [
              0.1111111111111111,
              "#46039f"
             ],
             [
              0.2222222222222222,
              "#7201a8"
             ],
             [
              0.3333333333333333,
              "#9c179e"
             ],
             [
              0.4444444444444444,
              "#bd3786"
             ],
             [
              0.5555555555555556,
              "#d8576b"
             ],
             [
              0.6666666666666666,
              "#ed7953"
             ],
             [
              0.7777777777777778,
              "#fb9f3a"
             ],
             [
              0.8888888888888888,
              "#fdca26"
             ],
             [
              1,
              "#f0f921"
             ]
            ],
            "type": "histogram2dcontour"
           }
          ],
          "mesh3d": [
           {
            "colorbar": {
             "outlinewidth": 0,
             "ticks": ""
            },
            "type": "mesh3d"
           }
          ],
          "parcoords": [
           {
            "line": {
             "colorbar": {
              "outlinewidth": 0,
              "ticks": ""
             }
            },
            "type": "parcoords"
           }
          ],
          "pie": [
           {
            "automargin": true,
            "type": "pie"
           }
          ],
          "scatter": [
           {
            "marker": {
             "colorbar": {
              "outlinewidth": 0,
              "ticks": ""
             }
            },
            "type": "scatter"
           }
          ],
          "scatter3d": [
           {
            "line": {
             "colorbar": {
              "outlinewidth": 0,
              "ticks": ""
             }
            },
            "marker": {
             "colorbar": {
              "outlinewidth": 0,
              "ticks": ""
             }
            },
            "type": "scatter3d"
           }
          ],
          "scattercarpet": [
           {
            "marker": {
             "colorbar": {
              "outlinewidth": 0,
              "ticks": ""
             }
            },
            "type": "scattercarpet"
           }
          ],
          "scattergeo": [
           {
            "marker": {
             "colorbar": {
              "outlinewidth": 0,
              "ticks": ""
             }
            },
            "type": "scattergeo"
           }
          ],
          "scattergl": [
           {
            "marker": {
             "colorbar": {
              "outlinewidth": 0,
              "ticks": ""
             }
            },
            "type": "scattergl"
           }
          ],
          "scattermapbox": [
           {
            "marker": {
             "colorbar": {
              "outlinewidth": 0,
              "ticks": ""
             }
            },
            "type": "scattermapbox"
           }
          ],
          "scatterpolar": [
           {
            "marker": {
             "colorbar": {
              "outlinewidth": 0,
              "ticks": ""
             }
            },
            "type": "scatterpolar"
           }
          ],
          "scatterpolargl": [
           {
            "marker": {
             "colorbar": {
              "outlinewidth": 0,
              "ticks": ""
             }
            },
            "type": "scatterpolargl"
           }
          ],
          "scatterternary": [
           {
            "marker": {
             "colorbar": {
              "outlinewidth": 0,
              "ticks": ""
             }
            },
            "type": "scatterternary"
           }
          ],
          "surface": [
           {
            "colorbar": {
             "outlinewidth": 0,
             "ticks": ""
            },
            "colorscale": [
             [
              0,
              "#0d0887"
             ],
             [
              0.1111111111111111,
              "#46039f"
             ],
             [
              0.2222222222222222,
              "#7201a8"
             ],
             [
              0.3333333333333333,
              "#9c179e"
             ],
             [
              0.4444444444444444,
              "#bd3786"
             ],
             [
              0.5555555555555556,
              "#d8576b"
             ],
             [
              0.6666666666666666,
              "#ed7953"
             ],
             [
              0.7777777777777778,
              "#fb9f3a"
             ],
             [
              0.8888888888888888,
              "#fdca26"
             ],
             [
              1,
              "#f0f921"
             ]
            ],
            "type": "surface"
           }
          ],
          "table": [
           {
            "cells": {
             "fill": {
              "color": "#EBF0F8"
             },
             "line": {
              "color": "white"
             }
            },
            "header": {
             "fill": {
              "color": "#C8D4E3"
             },
             "line": {
              "color": "white"
             }
            },
            "type": "table"
           }
          ]
         },
         "layout": {
          "annotationdefaults": {
           "arrowcolor": "#2a3f5f",
           "arrowhead": 0,
           "arrowwidth": 1
          },
          "autotypenumbers": "strict",
          "coloraxis": {
           "colorbar": {
            "outlinewidth": 0,
            "ticks": ""
           }
          },
          "colorscale": {
           "diverging": [
            [
             0,
             "#8e0152"
            ],
            [
             0.1,
             "#c51b7d"
            ],
            [
             0.2,
             "#de77ae"
            ],
            [
             0.3,
             "#f1b6da"
            ],
            [
             0.4,
             "#fde0ef"
            ],
            [
             0.5,
             "#f7f7f7"
            ],
            [
             0.6,
             "#e6f5d0"
            ],
            [
             0.7,
             "#b8e186"
            ],
            [
             0.8,
             "#7fbc41"
            ],
            [
             0.9,
             "#4d9221"
            ],
            [
             1,
             "#276419"
            ]
           ],
           "sequential": [
            [
             0,
             "#0d0887"
            ],
            [
             0.1111111111111111,
             "#46039f"
            ],
            [
             0.2222222222222222,
             "#7201a8"
            ],
            [
             0.3333333333333333,
             "#9c179e"
            ],
            [
             0.4444444444444444,
             "#bd3786"
            ],
            [
             0.5555555555555556,
             "#d8576b"
            ],
            [
             0.6666666666666666,
             "#ed7953"
            ],
            [
             0.7777777777777778,
             "#fb9f3a"
            ],
            [
             0.8888888888888888,
             "#fdca26"
            ],
            [
             1,
             "#f0f921"
            ]
           ],
           "sequentialminus": [
            [
             0,
             "#0d0887"
            ],
            [
             0.1111111111111111,
             "#46039f"
            ],
            [
             0.2222222222222222,
             "#7201a8"
            ],
            [
             0.3333333333333333,
             "#9c179e"
            ],
            [
             0.4444444444444444,
             "#bd3786"
            ],
            [
             0.5555555555555556,
             "#d8576b"
            ],
            [
             0.6666666666666666,
             "#ed7953"
            ],
            [
             0.7777777777777778,
             "#fb9f3a"
            ],
            [
             0.8888888888888888,
             "#fdca26"
            ],
            [
             1,
             "#f0f921"
            ]
           ]
          },
          "colorway": [
           "#636efa",
           "#EF553B",
           "#00cc96",
           "#ab63fa",
           "#FFA15A",
           "#19d3f3",
           "#FF6692",
           "#B6E880",
           "#FF97FF",
           "#FECB52"
          ],
          "font": {
           "color": "#2a3f5f"
          },
          "geo": {
           "bgcolor": "white",
           "lakecolor": "white",
           "landcolor": "#E5ECF6",
           "showlakes": true,
           "showland": true,
           "subunitcolor": "white"
          },
          "hoverlabel": {
           "align": "left"
          },
          "hovermode": "closest",
          "mapbox": {
           "style": "light"
          },
          "paper_bgcolor": "white",
          "plot_bgcolor": "#E5ECF6",
          "polar": {
           "angularaxis": {
            "gridcolor": "white",
            "linecolor": "white",
            "ticks": ""
           },
           "bgcolor": "#E5ECF6",
           "radialaxis": {
            "gridcolor": "white",
            "linecolor": "white",
            "ticks": ""
           }
          },
          "scene": {
           "xaxis": {
            "backgroundcolor": "#E5ECF6",
            "gridcolor": "white",
            "gridwidth": 2,
            "linecolor": "white",
            "showbackground": true,
            "ticks": "",
            "zerolinecolor": "white"
           },
           "yaxis": {
            "backgroundcolor": "#E5ECF6",
            "gridcolor": "white",
            "gridwidth": 2,
            "linecolor": "white",
            "showbackground": true,
            "ticks": "",
            "zerolinecolor": "white"
           },
           "zaxis": {
            "backgroundcolor": "#E5ECF6",
            "gridcolor": "white",
            "gridwidth": 2,
            "linecolor": "white",
            "showbackground": true,
            "ticks": "",
            "zerolinecolor": "white"
           }
          },
          "shapedefaults": {
           "line": {
            "color": "#2a3f5f"
           }
          },
          "ternary": {
           "aaxis": {
            "gridcolor": "white",
            "linecolor": "white",
            "ticks": ""
           },
           "baxis": {
            "gridcolor": "white",
            "linecolor": "white",
            "ticks": ""
           },
           "bgcolor": "#E5ECF6",
           "caxis": {
            "gridcolor": "white",
            "linecolor": "white",
            "ticks": ""
           }
          },
          "title": {
           "x": 0.05
          },
          "xaxis": {
           "automargin": true,
           "gridcolor": "white",
           "linecolor": "white",
           "ticks": "",
           "title": {
            "standoff": 15
           },
           "zerolinecolor": "white",
           "zerolinewidth": 2
          },
          "yaxis": {
           "automargin": true,
           "gridcolor": "white",
           "linecolor": "white",
           "ticks": "",
           "title": {
            "standoff": 15
           },
           "zerolinecolor": "white",
           "zerolinewidth": 2
          }
         }
        },
        "xaxis": {
         "anchor": "y",
         "domain": [
          0,
          1
         ],
         "range": [
          "2022-04-11T00:00:00",
          "2022-04-17T00:00:00"
         ]
        },
        "xaxis2": {
         "anchor": "y2",
         "domain": [
          0,
          1
         ],
         "range": [
          "2022-04-11T00:00:00",
          "2022-04-17T00:00:00"
         ]
        },
        "yaxis": {
         "anchor": "x",
         "domain": [
          0.405,
          1
         ],
         "range": [
          -10,
          30
         ],
         "title": {
          "text": "Wind Speed(knots)"
         }
        },
        "yaxis2": {
         "anchor": "x2",
         "domain": [
          0,
          0.255
         ],
         "range": [
          -1,
          5
         ],
         "title": {
          "text": "Strandings Projected"
         }
        }
       }
      },
      "text/html": [
       "<div>                            <div id=\"ab0261ac-5ba1-4938-ba96-097949b90f79\" class=\"plotly-graph-div\" style=\"height:525px; width:100%;\"></div>            <script type=\"text/javascript\">                require([\"plotly\"], function(Plotly) {                    window.PLOTLYENV=window.PLOTLYENV || {};                                    if (document.getElementById(\"ab0261ac-5ba1-4938-ba96-097949b90f79\")) {                    Plotly.newPlot(                        \"ab0261ac-5ba1-4938-ba96-097949b90f79\",                        [{\"name\":\"Wind Speed (knots)\",\"visible\":true,\"x\":[\"2022-04-11T00:00:00\",\"2022-04-11T03:00:00\",\"2022-04-11T06:00:00\",\"2022-04-11T09:00:00\",\"2022-04-11T12:00:00\",\"2022-04-11T15:00:00\",\"2022-04-11T18:00:00\",\"2022-04-11T21:00:00\",\"2022-04-12T00:00:00\",\"2022-04-12T03:00:00\",\"2022-04-12T06:00:00\",\"2022-04-12T09:00:00\",\"2022-04-12T12:00:00\",\"2022-04-12T15:00:00\",\"2022-04-12T18:00:00\",\"2022-04-12T21:00:00\",\"2022-04-13T00:00:00\",\"2022-04-13T03:00:00\",\"2022-04-13T06:00:00\",\"2022-04-13T09:00:00\",\"2022-04-13T12:00:00\",\"2022-04-13T15:00:00\",\"2022-04-13T18:00:00\",\"2022-04-13T21:00:00\",\"2022-04-14T00:00:00\",\"2022-04-14T03:00:00\",\"2022-04-14T06:00:00\",\"2022-04-14T09:00:00\",\"2022-04-14T12:00:00\",\"2022-04-14T15:00:00\",\"2022-04-14T18:00:00\",\"2022-04-14T21:00:00\",\"2022-04-15T00:00:00\",\"2022-04-15T03:00:00\",\"2022-04-15T06:00:00\",\"2022-04-15T09:00:00\",\"2022-04-15T12:00:00\",\"2022-04-15T15:00:00\",\"2022-04-15T18:00:00\",\"2022-04-15T21:00:00\",\"2022-04-16T00:00:00\",\"2022-04-16T03:00:00\",\"2022-04-16T06:00:00\",\"2022-04-16T09:00:00\",\"2022-04-16T12:00:00\",\"2022-04-16T15:00:00\",\"2022-04-16T18:00:00\",\"2022-04-16T21:00:00\",\"2022-04-17T00:00:00\"],\"y\":[15.326519012451172,14.532148361206055,15.324624061584473,16.439559936523438,17.76800537109375,19.135244369506836,18.7889461517334,17.28059959411621,16.342952728271484,19.4110107421875,17.999160766601562,21.75457191467285,22.183128356933594,22.079822540283203,21.96236801147461,22.549110412597656,22.471847534179688,21.416059494018555,20.96146583557129,21.10673713684082,18.663978576660156,17.07754135131836,15.160116195678711,14.233674049377441,14.353170394897461,12.238842010498047,12.63850212097168,13.226304054260254,15.212262153625488,16.550657272338867,16.268062591552734,16.281686782836914,14.113175392150879,15.857884407043457,17.1285457611084,16.034896850585938,14.120512008666992,15.762837409973145,17.402555465698242,18.414915084838867,17.626510620117188,16.690752029418945,9.976558685302734,11.198882102966309,11.32913875579834,8.14019775390625,10.18045425415039,15.678895950317383,14.816520690917969],\"type\":\"scatter\",\"xaxis\":\"x\",\"yaxis\":\"y\"},{\"name\":\"Wind Speed (knots)\",\"visible\":true,\"x\":[\"2022-04-11T00:00:00\",\"2022-04-11T03:00:00\",\"2022-04-11T06:00:00\",\"2022-04-11T09:00:00\",\"2022-04-11T12:00:00\",\"2022-04-11T15:00:00\",\"2022-04-11T18:00:00\",\"2022-04-11T21:00:00\",\"2022-04-12T00:00:00\",\"2022-04-12T03:00:00\",\"2022-04-12T06:00:00\",\"2022-04-12T09:00:00\",\"2022-04-12T12:00:00\",\"2022-04-12T15:00:00\",\"2022-04-12T18:00:00\",\"2022-04-12T21:00:00\",\"2022-04-13T00:00:00\",\"2022-04-13T03:00:00\",\"2022-04-13T06:00:00\",\"2022-04-13T09:00:00\",\"2022-04-13T12:00:00\",\"2022-04-13T15:00:00\",\"2022-04-13T18:00:00\",\"2022-04-13T21:00:00\",\"2022-04-14T00:00:00\",\"2022-04-14T03:00:00\",\"2022-04-14T06:00:00\",\"2022-04-14T09:00:00\",\"2022-04-14T12:00:00\",\"2022-04-14T15:00:00\",\"2022-04-14T18:00:00\",\"2022-04-14T21:00:00\",\"2022-04-15T00:00:00\",\"2022-04-15T03:00:00\",\"2022-04-15T06:00:00\",\"2022-04-15T09:00:00\",\"2022-04-15T12:00:00\",\"2022-04-15T15:00:00\",\"2022-04-15T18:00:00\",\"2022-04-15T21:00:00\",\"2022-04-16T00:00:00\",\"2022-04-16T03:00:00\",\"2022-04-16T06:00:00\",\"2022-04-16T09:00:00\",\"2022-04-16T12:00:00\",\"2022-04-16T15:00:00\",\"2022-04-16T18:00:00\",\"2022-04-16T21:00:00\",\"2022-04-17T00:00:00\"],\"y\":[15.326519012451172,14.532148361206055,15.324624061584473,16.439559936523438,17.76800537109375,19.135244369506836,18.7889461517334,17.28059959411621,16.342952728271484,19.4110107421875,17.999160766601562,21.75457191467285,22.183128356933594,22.079822540283203,21.96236801147461,22.549110412597656,22.471847534179688,21.416059494018555,20.96146583557129,21.10673713684082,18.663978576660156,17.07754135131836,15.160116195678711,14.233674049377441,14.353170394897461,12.238842010498047,12.63850212097168,13.226304054260254,15.212262153625488,16.550657272338867,16.268062591552734,16.281686782836914,14.113175392150879,15.857884407043457,17.1285457611084,16.034896850585938,14.120512008666992,15.762837409973145,17.402555465698242,18.414915084838867,17.626510620117188,16.690752029418945,9.976558685302734,11.198882102966309,11.32913875579834,8.14019775390625,10.18045425415039,15.678895950317383,14.816520690917969],\"type\":\"scatter\",\"xaxis\":\"x\",\"yaxis\":\"y\"},{\"marker\":{\"color\":\"grey\",\"size\":10},\"mode\":\"markers\",\"name\":\"Insufficent data\",\"visible\":true,\"x\":[\"2022-04-10T00:00:00.000000000\",\"2022-04-11T00:00:00.000000000\",\"2022-04-12T00:00:00.000000000\",\"2022-04-13T00:00:00.000000000\",\"2022-04-16T00:00:00.000000000\"],\"y\":[-0.5,-0.5,-0.5,-0.5,-0.5],\"type\":\"scatter\",\"xaxis\":\"x2\",\"yaxis\":\"y2\"},{\"marker\":{\"color\":\"green\",\"size\":10},\"mode\":\"markers\",\"name\":\"Stranding not likely\",\"visible\":true,\"x\":[\"2022-04-14T00:00:00.000000000\",\"2022-04-15T00:00:00.000000000\"],\"y\":[0.27,0.0],\"type\":\"scatter\",\"xaxis\":\"x2\",\"yaxis\":\"y2\"},{\"marker\":{\"color\":\"yellow\",\"size\":10},\"mode\":\"markers\",\"name\":\"Stranding Possible\",\"visible\":true,\"x\":[],\"y\":[],\"type\":\"scatter\",\"xaxis\":\"x2\",\"yaxis\":\"y2\"},{\"marker\":{\"color\":\"red\",\"size\":10},\"mode\":\"markers\",\"name\":\"Stranding Likely\",\"visible\":true,\"x\":[],\"y\":[],\"type\":\"scatter\",\"xaxis\":\"x2\",\"yaxis\":\"y2\"}],                        {\"template\":{\"data\":{\"bar\":[{\"error_x\":{\"color\":\"#2a3f5f\"},\"error_y\":{\"color\":\"#2a3f5f\"},\"marker\":{\"line\":{\"color\":\"#E5ECF6\",\"width\":0.5},\"pattern\":{\"fillmode\":\"overlay\",\"size\":10,\"solidity\":0.2}},\"type\":\"bar\"}],\"barpolar\":[{\"marker\":{\"line\":{\"color\":\"#E5ECF6\",\"width\":0.5},\"pattern\":{\"fillmode\":\"overlay\",\"size\":10,\"solidity\":0.2}},\"type\":\"barpolar\"}],\"carpet\":[{\"aaxis\":{\"endlinecolor\":\"#2a3f5f\",\"gridcolor\":\"white\",\"linecolor\":\"white\",\"minorgridcolor\":\"white\",\"startlinecolor\":\"#2a3f5f\"},\"baxis\":{\"endlinecolor\":\"#2a3f5f\",\"gridcolor\":\"white\",\"linecolor\":\"white\",\"minorgridcolor\":\"white\",\"startlinecolor\":\"#2a3f5f\"},\"type\":\"carpet\"}],\"choropleth\":[{\"colorbar\":{\"outlinewidth\":0,\"ticks\":\"\"},\"type\":\"choropleth\"}],\"contour\":[{\"colorbar\":{\"outlinewidth\":0,\"ticks\":\"\"},\"colorscale\":[[0.0,\"#0d0887\"],[0.1111111111111111,\"#46039f\"],[0.2222222222222222,\"#7201a8\"],[0.3333333333333333,\"#9c179e\"],[0.4444444444444444,\"#bd3786\"],[0.5555555555555556,\"#d8576b\"],[0.6666666666666666,\"#ed7953\"],[0.7777777777777778,\"#fb9f3a\"],[0.8888888888888888,\"#fdca26\"],[1.0,\"#f0f921\"]],\"type\":\"contour\"}],\"contourcarpet\":[{\"colorbar\":{\"outlinewidth\":0,\"ticks\":\"\"},\"type\":\"contourcarpet\"}],\"heatmap\":[{\"colorbar\":{\"outlinewidth\":0,\"ticks\":\"\"},\"colorscale\":[[0.0,\"#0d0887\"],[0.1111111111111111,\"#46039f\"],[0.2222222222222222,\"#7201a8\"],[0.3333333333333333,\"#9c179e\"],[0.4444444444444444,\"#bd3786\"],[0.5555555555555556,\"#d8576b\"],[0.6666666666666666,\"#ed7953\"],[0.7777777777777778,\"#fb9f3a\"],[0.8888888888888888,\"#fdca26\"],[1.0,\"#f0f921\"]],\"type\":\"heatmap\"}],\"heatmapgl\":[{\"colorbar\":{\"outlinewidth\":0,\"ticks\":\"\"},\"colorscale\":[[0.0,\"#0d0887\"],[0.1111111111111111,\"#46039f\"],[0.2222222222222222,\"#7201a8\"],[0.3333333333333333,\"#9c179e\"],[0.4444444444444444,\"#bd3786\"],[0.5555555555555556,\"#d8576b\"],[0.6666666666666666,\"#ed7953\"],[0.7777777777777778,\"#fb9f3a\"],[0.8888888888888888,\"#fdca26\"],[1.0,\"#f0f921\"]],\"type\":\"heatmapgl\"}],\"histogram\":[{\"marker\":{\"pattern\":{\"fillmode\":\"overlay\",\"size\":10,\"solidity\":0.2}},\"type\":\"histogram\"}],\"histogram2d\":[{\"colorbar\":{\"outlinewidth\":0,\"ticks\":\"\"},\"colorscale\":[[0.0,\"#0d0887\"],[0.1111111111111111,\"#46039f\"],[0.2222222222222222,\"#7201a8\"],[0.3333333333333333,\"#9c179e\"],[0.4444444444444444,\"#bd3786\"],[0.5555555555555556,\"#d8576b\"],[0.6666666666666666,\"#ed7953\"],[0.7777777777777778,\"#fb9f3a\"],[0.8888888888888888,\"#fdca26\"],[1.0,\"#f0f921\"]],\"type\":\"histogram2d\"}],\"histogram2dcontour\":[{\"colorbar\":{\"outlinewidth\":0,\"ticks\":\"\"},\"colorscale\":[[0.0,\"#0d0887\"],[0.1111111111111111,\"#46039f\"],[0.2222222222222222,\"#7201a8\"],[0.3333333333333333,\"#9c179e\"],[0.4444444444444444,\"#bd3786\"],[0.5555555555555556,\"#d8576b\"],[0.6666666666666666,\"#ed7953\"],[0.7777777777777778,\"#fb9f3a\"],[0.8888888888888888,\"#fdca26\"],[1.0,\"#f0f921\"]],\"type\":\"histogram2dcontour\"}],\"mesh3d\":[{\"colorbar\":{\"outlinewidth\":0,\"ticks\":\"\"},\"type\":\"mesh3d\"}],\"parcoords\":[{\"line\":{\"colorbar\":{\"outlinewidth\":0,\"ticks\":\"\"}},\"type\":\"parcoords\"}],\"pie\":[{\"automargin\":true,\"type\":\"pie\"}],\"scatter\":[{\"marker\":{\"colorbar\":{\"outlinewidth\":0,\"ticks\":\"\"}},\"type\":\"scatter\"}],\"scatter3d\":[{\"line\":{\"colorbar\":{\"outlinewidth\":0,\"ticks\":\"\"}},\"marker\":{\"colorbar\":{\"outlinewidth\":0,\"ticks\":\"\"}},\"type\":\"scatter3d\"}],\"scattercarpet\":[{\"marker\":{\"colorbar\":{\"outlinewidth\":0,\"ticks\":\"\"}},\"type\":\"scattercarpet\"}],\"scattergeo\":[{\"marker\":{\"colorbar\":{\"outlinewidth\":0,\"ticks\":\"\"}},\"type\":\"scattergeo\"}],\"scattergl\":[{\"marker\":{\"colorbar\":{\"outlinewidth\":0,\"ticks\":\"\"}},\"type\":\"scattergl\"}],\"scattermapbox\":[{\"marker\":{\"colorbar\":{\"outlinewidth\":0,\"ticks\":\"\"}},\"type\":\"scattermapbox\"}],\"scatterpolar\":[{\"marker\":{\"colorbar\":{\"outlinewidth\":0,\"ticks\":\"\"}},\"type\":\"scatterpolar\"}],\"scatterpolargl\":[{\"marker\":{\"colorbar\":{\"outlinewidth\":0,\"ticks\":\"\"}},\"type\":\"scatterpolargl\"}],\"scatterternary\":[{\"marker\":{\"colorbar\":{\"outlinewidth\":0,\"ticks\":\"\"}},\"type\":\"scatterternary\"}],\"surface\":[{\"colorbar\":{\"outlinewidth\":0,\"ticks\":\"\"},\"colorscale\":[[0.0,\"#0d0887\"],[0.1111111111111111,\"#46039f\"],[0.2222222222222222,\"#7201a8\"],[0.3333333333333333,\"#9c179e\"],[0.4444444444444444,\"#bd3786\"],[0.5555555555555556,\"#d8576b\"],[0.6666666666666666,\"#ed7953\"],[0.7777777777777778,\"#fb9f3a\"],[0.8888888888888888,\"#fdca26\"],[1.0,\"#f0f921\"]],\"type\":\"surface\"}],\"table\":[{\"cells\":{\"fill\":{\"color\":\"#EBF0F8\"},\"line\":{\"color\":\"white\"}},\"header\":{\"fill\":{\"color\":\"#C8D4E3\"},\"line\":{\"color\":\"white\"}},\"type\":\"table\"}]},\"layout\":{\"annotationdefaults\":{\"arrowcolor\":\"#2a3f5f\",\"arrowhead\":0,\"arrowwidth\":1},\"autotypenumbers\":\"strict\",\"coloraxis\":{\"colorbar\":{\"outlinewidth\":0,\"ticks\":\"\"}},\"colorscale\":{\"diverging\":[[0,\"#8e0152\"],[0.1,\"#c51b7d\"],[0.2,\"#de77ae\"],[0.3,\"#f1b6da\"],[0.4,\"#fde0ef\"],[0.5,\"#f7f7f7\"],[0.6,\"#e6f5d0\"],[0.7,\"#b8e186\"],[0.8,\"#7fbc41\"],[0.9,\"#4d9221\"],[1,\"#276419\"]],\"sequential\":[[0.0,\"#0d0887\"],[0.1111111111111111,\"#46039f\"],[0.2222222222222222,\"#7201a8\"],[0.3333333333333333,\"#9c179e\"],[0.4444444444444444,\"#bd3786\"],[0.5555555555555556,\"#d8576b\"],[0.6666666666666666,\"#ed7953\"],[0.7777777777777778,\"#fb9f3a\"],[0.8888888888888888,\"#fdca26\"],[1.0,\"#f0f921\"]],\"sequentialminus\":[[0.0,\"#0d0887\"],[0.1111111111111111,\"#46039f\"],[0.2222222222222222,\"#7201a8\"],[0.3333333333333333,\"#9c179e\"],[0.4444444444444444,\"#bd3786\"],[0.5555555555555556,\"#d8576b\"],[0.6666666666666666,\"#ed7953\"],[0.7777777777777778,\"#fb9f3a\"],[0.8888888888888888,\"#fdca26\"],[1.0,\"#f0f921\"]]},\"colorway\":[\"#636efa\",\"#EF553B\",\"#00cc96\",\"#ab63fa\",\"#FFA15A\",\"#19d3f3\",\"#FF6692\",\"#B6E880\",\"#FF97FF\",\"#FECB52\"],\"font\":{\"color\":\"#2a3f5f\"},\"geo\":{\"bgcolor\":\"white\",\"lakecolor\":\"white\",\"landcolor\":\"#E5ECF6\",\"showlakes\":true,\"showland\":true,\"subunitcolor\":\"white\"},\"hoverlabel\":{\"align\":\"left\"},\"hovermode\":\"closest\",\"mapbox\":{\"style\":\"light\"},\"paper_bgcolor\":\"white\",\"plot_bgcolor\":\"#E5ECF6\",\"polar\":{\"angularaxis\":{\"gridcolor\":\"white\",\"linecolor\":\"white\",\"ticks\":\"\"},\"bgcolor\":\"#E5ECF6\",\"radialaxis\":{\"gridcolor\":\"white\",\"linecolor\":\"white\",\"ticks\":\"\"}},\"scene\":{\"xaxis\":{\"backgroundcolor\":\"#E5ECF6\",\"gridcolor\":\"white\",\"gridwidth\":2,\"linecolor\":\"white\",\"showbackground\":true,\"ticks\":\"\",\"zerolinecolor\":\"white\"},\"yaxis\":{\"backgroundcolor\":\"#E5ECF6\",\"gridcolor\":\"white\",\"gridwidth\":2,\"linecolor\":\"white\",\"showbackground\":true,\"ticks\":\"\",\"zerolinecolor\":\"white\"},\"zaxis\":{\"backgroundcolor\":\"#E5ECF6\",\"gridcolor\":\"white\",\"gridwidth\":2,\"linecolor\":\"white\",\"showbackground\":true,\"ticks\":\"\",\"zerolinecolor\":\"white\"}},\"shapedefaults\":{\"line\":{\"color\":\"#2a3f5f\"}},\"ternary\":{\"aaxis\":{\"gridcolor\":\"white\",\"linecolor\":\"white\",\"ticks\":\"\"},\"baxis\":{\"gridcolor\":\"white\",\"linecolor\":\"white\",\"ticks\":\"\"},\"bgcolor\":\"#E5ECF6\",\"caxis\":{\"gridcolor\":\"white\",\"linecolor\":\"white\",\"ticks\":\"\"}},\"title\":{\"x\":0.05},\"xaxis\":{\"automargin\":true,\"gridcolor\":\"white\",\"linecolor\":\"white\",\"ticks\":\"\",\"title\":{\"standoff\":15},\"zerolinecolor\":\"white\",\"zerolinewidth\":2},\"yaxis\":{\"automargin\":true,\"gridcolor\":\"white\",\"linecolor\":\"white\",\"ticks\":\"\",\"title\":{\"standoff\":15},\"zerolinecolor\":\"white\",\"zerolinewidth\":2}}},\"xaxis\":{\"anchor\":\"y\",\"domain\":[0.0,1.0],\"range\":[\"2022-04-11T00:00:00\",\"2022-04-17T00:00:00\"]},\"yaxis\":{\"anchor\":\"x\",\"domain\":[0.405,1.0],\"range\":[-10,30],\"title\":{\"text\":\"Wind Speed(knots)\"}},\"xaxis2\":{\"anchor\":\"y2\",\"domain\":[0.0,1.0],\"range\":[\"2022-04-11T00:00:00\",\"2022-04-17T00:00:00\"]},\"yaxis2\":{\"anchor\":\"x2\",\"domain\":[0.0,0.255],\"range\":[-1,5],\"title\":{\"text\":\"Strandings Projected\"}},\"annotations\":[{\"arrowhead\":2,\"arrowsize\":1,\"arrowwidth\":1.4,\"ax\":24.43185219279556,\"axref\":\"pixel\",\"ay\":5.2994903933671695,\"ayref\":\"pixel\",\"visible\":true,\"x\":\"2022-04-11T00:00:00\",\"xanchor\":\"left\",\"xref\":\"x\",\"y\":-5,\"yanchor\":\"bottom\",\"yref\":\"y\"},{\"arrowhead\":2,\"arrowsize\":1,\"arrowwidth\":1.4,\"ax\":24.998920022191644,\"axref\":\"pixel\",\"ay\":0.23237410369007233,\"ayref\":\"pixel\",\"visible\":true,\"x\":\"2022-04-11T03:00:00\",\"xanchor\":\"left\",\"xref\":\"x\",\"y\":-5,\"yanchor\":\"bottom\",\"yref\":\"y\"},{\"arrowhead\":2,\"arrowsize\":1,\"arrowwidth\":1.4,\"ax\":24.886326775292478,\"axref\":\"pixel\",\"ay\":2.3813314833010466,\"ayref\":\"pixel\",\"visible\":true,\"x\":\"2022-04-11T06:00:00\",\"xanchor\":\"left\",\"xref\":\"x\",\"y\":-5,\"yanchor\":\"bottom\",\"yref\":\"y\"},{\"arrowhead\":2,\"arrowsize\":1,\"arrowwidth\":1.4,\"ax\":24.50731140708084,\"axref\":\"pixel\",\"ay\":4.938794143955105,\"ayref\":\"pixel\",\"visible\":true,\"x\":\"2022-04-11T09:00:00\",\"xanchor\":\"left\",\"xref\":\"x\",\"y\":-5,\"yanchor\":\"bottom\",\"yref\":\"y\"},{\"arrowhead\":2,\"arrowsize\":1,\"arrowwidth\":1.4,\"ax\":24.70010077308976,\"axref\":\"pixel\",\"ay\":3.860702241718552,\"ayref\":\"pixel\",\"visible\":true,\"x\":\"2022-04-11T12:00:00\",\"xanchor\":\"left\",\"xref\":\"x\",\"y\":-5,\"yanchor\":\"bottom\",\"yref\":\"y\"},{\"arrowhead\":2,\"arrowsize\":1,\"arrowwidth\":1.4,\"ax\":24.999760504995727,\"axref\":\"pixel\",\"ay\":-0.10942893975422457,\"ayref\":\"pixel\",\"visible\":true,\"x\":\"2022-04-11T15:00:00\",\"xanchor\":\"left\",\"xref\":\"x\",\"y\":-5,\"yanchor\":\"bottom\",\"yref\":\"y\"},{\"arrowhead\":2,\"arrowsize\":1,\"arrowwidth\":1.4,\"ax\":24.56501539693395,\"axref\":\"pixel\",\"ay\":-4.643276703837272,\"ayref\":\"pixel\",\"visible\":true,\"x\":\"2022-04-11T18:00:00\",\"xanchor\":\"left\",\"xref\":\"x\",\"y\":-5,\"yanchor\":\"bottom\",\"yref\":\"y\"},{\"arrowhead\":2,\"arrowsize\":1,\"arrowwidth\":1.4,\"ax\":24.687510740892673,\"axref\":\"pixel\",\"ay\":-3.9404077731002483,\"ayref\":\"pixel\",\"visible\":true,\"x\":\"2022-04-11T21:00:00\",\"xanchor\":\"left\",\"xref\":\"x\",\"y\":-5,\"yanchor\":\"bottom\",\"yref\":\"y\"},{\"arrowhead\":2,\"arrowsize\":1,\"arrowwidth\":1.4,\"ax\":24.991519090901924,\"axref\":\"pixel\",\"ay\":-0.6511324973341117,\"ayref\":\"pixel\",\"visible\":true,\"x\":\"2022-04-12T00:00:00\",\"xanchor\":\"left\",\"xref\":\"x\",\"y\":-5,\"yanchor\":\"bottom\",\"yref\":\"y\"},{\"arrowhead\":2,\"arrowsize\":1,\"arrowwidth\":1.4,\"ax\":24.992298423263705,\"axref\":\"pixel\",\"ay\":0.6204994138035457,\"ayref\":\"pixel\",\"visible\":true,\"x\":\"2022-04-12T03:00:00\",\"xanchor\":\"left\",\"xref\":\"x\",\"y\":-5,\"yanchor\":\"bottom\",\"yref\":\"y\"},{\"arrowhead\":2,\"arrowsize\":1,\"arrowwidth\":1.4,\"ax\":24.754033279351912,\"axref\":\"pixel\",\"ay\":-3.4982619119697236,\"ayref\":\"pixel\",\"visible\":true,\"x\":\"2022-04-12T06:00:00\",\"xanchor\":\"left\",\"xref\":\"x\",\"y\":-5,\"yanchor\":\"bottom\",\"yref\":\"y\"},{\"arrowhead\":2,\"arrowsize\":1,\"arrowwidth\":1.4,\"ax\":24.912774835229612,\"axref\":\"pixel\",\"ay\":-2.08654020070311,\"ayref\":\"pixel\",\"visible\":true,\"x\":\"2022-04-12T09:00:00\",\"xanchor\":\"left\",\"xref\":\"x\",\"y\":-5,\"yanchor\":\"bottom\",\"yref\":\"y\"},{\"arrowhead\":2,\"arrowsize\":1,\"arrowwidth\":1.4,\"ax\":24.30726726620897,\"axref\":\"pixel\",\"ay\":-5.844378328709217,\"ayref\":\"pixel\",\"visible\":true,\"x\":\"2022-04-12T12:00:00\",\"xanchor\":\"left\",\"xref\":\"x\",\"y\":-5,\"yanchor\":\"bottom\",\"yref\":\"y\"},{\"arrowhead\":2,\"arrowsize\":1,\"arrowwidth\":1.4,\"ax\":23.153860195883425,\"axref\":\"pixel\",\"ay\":-9.42861379151173,\"ayref\":\"pixel\",\"visible\":true,\"x\":\"2022-04-12T15:00:00\",\"xanchor\":\"left\",\"xref\":\"x\",\"y\":-5,\"yanchor\":\"bottom\",\"yref\":\"y\"},{\"arrowhead\":2,\"arrowsize\":1,\"arrowwidth\":1.4,\"ax\":22.99968371953054,\"axref\":\"pixel\",\"ay\":-9.798701383426367,\"ayref\":\"pixel\",\"visible\":true,\"x\":\"2022-04-12T18:00:00\",\"xanchor\":\"left\",\"xref\":\"x\",\"y\":-5,\"yanchor\":\"bottom\",\"yref\":\"y\"},{\"arrowhead\":2,\"arrowsize\":1,\"arrowwidth\":1.4,\"ax\":23.196066269635963,\"axref\":\"pixel\",\"ay\":-9.324296735660917,\"ayref\":\"pixel\",\"visible\":true,\"x\":\"2022-04-12T21:00:00\",\"xanchor\":\"left\",\"xref\":\"x\",\"y\":-5,\"yanchor\":\"bottom\",\"yref\":\"y\"},{\"arrowhead\":2,\"arrowsize\":1,\"arrowwidth\":1.4,\"ax\":23.554417764071186,\"axref\":\"pixel\",\"ay\":-8.377911660766523,\"ayref\":\"pixel\",\"visible\":true,\"x\":\"2022-04-13T00:00:00\",\"xanchor\":\"left\",\"xref\":\"x\",\"y\":-5,\"yanchor\":\"bottom\",\"yref\":\"y\"},{\"arrowhead\":2,\"arrowsize\":1,\"arrowwidth\":1.4,\"ax\":23.697496842141934,\"axref\":\"pixel\",\"ay\":-7.964210156485889,\"ayref\":\"pixel\",\"visible\":true,\"x\":\"2022-04-13T03:00:00\",\"xanchor\":\"left\",\"xref\":\"x\",\"y\":-5,\"yanchor\":\"bottom\",\"yref\":\"y\"},{\"arrowhead\":2,\"arrowsize\":1,\"arrowwidth\":1.4,\"ax\":23.844515880285737,\"axref\":\"pixel\",\"ay\":-7.512593589087685,\"ayref\":\"pixel\",\"visible\":true,\"x\":\"2022-04-13T06:00:00\",\"xanchor\":\"left\",\"xref\":\"x\",\"y\":-5,\"yanchor\":\"bottom\",\"yref\":\"y\"},{\"arrowhead\":2,\"arrowsize\":1,\"arrowwidth\":1.4,\"ax\":23.691535518532564,\"axref\":\"pixel\",\"ay\":-7.981926131837478,\"ayref\":\"pixel\",\"visible\":true,\"x\":\"2022-04-13T09:00:00\",\"xanchor\":\"left\",\"xref\":\"x\",\"y\":-5,\"yanchor\":\"bottom\",\"yref\":\"y\"},{\"arrowhead\":2,\"arrowsize\":1,\"arrowwidth\":1.4,\"ax\":20.891395574805628,\"axref\":\"pixel\",\"ay\":-13.731336094386148,\"ayref\":\"pixel\",\"visible\":true,\"x\":\"2022-04-13T12:00:00\",\"xanchor\":\"left\",\"xref\":\"x\",\"y\":-5,\"yanchor\":\"bottom\",\"yref\":\"y\"},{\"arrowhead\":2,\"arrowsize\":1,\"arrowwidth\":1.4,\"ax\":19.28879343103543,\"axref\":\"pixel\",\"ay\":-15.904164485280086,\"ayref\":\"pixel\",\"visible\":true,\"x\":\"2022-04-13T15:00:00\",\"xanchor\":\"left\",\"xref\":\"x\",\"y\":-5,\"yanchor\":\"bottom\",\"yref\":\"y\"},{\"arrowhead\":2,\"arrowsize\":1,\"arrowwidth\":1.4,\"ax\":17.13774431105896,\"axref\":\"pixel\",\"ay\":-18.20158564325554,\"ayref\":\"pixel\",\"visible\":true,\"x\":\"2022-04-13T18:00:00\",\"xanchor\":\"left\",\"xref\":\"x\",\"y\":-5,\"yanchor\":\"bottom\",\"yref\":\"y\"},{\"arrowhead\":2,\"arrowsize\":1,\"arrowwidth\":1.4,\"ax\":16.906271156317516,\"axref\":\"pixel\",\"ay\":-18.416785701882578,\"ayref\":\"pixel\",\"visible\":true,\"x\":\"2022-04-13T21:00:00\",\"xanchor\":\"left\",\"xref\":\"x\",\"y\":-5,\"yanchor\":\"bottom\",\"yref\":\"y\"},{\"arrowhead\":2,\"arrowsize\":1,\"arrowwidth\":1.4,\"ax\":18.388074337520848,\"axref\":\"pixel\",\"ay\":-16.93749456554325,\"ayref\":\"pixel\",\"visible\":true,\"x\":\"2022-04-14T00:00:00\",\"xanchor\":\"left\",\"xref\":\"x\",\"y\":-5,\"yanchor\":\"bottom\",\"yref\":\"y\"},{\"arrowhead\":2,\"arrowsize\":1,\"arrowwidth\":1.4,\"ax\":12.352687900119225,\"axref\":\"pixel\",\"ay\":-21.735020166594005,\"ayref\":\"pixel\",\"visible\":true,\"x\":\"2022-04-14T03:00:00\",\"xanchor\":\"left\",\"xref\":\"x\",\"y\":-5,\"yanchor\":\"bottom\",\"yref\":\"y\"},{\"arrowhead\":2,\"arrowsize\":1,\"arrowwidth\":1.4,\"ax\":6.642167505109718,\"axref\":\"pixel\",\"ay\":-24.10148565615955,\"ayref\":\"pixel\",\"visible\":true,\"x\":\"2022-04-14T06:00:00\",\"xanchor\":\"left\",\"xref\":\"x\",\"y\":-5,\"yanchor\":\"bottom\",\"yref\":\"y\"},{\"arrowhead\":2,\"arrowsize\":1,\"arrowwidth\":1.4,\"ax\":0.004773716224957649,\"axref\":\"pixel\",\"ay\":-24.999999544232665,\"ayref\":\"pixel\",\"visible\":true,\"x\":\"2022-04-14T09:00:00\",\"xanchor\":\"left\",\"xref\":\"x\",\"y\":-5,\"yanchor\":\"bottom\",\"yref\":\"y\"},{\"arrowhead\":2,\"arrowsize\":1,\"arrowwidth\":1.4,\"ax\":-5.963227815349681,\"axref\":\"pixel\",\"ay\":-24.278383678124865,\"ayref\":\"pixel\",\"visible\":true,\"x\":\"2022-04-14T12:00:00\",\"xanchor\":\"left\",\"xref\":\"x\",\"y\":-5,\"yanchor\":\"bottom\",\"yref\":\"y\"},{\"arrowhead\":2,\"arrowsize\":1,\"arrowwidth\":1.4,\"ax\":-3.946814667744356,\"axref\":\"pixel\",\"ay\":-24.686487274994757,\"ayref\":\"pixel\",\"visible\":true,\"x\":\"2022-04-14T15:00:00\",\"xanchor\":\"left\",\"xref\":\"x\",\"y\":-5,\"yanchor\":\"bottom\",\"yref\":\"y\"},{\"arrowhead\":2,\"arrowsize\":1,\"arrowwidth\":1.4,\"ax\":1.8452227085506694,\"axref\":\"pixel\",\"ay\":-24.931810065774386,\"ayref\":\"pixel\",\"visible\":true,\"x\":\"2022-04-14T18:00:00\",\"xanchor\":\"left\",\"xref\":\"x\",\"y\":-5,\"yanchor\":\"bottom\",\"yref\":\"y\"},{\"arrowhead\":2,\"arrowsize\":1,\"arrowwidth\":1.4,\"ax\":8.04612364187724,\"axref\":\"pixel\",\"ay\":-23.669809765598544,\"ayref\":\"pixel\",\"visible\":true,\"x\":\"2022-04-14T21:00:00\",\"xanchor\":\"left\",\"xref\":\"x\",\"y\":-5,\"yanchor\":\"bottom\",\"yref\":\"y\"},{\"arrowhead\":2,\"arrowsize\":1,\"arrowwidth\":1.4,\"ax\":-9.487286087069384,\"axref\":\"pixel\",\"ay\":-23.1298811648936,\"ayref\":\"pixel\",\"visible\":true,\"x\":\"2022-04-15T00:00:00\",\"xanchor\":\"left\",\"xref\":\"x\",\"y\":-5,\"yanchor\":\"bottom\",\"yref\":\"y\"},{\"arrowhead\":2,\"arrowsize\":1,\"arrowwidth\":1.4,\"ax\":-24.227197576858035,\"axref\":\"pixel\",\"ay\":6.167892474085789,\"ayref\":\"pixel\",\"visible\":true,\"x\":\"2022-04-15T03:00:00\",\"xanchor\":\"left\",\"xref\":\"x\",\"y\":-5,\"yanchor\":\"bottom\",\"yref\":\"y\"},{\"arrowhead\":2,\"arrowsize\":1,\"arrowwidth\":1.4,\"ax\":-23.468657940776033,\"axref\":\"pixel\",\"ay\":8.615224573906941,\"ayref\":\"pixel\",\"visible\":true,\"x\":\"2022-04-15T06:00:00\",\"xanchor\":\"left\",\"xref\":\"x\",\"y\":-5,\"yanchor\":\"bottom\",\"yref\":\"y\"},{\"arrowhead\":2,\"arrowsize\":1,\"arrowwidth\":1.4,\"ax\":-23.906524652010887,\"axref\":\"pixel\",\"ay\":7.312870781218263,\"ayref\":\"pixel\",\"visible\":true,\"x\":\"2022-04-15T09:00:00\",\"xanchor\":\"left\",\"xref\":\"x\",\"y\":-5,\"yanchor\":\"bottom\",\"yref\":\"y\"},{\"arrowhead\":2,\"arrowsize\":1,\"arrowwidth\":1.4,\"ax\":-24.99737699398637,\"axref\":\"pixel\",\"ay\":0.36213729512549625,\"ayref\":\"pixel\",\"visible\":true,\"x\":\"2022-04-15T12:00:00\",\"xanchor\":\"left\",\"xref\":\"x\",\"y\":-5,\"yanchor\":\"bottom\",\"yref\":\"y\"},{\"arrowhead\":2,\"arrowsize\":1,\"arrowwidth\":1.4,\"ax\":-24.473671767973254,\"axref\":\"pixel\",\"ay\":-5.102880578017572,\"ayref\":\"pixel\",\"visible\":true,\"x\":\"2022-04-15T15:00:00\",\"xanchor\":\"left\",\"xref\":\"x\",\"y\":-5,\"yanchor\":\"bottom\",\"yref\":\"y\"},{\"arrowhead\":2,\"arrowsize\":1,\"arrowwidth\":1.4,\"ax\":-21.998399885517326,\"axref\":\"pixel\",\"ay\":-11.87730619614024,\"ayref\":\"pixel\",\"visible\":true,\"x\":\"2022-04-15T18:00:00\",\"xanchor\":\"left\",\"xref\":\"x\",\"y\":-5,\"yanchor\":\"bottom\",\"yref\":\"y\"},{\"arrowhead\":2,\"arrowsize\":1,\"arrowwidth\":1.4,\"ax\":-16.076380788286464,\"axref\":\"pixel\",\"ay\":-19.145495051056105,\"ayref\":\"pixel\",\"visible\":true,\"x\":\"2022-04-15T21:00:00\",\"xanchor\":\"left\",\"xref\":\"x\",\"y\":-5,\"yanchor\":\"bottom\",\"yref\":\"y\"},{\"arrowhead\":2,\"arrowsize\":1,\"arrowwidth\":1.4,\"ax\":-11.965463250064325,\"axref\":\"pixel\",\"ay\":-21.950573778636404,\"ayref\":\"pixel\",\"visible\":true,\"x\":\"2022-04-16T00:00:00\",\"xanchor\":\"left\",\"xref\":\"x\",\"y\":-5,\"yanchor\":\"bottom\",\"yref\":\"y\"},{\"arrowhead\":2,\"arrowsize\":1,\"arrowwidth\":1.4,\"ax\":-10.4594308200294,\"axref\":\"pixel\",\"ay\":-22.706833925517206,\"ayref\":\"pixel\",\"visible\":true,\"x\":\"2022-04-16T03:00:00\",\"xanchor\":\"left\",\"xref\":\"x\",\"y\":-5,\"yanchor\":\"bottom\",\"yref\":\"y\"},{\"arrowhead\":2,\"arrowsize\":1,\"arrowwidth\":1.4,\"ax\":-9.819268899352979,\"axref\":\"pixel\",\"ay\":-22.990910340441054,\"ayref\":\"pixel\",\"visible\":true,\"x\":\"2022-04-16T06:00:00\",\"xanchor\":\"left\",\"xref\":\"x\",\"y\":-5,\"yanchor\":\"bottom\",\"yref\":\"y\"},{\"arrowhead\":2,\"arrowsize\":1,\"arrowwidth\":1.4,\"ax\":0.1913595714656526,\"axref\":\"pixel\",\"ay\":-24.99926761956055,\"ayref\":\"pixel\",\"visible\":true,\"x\":\"2022-04-16T09:00:00\",\"xanchor\":\"left\",\"xref\":\"x\",\"y\":-5,\"yanchor\":\"bottom\",\"yref\":\"y\"},{\"arrowhead\":2,\"arrowsize\":1,\"arrowwidth\":1.4,\"ax\":14.824380195491816,\"axref\":\"pixel\",\"ay\":-20.1305179222868,\"ayref\":\"pixel\",\"visible\":true,\"x\":\"2022-04-16T12:00:00\",\"xanchor\":\"left\",\"xref\":\"x\",\"y\":-5,\"yanchor\":\"bottom\",\"yref\":\"y\"},{\"arrowhead\":2,\"arrowsize\":1,\"arrowwidth\":1.4,\"ax\":24.87635036382014,\"axref\":\"pixel\",\"ay\":2.4833832922981536,\"ayref\":\"pixel\",\"visible\":true,\"x\":\"2022-04-16T15:00:00\",\"xanchor\":\"left\",\"xref\":\"x\",\"y\":-5,\"yanchor\":\"bottom\",\"yref\":\"y\"},{\"arrowhead\":2,\"arrowsize\":1,\"arrowwidth\":1.4,\"ax\":12.189963085148605,\"axref\":\"pixel\",\"ay\":21.826699246169,\"ayref\":\"pixel\",\"visible\":true,\"x\":\"2022-04-16T18:00:00\",\"xanchor\":\"left\",\"xref\":\"x\",\"y\":-5,\"yanchor\":\"bottom\",\"yref\":\"y\"},{\"arrowhead\":2,\"arrowsize\":1,\"arrowwidth\":1.4,\"ax\":-0.6002521116123805,\"axref\":\"pixel\",\"ay\":24.992792909206944,\"ayref\":\"pixel\",\"visible\":true,\"x\":\"2022-04-16T21:00:00\",\"xanchor\":\"left\",\"xref\":\"x\",\"y\":-5,\"yanchor\":\"bottom\",\"yref\":\"y\"},{\"arrowhead\":2,\"arrowsize\":1,\"arrowwidth\":1.4,\"ax\":-6.932952049288893,\"axref\":\"pixel\",\"ay\":24.019454112911497,\"ayref\":\"pixel\",\"visible\":true,\"x\":\"2022-04-17T00:00:00\",\"xanchor\":\"left\",\"xref\":\"x\",\"y\":-5,\"yanchor\":\"bottom\",\"yref\":\"y\"}]},                        {\"responsive\": true}                    ).then(function(){\n",
       "                            \n",
       "var gd = document.getElementById('ab0261ac-5ba1-4938-ba96-097949b90f79');\n",
       "var x = new MutationObserver(function (mutations, observer) {{\n",
       "        var display = window.getComputedStyle(gd).display;\n",
       "        if (!display || display === 'none') {{\n",
       "            console.log([gd, 'removed!']);\n",
       "            Plotly.purge(gd);\n",
       "            observer.disconnect();\n",
       "        }}\n",
       "}});\n",
       "\n",
       "// Listen for the removal of the full notebook cells\n",
       "var notebookContainer = gd.closest('#notebook-container');\n",
       "if (notebookContainer) {{\n",
       "    x.observe(notebookContainer, {childList: true});\n",
       "}}\n",
       "\n",
       "// Listen for the clearing of the current output cell\n",
       "var outputEl = gd.closest('.output');\n",
       "if (outputEl) {{\n",
       "    x.observe(outputEl, {childList: true});\n",
       "}}\n",
       "\n",
       "                        })                };                });            </script>        </div>"
      ]
     },
     "metadata": {},
     "output_type": "display_data"
    }
   ],
   "source": [
    "fig = make_subplots(rows=2, cols=1, row_heights=[0.7, 0.3])\n",
    "\n",
    "fig.add_trace(\n",
    "    go.Scatter(x = times, y= ds.ws, name='Wind Speed (knots)', visible=True), row = 1, col =1)\n",
    "\n",
    "\n",
    "fig.add_trace(\n",
    "    go.Scatter(x = times, y= ds.ws, name='Wind Speed (knots)', visible=True), row = 1, col =1)\n",
    "\n",
    "\n",
    "x = df.predict.where(df.predict<0).dropna()\n",
    "fig.add_trace(\n",
    "    go.Scatter(x = x.index.values, y= list(x.values),  \n",
    "                    visible=True, \n",
    "                    marker = dict(size=10, color = 'grey'),\n",
    "                    mode='markers',\n",
    "                    name='Insufficent data'), row = 2, col =1)\n",
    "\n",
    "\n",
    "x = df.predict.where(df.predict>=0).where(df.predict<0.6).dropna()\n",
    "fig.add_trace(\n",
    "    go.Scatter(x = x.index.values, y= list(x.values),  \n",
    "                    visible=True, \n",
    "                    marker = dict(size=10, color = 'green'),\n",
    "                    mode='markers',\n",
    "                    name='Stranding not likely'), row = 2, col =1)\n",
    "\n",
    "x = df.predict.where(df.predict>=0.6).where(df.predict<1).dropna()\n",
    "fig.add_trace(\n",
    "    go.Scatter(x = x.index.values, y= list(x.values),  \n",
    "                    visible=True, \n",
    "                    marker = dict(size=10, color = 'yellow'),\n",
    "                    mode='markers',\n",
    "                    name='Stranding Possible'), row = 2, col =1)\n",
    "\n",
    "\n",
    "x = df.predict.where(df.predict>=1).dropna()\n",
    "fig.add_trace(\n",
    "    go.Scatter(x = x.index.values, y= list(x.values),  \n",
    "                    visible=True, \n",
    "                    marker = dict(size=10, color = 'red'),\n",
    "                    mode='markers',\n",
    "                    name='Stranding Likely'), row = 2, col =1)\n",
    "\n",
    "\n",
    "\n",
    "for a in arrows:\n",
    "    fig.add_annotation(a)\n",
    "    \n",
    "fig.update_yaxes(range=[-10, 30], row = 1)\n",
    "fig.update_xaxes(range=[times[0], times[-1]], row = 1)\n",
    "if df.predict.max() < 1:\n",
    "    fig.update_yaxes(range=[-1, 5], row = 2)\n",
    "fig.update_xaxes(range=[times[0], times[-1]], row = 2)\n",
    "\n",
    "\n",
    "fig.update_yaxes(title=\"Wind Speed(knots)\", row = 1)\n",
    "fig.update_yaxes(title=\"Strandings Projected\", row = 2)\n",
    "    \n",
    "fig.show()"
   ]
  }
 ],
 "metadata": {
  "kernelspec": {
   "display_name": "Python 3 (ipykernel)",
   "language": "python",
   "name": "python3"
  },
  "language_info": {
   "codemirror_mode": {
    "name": "ipython",
    "version": 3
   },
   "file_extension": ".py",
   "mimetype": "text/x-python",
   "name": "python",
   "nbconvert_exporter": "python",
   "pygments_lexer": "ipython3",
   "version": "3.9.7"
  },
  "widgets": {
   "application/vnd.jupyter.widget-state+json": {
    "state": {
     "02320be2704f4748bdc1121d06159c97": {
      "model_module": "@jupyter-widgets/base",
      "model_module_version": "1.2.0",
      "model_name": "LayoutModel",
      "state": {}
     },
     "025156aa78654fdfab5e308218559d7d": {
      "model_module": "@jupyter-widgets/controls",
      "model_module_version": "1.5.0",
      "model_name": "DescriptionStyleModel",
      "state": {
       "description_width": ""
      }
     },
     "02fa46a7fca1444c82cff93a22ee8413": {
      "model_module": "@jupyter-widgets/controls",
      "model_module_version": "1.5.0",
      "model_name": "HTMLModel",
      "state": {
       "layout": "IPY_MODEL_02320be2704f4748bdc1121d06159c97",
       "style": "IPY_MODEL_d102f6bf29bd4786b81026debe2a0be0",
       "value": " 47.6M/47.6M [05:42&lt;00:00, 303kB/s]"
      }
     },
     "03190ece0c0b4c06a847078dfc160637": {
      "model_module": "@jupyter-widgets/base",
      "model_module_version": "1.2.0",
      "model_name": "LayoutModel",
      "state": {}
     },
     "046af2a91d0d4fffb3f0a7a37ed18115": {
      "model_module": "@jupyter-widgets/controls",
      "model_module_version": "1.5.0",
      "model_name": "FloatProgressModel",
      "state": {
       "layout": "IPY_MODEL_ffe49c2e42eb4a00936d45c9f12e6f7c",
       "max": 49943658,
       "style": "IPY_MODEL_1804851605d44b5a878da75404443cea",
       "value": 49943658
      }
     },
     "07a24544bee746e78f8a80daa4065de6": {
      "model_module": "@jupyter-widgets/controls",
      "model_module_version": "1.5.0",
      "model_name": "HTMLModel",
      "state": {
       "layout": "IPY_MODEL_f0593fbf1f3b40039478b888042c1c9b",
       "style": "IPY_MODEL_56372df1de4d4666b21e7b605bb1b42c",
       "value": " 9.17M/9.29M [00:15&lt;00:00, 937kB/s]"
      }
     },
     "0982af562d394b27987046f1794937bf": {
      "model_module": "@jupyter-widgets/controls",
      "model_module_version": "1.5.0",
      "model_name": "HTMLModel",
      "state": {
       "layout": "IPY_MODEL_c1d84d8150b743108aeabcdadce6aa18",
       "style": "IPY_MODEL_131915689ea44fdbb884efb762345745",
       "value": "&lt;multiple&gt;: 100%"
      }
     },
     "0be606060fba460999feb4c9fc5f97a4": {
      "model_module": "@jupyter-widgets/base",
      "model_module_version": "1.2.0",
      "model_name": "LayoutModel",
      "state": {}
     },
     "131915689ea44fdbb884efb762345745": {
      "model_module": "@jupyter-widgets/controls",
      "model_module_version": "1.5.0",
      "model_name": "DescriptionStyleModel",
      "state": {
       "description_width": ""
      }
     },
     "1804851605d44b5a878da75404443cea": {
      "model_module": "@jupyter-widgets/controls",
      "model_module_version": "1.5.0",
      "model_name": "ProgressStyleModel",
      "state": {
       "description_width": ""
      }
     },
     "188949b2745f4a48b51c72f64980da27": {
      "model_module": "@jupyter-widgets/controls",
      "model_module_version": "1.5.0",
      "model_name": "DescriptionStyleModel",
      "state": {
       "description_width": ""
      }
     },
     "1b8539f40f9a4afe8da6b12653b43a5d": {
      "model_module": "@jupyter-widgets/controls",
      "model_module_version": "1.5.0",
      "model_name": "DescriptionStyleModel",
      "state": {
       "description_width": ""
      }
     },
     "1e4a1e7608794d898cb95182f00c4317": {
      "model_module": "@jupyter-widgets/base",
      "model_module_version": "1.2.0",
      "model_name": "LayoutModel",
      "state": {}
     },
     "2034724061db4955bc06948a579738ef": {
      "model_module": "@jupyter-widgets/controls",
      "model_module_version": "1.5.0",
      "model_name": "ProgressStyleModel",
      "state": {
       "description_width": ""
      }
     },
     "208b38d4be904804807071342322c06f": {
      "model_module": "@jupyter-widgets/controls",
      "model_module_version": "1.5.0",
      "model_name": "FloatProgressModel",
      "state": {
       "layout": "IPY_MODEL_70b560ac95764d09b976091560c9ccc8",
       "max": 9745104,
       "style": "IPY_MODEL_3a98a4cca4644df9a11423f327513417",
       "value": 9745104
      }
     },
     "217b26da0514476fbbddc5f5430025bb": {
      "model_module": "@jupyter-widgets/controls",
      "model_module_version": "1.5.0",
      "model_name": "DescriptionStyleModel",
      "state": {
       "description_width": ""
      }
     },
     "244d0f33b1354ef59214d3fa561170e1": {
      "model_module": "@jupyter-widgets/base",
      "model_module_version": "1.2.0",
      "model_name": "LayoutModel",
      "state": {}
     },
     "2c37232b26c74fafa788750c0886cc95": {
      "model_module": "@jupyter-widgets/controls",
      "model_module_version": "1.5.0",
      "model_name": "HTMLModel",
      "state": {
       "layout": "IPY_MODEL_8b3431a4c35145dab4c89f81c6849adf",
       "style": "IPY_MODEL_643b0898076149bab026a7d9794b8bca",
       "value": " 9.29M/9.29M [01:04&lt;00:00, 308kB/s]"
      }
     },
     "3a98a4cca4644df9a11423f327513417": {
      "model_module": "@jupyter-widgets/controls",
      "model_module_version": "1.5.0",
      "model_name": "ProgressStyleModel",
      "state": {
       "description_width": ""
      }
     },
     "4e1d13fa8c374ed5b2472210bc9ead88": {
      "model_module": "@jupyter-widgets/controls",
      "model_module_version": "1.5.0",
      "model_name": "FloatProgressModel",
      "state": {
       "layout": "IPY_MODEL_5a4553f9b52a4d1ebcdaf76dfe77188e",
       "max": 9745104,
       "style": "IPY_MODEL_2034724061db4955bc06948a579738ef",
       "value": 9745104
      }
     },
     "4e99da08b9794b1b81526c8601d31f5d": {
      "model_module": "@jupyter-widgets/base",
      "model_module_version": "1.2.0",
      "model_name": "LayoutModel",
      "state": {}
     },
     "56372df1de4d4666b21e7b605bb1b42c": {
      "model_module": "@jupyter-widgets/controls",
      "model_module_version": "1.5.0",
      "model_name": "DescriptionStyleModel",
      "state": {
       "description_width": ""
      }
     },
     "566b71b22ec7454daf1007870651e0c5": {
      "model_module": "@jupyter-widgets/base",
      "model_module_version": "1.2.0",
      "model_name": "LayoutModel",
      "state": {}
     },
     "5a4553f9b52a4d1ebcdaf76dfe77188e": {
      "model_module": "@jupyter-widgets/base",
      "model_module_version": "1.2.0",
      "model_name": "LayoutModel",
      "state": {}
     },
     "643b0898076149bab026a7d9794b8bca": {
      "model_module": "@jupyter-widgets/controls",
      "model_module_version": "1.5.0",
      "model_name": "DescriptionStyleModel",
      "state": {
       "description_width": ""
      }
     },
     "6750d350d5a14fcc9040870ecf089c7a": {
      "model_module": "@jupyter-widgets/base",
      "model_module_version": "1.2.0",
      "model_name": "LayoutModel",
      "state": {}
     },
     "6b8c5966c0fb4cf4a7c96cbd59014110": {
      "model_module": "@jupyter-widgets/base",
      "model_module_version": "1.2.0",
      "model_name": "LayoutModel",
      "state": {}
     },
     "70b560ac95764d09b976091560c9ccc8": {
      "model_module": "@jupyter-widgets/base",
      "model_module_version": "1.2.0",
      "model_name": "LayoutModel",
      "state": {}
     },
     "750f74b26f10462bad0d7357264de99a": {
      "model_module": "@jupyter-widgets/controls",
      "model_module_version": "1.5.0",
      "model_name": "ProgressStyleModel",
      "state": {
       "description_width": ""
      }
     },
     "76693a02d98c4f7590c2242946ee7876": {
      "model_module": "@jupyter-widgets/base",
      "model_module_version": "1.2.0",
      "model_name": "LayoutModel",
      "state": {}
     },
     "7ba4a40a72954babb17772f95318909e": {
      "model_module": "@jupyter-widgets/controls",
      "model_module_version": "1.5.0",
      "model_name": "DescriptionStyleModel",
      "state": {
       "description_width": ""
      }
     },
     "817611603c3d4032a162c9dc316c50a7": {
      "model_module": "@jupyter-widgets/base",
      "model_module_version": "1.2.0",
      "model_name": "LayoutModel",
      "state": {}
     },
     "86e75d02fcdc4bd4975313dd7d008594": {
      "model_module": "@jupyter-widgets/base",
      "model_module_version": "1.2.0",
      "model_name": "LayoutModel",
      "state": {}
     },
     "8b3431a4c35145dab4c89f81c6849adf": {
      "model_module": "@jupyter-widgets/base",
      "model_module_version": "1.2.0",
      "model_name": "LayoutModel",
      "state": {}
     },
     "8b7cb007135d403cabb8ac01edc92998": {
      "model_module": "@jupyter-widgets/controls",
      "model_module_version": "1.5.0",
      "model_name": "DescriptionStyleModel",
      "state": {
       "description_width": ""
      }
     },
     "95c1be1da48648f682fd9dfeb5a6ebc4": {
      "model_module": "@jupyter-widgets/controls",
      "model_module_version": "1.5.0",
      "model_name": "HTMLModel",
      "state": {
       "layout": "IPY_MODEL_6750d350d5a14fcc9040870ecf089c7a",
       "style": "IPY_MODEL_217b26da0514476fbbddc5f5430025bb",
       "value": "&lt;multiple&gt;: 100%"
      }
     },
     "9af6f11ffd394f82835247ad4b9a621a": {
      "model_module": "@jupyter-widgets/controls",
      "model_module_version": "1.5.0",
      "model_name": "HTMLModel",
      "state": {
       "layout": "IPY_MODEL_6b8c5966c0fb4cf4a7c96cbd59014110",
       "style": "IPY_MODEL_8b7cb007135d403cabb8ac01edc92998",
       "value": " 9.29M/9.29M [01:12&lt;00:00, 252kB/s]"
      }
     },
     "9bf043ab64cd44a586c927fdf619a7ce": {
      "model_module": "@jupyter-widgets/controls",
      "model_module_version": "1.5.0",
      "model_name": "HTMLModel",
      "state": {
       "layout": "IPY_MODEL_566b71b22ec7454daf1007870651e0c5",
       "style": "IPY_MODEL_188949b2745f4a48b51c72f64980da27",
       "value": " 9.29M/9.29M [01:10&lt;00:00, 186kB/s]"
      }
     },
     "9fef41ce80be4c37b267df31a0aba69d": {
      "model_module": "@jupyter-widgets/controls",
      "model_module_version": "1.5.0",
      "model_name": "HTMLModel",
      "state": {
       "layout": "IPY_MODEL_b961a9eb0079460e96b4c866f4019883",
       "style": "IPY_MODEL_025156aa78654fdfab5e308218559d7d",
       "value": "&lt;multiple&gt;: 100%"
      }
     },
     "abaa7b96d3244056a47f37e5c100eec0": {
      "model_module": "@jupyter-widgets/controls",
      "model_module_version": "1.5.0",
      "model_name": "HTMLModel",
      "state": {
       "layout": "IPY_MODEL_86e75d02fcdc4bd4975313dd7d008594",
       "style": "IPY_MODEL_7ba4a40a72954babb17772f95318909e",
       "value": "&lt;multiple&gt;:  99%"
      }
     },
     "b8f1ebd0a6bd49139b902ca63ac557b8": {
      "model_module": "@jupyter-widgets/controls",
      "model_module_version": "1.5.0",
      "model_name": "HTMLModel",
      "state": {
       "layout": "IPY_MODEL_244d0f33b1354ef59214d3fa561170e1",
       "style": "IPY_MODEL_1b8539f40f9a4afe8da6b12653b43a5d",
       "value": "&lt;multiple&gt;: 100%"
      }
     },
     "b961a9eb0079460e96b4c866f4019883": {
      "model_module": "@jupyter-widgets/base",
      "model_module_version": "1.2.0",
      "model_name": "LayoutModel",
      "state": {}
     },
     "c1d84d8150b743108aeabcdadce6aa18": {
      "model_module": "@jupyter-widgets/base",
      "model_module_version": "1.2.0",
      "model_name": "LayoutModel",
      "state": {}
     },
     "c321c29487b7401d84cd79c9c2882c8b": {
      "model_module": "@jupyter-widgets/base",
      "model_module_version": "1.2.0",
      "model_name": "LayoutModel",
      "state": {}
     },
     "c400178b50764caca6248eed1670a293": {
      "model_module": "@jupyter-widgets/controls",
      "model_module_version": "1.5.0",
      "model_name": "ProgressStyleModel",
      "state": {
       "description_width": ""
      }
     },
     "d102f6bf29bd4786b81026debe2a0be0": {
      "model_module": "@jupyter-widgets/controls",
      "model_module_version": "1.5.0",
      "model_name": "DescriptionStyleModel",
      "state": {
       "description_width": ""
      }
     },
     "d34bd35f81ac4a3383efadf3253ee1bd": {
      "model_module": "@jupyter-widgets/controls",
      "model_module_version": "1.5.0",
      "model_name": "FloatProgressModel",
      "state": {
       "layout": "IPY_MODEL_4e99da08b9794b1b81526c8601d31f5d",
       "max": 9745104,
       "style": "IPY_MODEL_750f74b26f10462bad0d7357264de99a",
       "value": 9745104
      }
     },
     "f0593fbf1f3b40039478b888042c1c9b": {
      "model_module": "@jupyter-widgets/base",
      "model_module_version": "1.2.0",
      "model_name": "LayoutModel",
      "state": {}
     },
     "fb9d58bc5bb3409198307bc9e3c4356d": {
      "model_module": "@jupyter-widgets/controls",
      "model_module_version": "1.5.0",
      "model_name": "FloatProgressModel",
      "state": {
       "layout": "IPY_MODEL_1e4a1e7608794d898cb95182f00c4317",
       "max": 9745104,
       "style": "IPY_MODEL_c400178b50764caca6248eed1670a293",
       "value": 9745104
      }
     },
     "ffe49c2e42eb4a00936d45c9f12e6f7c": {
      "model_module": "@jupyter-widgets/base",
      "model_module_version": "1.2.0",
      "model_name": "LayoutModel",
      "state": {}
     }
    },
    "version_major": 2,
    "version_minor": 0
   }
  }
 },
 "nbformat": 4,
 "nbformat_minor": 5
}
