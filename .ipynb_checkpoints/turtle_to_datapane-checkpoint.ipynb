{
 "cells": [
  {
   "cell_type": "code",
   "execution_count": 2,
   "id": "266404f1-c68f-4a4b-ae14-aa2ce9432dca",
   "metadata": {},
   "outputs": [],
   "source": [
    "import xarray as xr\n",
    "import zarr\n",
    "import glob\n",
    "import pandas as pd\n",
    "import numpy as np\n",
    "import holoviews as hv\n",
    "import hvplot.pandas\n",
    "import matplotlib.pyplot as plt\n",
    "import cartopy.crs as ccrs\n",
    "import ipywidgets as widgets\n",
    "from datetime import datetime, timedelta\n",
    "import seaborn as sns\n",
    "\n",
    "\n",
    "import warnings\n",
    "warnings.filterwarnings('ignore')"
   ]
  },
  {
   "cell_type": "code",
   "execution_count": null,
   "id": "793df202-fe91-49bc-8bff-b4db93d80973",
   "metadata": {},
   "outputs": [],
   "source": []
  },
  {
   "cell_type": "code",
   "execution_count": 3,
   "id": "902d904c-9e69-4b72-b2a5-382b7925a038",
   "metadata": {},
   "outputs": [],
   "source": [
    "stranding_data = pd.read_csv('2015_2021_hatchling_stranding_summary.csv', names = ['Id', 'Date','Species','Location'])"
   ]
  },
  {
   "cell_type": "code",
   "execution_count": 4,
   "id": "1d3f46f8-bb6d-4cc9-a135-76052da7b548",
   "metadata": {},
   "outputs": [],
   "source": [
    "stranding_data = stranding_data.loc[stranding_data['Species'] == 'Caretta caretta']"
   ]
  },
  {
   "cell_type": "code",
   "execution_count": 5,
   "id": "42177679-8b30-400c-9a06-ab96738a8274",
   "metadata": {},
   "outputs": [],
   "source": [
    "#correct a few spelling errors\n",
    "stranding_data.loc[stranding_data['Location'] == 'Mosselbay', 'Location'] = 'Mossel Bay'\n",
    "stranding_data.loc[stranding_data['Location'] == 'Witsand', 'Location'] = 'Witsands'\n",
    "stranding_data.loc[stranding_data['Location'] == 'Tenikwa PLETT', 'Location'] = 'Plettenberg Bay'\n",
    "stranding_data.loc[stranding_data['Location'] == 'Tenikwa', 'Location'] = 'Plettenberg Bay'"
   ]
  },
  {
   "cell_type": "code",
   "execution_count": 6,
   "id": "c683b0b3-fb95-49f2-93e9-6975f19caea1",
   "metadata": {},
   "outputs": [],
   "source": [
    "stranding_data = stranding_data.groupby('Location').filter(lambda x: len(x) >= 10) #consider only loactions with greater then 10 strandings"
   ]
  },
  {
   "cell_type": "code",
   "execution_count": 7,
   "id": "e4430e1b-e8ba-4873-a1af-7b936d5caa7c",
   "metadata": {},
   "outputs": [],
   "source": [
    "# Manually set locations for most common strandings\n",
    "latlong_dict = {}\n",
    "latlong_dict['Struisbaai'] = [-34.80, 20.10]\n",
    "latlong_dict['Mossel Bay'] = [-34.15, 22.20]\n",
    "latlong_dict['Muizenberg'] = [-34.11, 18.52]\n",
    "latlong_dict['Witsands'] = [-34.41, 20.92]\n",
    "latlong_dict['Arniston'] = [-34.67, 20.27]\n",
    "latlong_dict['Plettenberg Bay'] = [-34.07, 23.44]\n",
    "latlong_dict['Hermanus'] = [-34.44, 19.25]\n",
    "latlong_dict['Sedgefield'] = [-34.10, 22.78]\n",
    "latlong_dict['Gaansbaai'] = [-34.64, 19.35]"
   ]
  },
  {
   "cell_type": "code",
   "execution_count": 8,
   "id": "c95290fc-087d-4fa0-855e-88eefd37779c",
   "metadata": {},
   "outputs": [
    {
     "data": {
      "application/vnd.jupyter.widget-view+json": {
       "model_id": "ee8897594d174161a14407830a45fc37",
       "version_major": 2,
       "version_minor": 0
      },
      "text/plain": [
       "interactive(children=(Dropdown(description='Frequency', options=('Weekly', 'Monthly', 'Annual'), value='Weekly…"
      ]
     },
     "metadata": {},
     "output_type": "display_data"
    }
   ],
   "source": [
    "stranding_freq = stranding_data.groupby(stranding_data.Date).count()['Species'].rename('Standings')\n",
    "\n",
    "stranding_freq.index = pd.to_datetime(stranding_freq.index)\n",
    "\n",
    "def make_plot(Frequency):\n",
    "    if Frequency == 'Weekly':\n",
    "        return stranding_freq.groupby(stranding_freq.index.week).sum().hvplot.bar().opts(title = 'Weekly Strandings')\n",
    "    elif Frequency == 'Monthly':\n",
    "        return stranding_freq.groupby(stranding_freq.index.month).sum().hvplot.bar().opts(title = 'Monthly Strandings', xlabel = 'Month')\n",
    "    else:\n",
    "        return stranding_freq.groupby(stranding_freq.index.year).sum().hvplot.bar().opts(title = 'Annual Strandings')\n",
    "        \n",
    "        \n",
    "widgets.interact(make_plot, Frequency = ['Weekly','Monthly','Annual']);"
   ]
  },
  {
   "cell_type": "code",
   "execution_count": null,
   "id": "adbf2e9b-7a5f-42d6-89d9-d45198afa0e3",
   "metadata": {},
   "outputs": [],
   "source": []
  }
 ],
 "metadata": {
  "kernelspec": {
   "display_name": "Python 3 (ipykernel)",
   "language": "python",
   "name": "python3"
  },
  "language_info": {
   "codemirror_mode": {
    "name": "ipython",
    "version": 3
   },
   "file_extension": ".py",
   "mimetype": "text/x-python",
   "name": "python",
   "nbconvert_exporter": "python",
   "pygments_lexer": "ipython3",
   "version": "3.8.12"
  }
 },
 "nbformat": 4,
 "nbformat_minor": 5
}
