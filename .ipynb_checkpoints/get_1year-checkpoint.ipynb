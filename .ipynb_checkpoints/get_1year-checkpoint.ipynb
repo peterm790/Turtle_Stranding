{
 "cells": [
  {
   "cell_type": "code",
   "execution_count": 1,
   "id": "676acab5-c25c-4113-a7be-09373fb2c51c",
   "metadata": {},
   "outputs": [],
   "source": [
    "import urllib3\n",
    "urllib3.disable_warnings()"
   ]
  },
  {
   "cell_type": "code",
   "execution_count": 2,
   "id": "b685ce78-e5d9-4e17-a108-12b1c7a4648e",
   "metadata": {},
   "outputs": [],
   "source": [
    "#straight to netcdf ftw unless is to big back to grb then split into vars then convert to netcdf"
   ]
  },
  {
   "cell_type": "code",
   "execution_count": 3,
   "id": "4c8b1797-51a4-4282-842a-14b11d0a2777",
   "metadata": {},
   "outputs": [
    {
     "name": "stderr",
     "output_type": "stream",
     "text": [
      "2022-03-02 12:58:50,175 INFO Welcome to the CDS\n",
      "2022-03-02 12:58:50,177 INFO Sending request to https://cds.climate.copernicus.eu/api/v2/resources/reanalysis-era5-single-levels\n",
      "2022-03-02 12:58:50,369 INFO Request is completed\n",
      "2022-03-02 12:58:50,371 INFO Downloading https://download-0013.copernicus-climate.eu/cache-compute-0013/cache/data3/adaptor.mars.internal-1646201437.0305226-8020-7-16bb6fa0-79ea-4435-a818-05badf1e463c.grib to /mnt/C6ECF47AECF46659/2019_ERA5.grb (63.1G)\n",
      "2022-03-02 21:26:28,063 INFO Download rate 2.1M/s        \n"
     ]
    },
    {
     "data": {
      "text/plain": [
       "Result(content_length=67737225600,content_type=application/x-grib,location=https://download-0013.copernicus-climate.eu/cache-compute-0013/cache/data3/adaptor.mars.internal-1646201437.0305226-8020-7-16bb6fa0-79ea-4435-a818-05badf1e463c.grib)"
      ]
     },
     "execution_count": 3,
     "metadata": {},
     "output_type": "execute_result"
    }
   ],
   "source": [
    "import cdsapi\n",
    "\n",
    "c = cdsapi.Client()\n",
    "\n",
    "c.retrieve(\n",
    "    'reanalysis-era5-single-levels',\n",
    "    {\n",
    "        'product_type': 'reanalysis',\n",
    "        'format': 'grib',\n",
    "        'variable': [\n",
    "            '10m_u_component_of_wind', '10m_v_component_of_wind', '2m_temperature',\n",
    "            'sea_surface_temperature',\n",
    "        ],\n",
    "        'year': '2018',\n",
    "        'month': [   \n",
    "            '01', '02', '03',\n",
    "            '04', '05', '06',\n",
    "            '07', '08', '09',\n",
    "            '10', '11', '12',   \n",
    "        ],\n",
    "        'day': [\n",
    "            '01', '02', '03',\n",
    "            '04', '05', '06',\n",
    "            '07', '08', '09',\n",
    "            '10', '11', '12',\n",
    "            '13', '14', '15',\n",
    "            '16', '17', '18',\n",
    "            '19', '20', '21',\n",
    "            '22', '23', '24',\n",
    "            '25', '26', '27',\n",
    "            '28', '29', '30',\n",
    "            '31',\n",
    "        ],\n",
    "        'time': [\n",
    "            '00:00', '01:00', '02:00',\n",
    "            '03:00', '04:00', '05:00',\n",
    "            '06:00', '07:00', '08:00',\n",
    "            '09:00', '10:00', '11:00',\n",
    "            '12:00', '13:00', '14:00',\n",
    "            '15:00', '16:00', '17:00',\n",
    "            '18:00', '19:00', '20:00',\n",
    "            '21:00', '22:00', '23:00',\n",
    "        ],\n",
    "    },\n",
    "    '/mnt/kingfast1TB/2018_ERA5.grb')"
   ]
  },
  {
   "cell_type": "code",
   "execution_count": null,
   "id": "3ca87f9d-a146-4bf9-a54a-ba7ef688d48d",
   "metadata": {},
   "outputs": [],
   "source": []
  }
 ],
 "metadata": {
  "kernelspec": {
   "display_name": "Python 3 (ipykernel)",
   "language": "python",
   "name": "python3"
  },
  "language_info": {
   "codemirror_mode": {
    "name": "ipython",
    "version": 3
   },
   "file_extension": ".py",
   "mimetype": "text/x-python",
   "name": "python",
   "nbconvert_exporter": "python",
   "pygments_lexer": "ipython3",
   "version": "3.8.12"
  }
 },
 "nbformat": 4,
 "nbformat_minor": 5
}
