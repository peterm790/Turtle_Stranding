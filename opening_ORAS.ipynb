{
 "cells": [
  {
   "cell_type": "code",
   "execution_count": 4,
   "id": "97c35e9a-0a58-475f-a51b-8e3e1feaf663",
   "metadata": {},
   "outputs": [],
   "source": [
    "import xarray as xr\n",
    "import glob"
   ]
  },
  {
   "cell_type": "code",
   "execution_count": 5,
   "id": "dc37f22b-bd68-40e6-afae-5ba69c33b401",
   "metadata": {},
   "outputs": [],
   "source": [
    "variables = ['vozocrtx', 'vomecrty' , 'votemper']"
   ]
  },
  {
   "cell_type": "code",
   "execution_count": 17,
   "id": "eda39cdb-0b3d-4e70-b127-572e51f1f3a4",
   "metadata": {},
   "outputs": [],
   "source": [
    "#for var in variables[-1]:\n",
    "var = 'votemper'\n",
    "dir = '/mnt/kingfast1TB/oras5/'+str(var)+'*.nc'\n",
    "files = glob.glob(dir)\n",
    "files.sort()\n",
    "for i,file in zip(range(len(files)), files):\n",
    "    x = xr.open_mfdataset(file, chunks={'x': 40, 'y': 40})\n",
    "    if var =='vozocrtx':\n",
    "        x = x.sel(depthu = x.depthu[0])\n",
    "        x = x.drop('depthu')\n",
    "        x = x[['vozocrtx']]\n",
    "    elif var == 'vomecrty':\n",
    "        x = x.sel(depthv = x.depthv[0])\n",
    "        x = x.drop('depthv')\n",
    "        x = x[['vomecrty']]\n",
    "    else:\n",
    "        x = x.sel(deptht = x.deptht[0])\n",
    "        x = x.drop('deptht')\n",
    "        x = x[['votemper']]\n",
    "    x = x.rename({'time_counter':'time'})\n",
    "    if i == 0:\n",
    "        x.to_zarr('/mnt/kingfast1TB/oras5/'+str(var)+'.zarr', mode='a')\n",
    "    else:\n",
    "        x.to_zarr('/mnt/kingfast1TB/oras5/'+str(var)+'.zarr', append_dim='time', mode='a')\n",
    "    x.close()\n"
   ]
  },
  {
   "cell_type": "code",
   "execution_count": null,
   "id": "f16ce795-fbc2-4bb0-a317-71793edfea90",
   "metadata": {},
   "outputs": [],
   "source": [
    "depth_unit = {\n",
    "    'vozocrtx':'depthu',\n",
    "    'vomecrty':'depthv',\n",
    "    'votemper':'deptht'\n",
    "}"
   ]
  }
 ],
 "metadata": {
  "kernelspec": {
   "display_name": "Python 3 (ipykernel)",
   "language": "python",
   "name": "python3"
  },
  "language_info": {
   "codemirror_mode": {
    "name": "ipython",
    "version": 3
   },
   "file_extension": ".py",
   "mimetype": "text/x-python",
   "name": "python",
   "nbconvert_exporter": "python",
   "pygments_lexer": "ipython3",
   "version": "3.8.12"
  }
 },
 "nbformat": 4,
 "nbformat_minor": 5
}
