{
 "cells": [
  {
   "cell_type": "code",
   "execution_count": 1,
   "id": "701b856b-fb5a-46eb-afa0-7994f23e6ffe",
   "metadata": {},
   "outputs": [],
   "source": [
    "from API_client.python.lib.dataset import dataset\n",
    "import dh_py_access.lib.datahub as datahub\n",
    "from dh_py_access import package_api"
   ]
  },
  {
   "cell_type": "code",
   "execution_count": 2,
   "id": "55c40017-dc3c-4786-9ff1-a27fed329f0e",
   "metadata": {},
   "outputs": [],
   "source": [
    "server = 'http://api.planetos.com/v1/datasets/'\n",
    "API_key = '5c99902cc2e14dfc8c3ca63864bf4a48'"
   ]
  },
  {
   "cell_type": "code",
   "execution_count": 3,
   "id": "cc0785f5-a0a9-4737-bc25-84f215f64d3b",
   "metadata": {},
   "outputs": [
    {
     "ename": "AssertionError",
     "evalue": "",
     "output_type": "error",
     "traceback": [
      "\u001b[0;31m---------------------------------------------------------------------------\u001b[0m",
      "\u001b[0;31mAssertionError\u001b[0m                            Traceback (most recent call last)",
      "Input \u001b[0;32mIn [3]\u001b[0m, in \u001b[0;36m<cell line: 2>\u001b[0;34m()\u001b[0m\n\u001b[1;32m      1\u001b[0m dh\u001b[38;5;241m=\u001b[39mdatahub\u001b[38;5;241m.\u001b[39mdatahub_main(API_key)\n\u001b[0;32m----> 2\u001b[0m gfs\u001b[38;5;241m=\u001b[39m\u001b[43mdataset\u001b[49m\u001b[43m(\u001b[49m\u001b[38;5;124;43m'\u001b[39;49m\u001b[38;5;124;43mnoaa_gfs_global_sflux_0.12d\u001b[39;49m\u001b[38;5;124;43m'\u001b[39;49m\u001b[43m,\u001b[49m\u001b[43mdh\u001b[49m\u001b[43m)\u001b[49m\n",
      "File \u001b[0;32m~/Documents/2Oceans/API_client/python/lib/dataset.py:19\u001b[0m, in \u001b[0;36mdataset.__init__\u001b[0;34m(self, datasetkey, datahub, debug)\u001b[0m\n\u001b[1;32m     17\u001b[0m \u001b[38;5;28mself\u001b[39m\u001b[38;5;241m.\u001b[39mdatahub\u001b[38;5;241m=\u001b[39mdatahub\n\u001b[1;32m     18\u001b[0m \u001b[38;5;28mself\u001b[39m\u001b[38;5;241m.\u001b[39mdatahub\u001b[38;5;241m.\u001b[39minit_datasets()\n\u001b[0;32m---> 19\u001b[0m \u001b[38;5;28;01massert\u001b[39;00m datasetkey \u001b[38;5;129;01min\u001b[39;00m \u001b[38;5;28mself\u001b[39m\u001b[38;5;241m.\u001b[39mdatahub\u001b[38;5;241m.\u001b[39mdataset_list\n\u001b[1;32m     20\u001b[0m \u001b[38;5;28;01mtry\u001b[39;00m:\n\u001b[1;32m     21\u001b[0m     \u001b[38;5;28mself\u001b[39m\u001b[38;5;241m.\u001b[39mget_reftimes()\n",
      "\u001b[0;31mAssertionError\u001b[0m: "
     ]
    }
   ],
   "source": [
    "dh=datahub.datahub_main(API_key)\n",
    "gfs=dataset('noaa_gfs_global_sflux_0.12d',dh)"
   ]
  },
  {
   "cell_type": "code",
   "execution_count": null,
   "id": "4956ba82-77d7-485a-9042-2c727b350d09",
   "metadata": {},
   "outputs": [],
   "source": [
    "var_names = 'tmp_m'"
   ]
  },
  {
   "cell_type": "code",
   "execution_count": null,
   "id": "2901b8e8-61ff-4bd6-a69d-9c1ab65ab002",
   "metadata": {},
   "outputs": [],
   "source": [
    "area_name = 'maximum_04'"
   ]
  },
  {
   "cell_type": "code",
   "execution_count": null,
   "id": "3ee89393-77b3-4b67-ab42-58977eec37f0",
   "metadata": {},
   "outputs": [],
   "source": [
    "extent = [18.32, 24.040000000000003, -35.0, -33.87]\n",
    "top = extent[-1]\n",
    "bottom = extent[-2]\n",
    "left = extent[0]\n",
    "right = extent[1]"
   ]
  },
  {
   "cell_type": "code",
   "execution_count": null,
   "id": "84ff3a9a-884f-47a2-9853-6ce017b1c861",
   "metadata": {},
   "outputs": [],
   "source": [
    "package_gfs = package_api.package_api(dh,gfs.datasetkey,var_names,left,right,bottom,top)\n",
    "package_gfs.make_package()\n",
    "package_gfs.download_package()"
   ]
  },
  {
   "cell_type": "code",
   "execution_count": 4,
   "id": "10efcd40-0c13-4b7a-829c-085db429a4b4",
   "metadata": {},
   "outputs": [
    {
     "ename": "NameError",
     "evalue": "name 'xr' is not defined",
     "output_type": "error",
     "traceback": [
      "\u001b[0;31m---------------------------------------------------------------------------\u001b[0m",
      "\u001b[0;31mNameError\u001b[0m                                 Traceback (most recent call last)",
      "Input \u001b[0;32mIn [4]\u001b[0m, in \u001b[0;36m<cell line: 1>\u001b[0;34m()\u001b[0m\n\u001b[0;32m----> 1\u001b[0m data_gfs \u001b[38;5;241m=\u001b[39m \u001b[43mxr\u001b[49m\u001b[38;5;241m.\u001b[39mopen_dataset(package_gfs\u001b[38;5;241m.\u001b[39mget_local_file_name(),decode_cf\u001b[38;5;241m=\u001b[39m\u001b[38;5;28;01mTrue\u001b[39;00m)\n",
      "\u001b[0;31mNameError\u001b[0m: name 'xr' is not defined"
     ]
    }
   ],
   "source": [
    "data_gfs = xr.open_dataset(package_gfs.get_local_file_name(),decode_cf=True)"
   ]
  },
  {
   "cell_type": "code",
   "execution_count": null,
   "id": "87db859b-30d0-4c19-8e17-9f9cc8c42f94",
   "metadata": {},
   "outputs": [],
   "source": []
  }
 ],
 "metadata": {
  "kernelspec": {
   "display_name": "Python 3 (ipykernel)",
   "language": "python",
   "name": "python3"
  },
  "language_info": {
   "codemirror_mode": {
    "name": "ipython",
    "version": 3
   },
   "file_extension": ".py",
   "mimetype": "text/x-python",
   "name": "python",
   "nbconvert_exporter": "python",
   "pygments_lexer": "ipython3",
   "version": "3.8.12"
  }
 },
 "nbformat": 4,
 "nbformat_minor": 5
}
