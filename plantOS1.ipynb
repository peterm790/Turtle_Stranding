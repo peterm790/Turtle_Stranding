{
 "cells": [
  {
   "cell_type": "code",
   "execution_count": 1,
   "id": "193ae04a-3d16-4624-abd5-e1aaf6f818f7",
   "metadata": {},
   "outputs": [
    {
     "name": "stdout",
     "output_type": "stream",
     "text": [
      "numpy version is  1.21.2\n",
      "Matplotlib version is  3.5.1\n"
     ]
    }
   ],
   "source": [
    "import numpy as np\n",
    "print ('numpy version is ', np.__version__)\n",
    "import matplotlib.pyplot as plt\n",
    "#import mpl_toolkits.basemap\n",
    "#print ('mpl_toolkits.basemap version is ', mpl_toolkits.basemap.__version__)\n",
    "#from mpl_toolkits.basemap import Basemap\n",
    "import warnings\n",
    "import datetime\n",
    "import dateutil.parser\n",
    "import matplotlib\n",
    "print ('Matplotlib version is ',matplotlib.__version__)\n",
    "warnings.filterwarnings(\"ignore\",category=matplotlib.cbook.mplDeprecation)\n",
    "import xarray as xr"
   ]
  },
  {
   "cell_type": "code",
   "execution_count": 2,
   "id": "03b940e1-7252-4e13-8899-36ecf8e62ede",
   "metadata": {},
   "outputs": [],
   "source": [
    "from API_client.python.lib.dataset import dataset\n",
    "import dh_py_access.lib.datahub as datahub\n",
    "from dh_py_access import package_api"
   ]
  },
  {
   "cell_type": "code",
   "execution_count": null,
   "id": "1f4824cf-fa40-4af5-bc82-7e7bc9dfd461",
   "metadata": {},
   "outputs": [],
   "source": []
  },
  {
   "cell_type": "code",
   "execution_count": 7,
   "id": "5aa02d37-d239-445f-8f57-d8a2bac430e9",
   "metadata": {},
   "outputs": [],
   "source": [
    "server = 'http://api.planetos.com/v1/datasets/'\n",
    "API_key = '5c99902cc2e14dfc8c3ca63864bf4a48'"
   ]
  },
  {
   "cell_type": "code",
   "execution_count": 8,
   "id": "e42106b0-8d2c-4e7c-aef2-b2141d7f4c34",
   "metadata": {},
   "outputs": [
    {
     "ename": "AssertionError",
     "evalue": "",
     "output_type": "error",
     "traceback": [
      "\u001b[0;31m---------------------------------------------------------------------------\u001b[0m",
      "\u001b[0;31mAssertionError\u001b[0m                            Traceback (most recent call last)",
      "Input \u001b[0;32mIn [8]\u001b[0m, in \u001b[0;36m<cell line: 2>\u001b[0;34m()\u001b[0m\n\u001b[1;32m      1\u001b[0m dh\u001b[38;5;241m=\u001b[39mdatahub\u001b[38;5;241m.\u001b[39mdatahub_main(API_key)\n\u001b[0;32m----> 2\u001b[0m fmi_hirlam_surface\u001b[38;5;241m=\u001b[39m\u001b[43mdataset\u001b[49m\u001b[43m(\u001b[49m\u001b[38;5;124;43m'\u001b[39;49m\u001b[38;5;124;43mfmi_hirlam_surface\u001b[39;49m\u001b[38;5;124;43m'\u001b[39;49m\u001b[43m,\u001b[49m\u001b[43mdh\u001b[49m\u001b[43m)\u001b[49m\n\u001b[1;32m      3\u001b[0m metno_harmonie_metcoop\u001b[38;5;241m=\u001b[39mdataset(\u001b[38;5;124m'\u001b[39m\u001b[38;5;124mmetno_harmonie_metcoop\u001b[39m\u001b[38;5;124m'\u001b[39m,dh)\n\u001b[1;32m      4\u001b[0m gfs\u001b[38;5;241m=\u001b[39mdataset(\u001b[38;5;124m'\u001b[39m\u001b[38;5;124mnoaa_gfs_pgrb2_global_forecast_recompute_0.25degree\u001b[39m\u001b[38;5;124m'\u001b[39m,dh)\n",
      "File \u001b[0;32m~/Documents/2Oceans/API_client/python/lib/dataset.py:19\u001b[0m, in \u001b[0;36mdataset.__init__\u001b[0;34m(self, datasetkey, datahub, debug)\u001b[0m\n\u001b[1;32m     17\u001b[0m \u001b[38;5;28mself\u001b[39m\u001b[38;5;241m.\u001b[39mdatahub\u001b[38;5;241m=\u001b[39mdatahub\n\u001b[1;32m     18\u001b[0m \u001b[38;5;28mself\u001b[39m\u001b[38;5;241m.\u001b[39mdatahub\u001b[38;5;241m.\u001b[39minit_datasets()\n\u001b[0;32m---> 19\u001b[0m \u001b[38;5;28;01massert\u001b[39;00m datasetkey \u001b[38;5;129;01min\u001b[39;00m \u001b[38;5;28mself\u001b[39m\u001b[38;5;241m.\u001b[39mdatahub\u001b[38;5;241m.\u001b[39mdataset_list\n\u001b[1;32m     20\u001b[0m \u001b[38;5;28;01mtry\u001b[39;00m:\n\u001b[1;32m     21\u001b[0m     \u001b[38;5;28mself\u001b[39m\u001b[38;5;241m.\u001b[39mget_reftimes()\n",
      "\u001b[0;31mAssertionError\u001b[0m: "
     ]
    }
   ],
   "source": [
    "dh=datahub.datahub_main(API_key)\n",
    "fmi_hirlam_surface=dataset('fmi_hirlam_surface',dh)\n",
    "metno_harmonie_metcoop=dataset('metno_harmonie_metcoop',dh)\n",
    "gfs=dataset('noaa_gfs_pgrb2_global_forecast_recompute_0.25degree',dh)"
   ]
  },
  {
   "cell_type": "code",
   "execution_count": 5,
   "id": "4389de35-e35e-4813-87fc-c89124d8cfa7",
   "metadata": {},
   "outputs": [
    {
     "ename": "AssertionError",
     "evalue": "",
     "output_type": "error",
     "traceback": [
      "\u001b[0;31m---------------------------------------------------------------------------\u001b[0m",
      "\u001b[0;31mAssertionError\u001b[0m                            Traceback (most recent call last)",
      "Input \u001b[0;32mIn [5]\u001b[0m, in \u001b[0;36m<cell line: 2>\u001b[0;34m()\u001b[0m\n\u001b[1;32m      1\u001b[0m dh\u001b[38;5;241m=\u001b[39mdatahub\u001b[38;5;241m.\u001b[39mdatahub_main(API_key)\n\u001b[0;32m----> 2\u001b[0m fmi_hirlam_surface\u001b[38;5;241m=\u001b[39m\u001b[43mdataset\u001b[49m\u001b[43m(\u001b[49m\u001b[38;5;124;43m'\u001b[39;49m\u001b[38;5;124;43mfmi_hirlam_surface\u001b[39;49m\u001b[38;5;124;43m'\u001b[39;49m\u001b[43m,\u001b[49m\u001b[43mdh\u001b[49m\u001b[43m)\u001b[49m\n\u001b[1;32m      3\u001b[0m metno_harmonie_metcoop\u001b[38;5;241m=\u001b[39mdataset(\u001b[38;5;124m'\u001b[39m\u001b[38;5;124mmetno_harmonie_metcoop\u001b[39m\u001b[38;5;124m'\u001b[39m,dh)\n\u001b[1;32m      4\u001b[0m gfs\u001b[38;5;241m=\u001b[39mdataset(\u001b[38;5;124m'\u001b[39m\u001b[38;5;124mnoaa_gfs_global_sflux_0.12d\u001b[39m\u001b[38;5;124m'\u001b[39m,dh)\n",
      "File \u001b[0;32m~/Documents/2Oceans/API_client/python/lib/dataset.py:19\u001b[0m, in \u001b[0;36mdataset.__init__\u001b[0;34m(self, datasetkey, datahub, debug)\u001b[0m\n\u001b[1;32m     17\u001b[0m \u001b[38;5;28mself\u001b[39m\u001b[38;5;241m.\u001b[39mdatahub\u001b[38;5;241m=\u001b[39mdatahub\n\u001b[1;32m     18\u001b[0m \u001b[38;5;28mself\u001b[39m\u001b[38;5;241m.\u001b[39mdatahub\u001b[38;5;241m.\u001b[39minit_datasets()\n\u001b[0;32m---> 19\u001b[0m \u001b[38;5;28;01massert\u001b[39;00m datasetkey \u001b[38;5;129;01min\u001b[39;00m \u001b[38;5;28mself\u001b[39m\u001b[38;5;241m.\u001b[39mdatahub\u001b[38;5;241m.\u001b[39mdataset_list\n\u001b[1;32m     20\u001b[0m \u001b[38;5;28;01mtry\u001b[39;00m:\n\u001b[1;32m     21\u001b[0m     \u001b[38;5;28mself\u001b[39m\u001b[38;5;241m.\u001b[39mget_reftimes()\n",
      "\u001b[0;31mAssertionError\u001b[0m: "
     ]
    }
   ],
   "source": [
    "dh=datahub.datahub_main(API_key)\n",
    "fmi_hirlam_surface=dataset('fmi_hirlam_surface',dh)\n",
    "metno_harmonie_metcoop=dataset('metno_harmonie_metcoop',dh)\n",
    "gfs=dataset('noaa_gfs_global_sflux_0.12d',dh)"
   ]
  },
  {
   "cell_type": "code",
   "execution_count": 6,
   "id": "f984ca02-8e0f-410b-8d6c-25c84f1ced54",
   "metadata": {},
   "outputs": [
    {
     "ename": "NameError",
     "evalue": "name 'fmi_hirlam_surface' is not defined",
     "output_type": "error",
     "traceback": [
      "\u001b[0;31m---------------------------------------------------------------------------\u001b[0m",
      "\u001b[0;31mNameError\u001b[0m                                 Traceback (most recent call last)",
      "Input \u001b[0;32mIn [6]\u001b[0m, in \u001b[0;36m<cell line: 1>\u001b[0;34m()\u001b[0m\n\u001b[0;32m----> 1\u001b[0m sample_var_names \u001b[38;5;241m=\u001b[39m {\u001b[43mfmi_hirlam_surface\u001b[49m:\u001b[38;5;124m'\u001b[39m\u001b[38;5;124mTemperature_height_above_ground\u001b[39m\u001b[38;5;124m'\u001b[39m,\n\u001b[1;32m      2\u001b[0m                     metno_harmonie_metcoop:\u001b[38;5;124m'\u001b[39m\u001b[38;5;124mair_temperature_2m\u001b[39m\u001b[38;5;124m'\u001b[39m,\n\u001b[1;32m      3\u001b[0m                     gfs:\u001b[38;5;124m'\u001b[39m\u001b[38;5;124mtmp_m\u001b[39m\u001b[38;5;124m'\u001b[39m}\n",
      "\u001b[0;31mNameError\u001b[0m: name 'fmi_hirlam_surface' is not defined"
     ]
    }
   ],
   "source": [
    "sample_var_names = {fmi_hirlam_surface:'Temperature_height_above_ground',\n",
    "                    metno_harmonie_metcoop:'air_temperature_2m',\n",
    "                    gfs:'tmp_m'}"
   ]
  },
  {
   "cell_type": "code",
   "execution_count": 26,
   "id": "e4ddf44e-8eba-4cc8-ad20-93a9549e037f",
   "metadata": {},
   "outputs": [
    {
     "data": {
      "text/plain": [
       "'tmp_m'"
      ]
     },
     "execution_count": 26,
     "metadata": {},
     "output_type": "execute_result"
    }
   ],
   "source": [
    "sample_var_names[gfs]"
   ]
  },
  {
   "cell_type": "code",
   "execution_count": 27,
   "id": "6e877f74-f4a9-4f2d-9bf6-c1e44647bdeb",
   "metadata": {},
   "outputs": [
    {
     "data": {
      "text/plain": [
       "'maximum_04'"
      ]
     },
     "execution_count": 27,
     "metadata": {},
     "output_type": "execute_result"
    }
   ],
   "source": [
    "area_name"
   ]
  },
  {
   "cell_type": "code",
   "execution_count": 6,
   "id": "d1d7f725-9307-4104-8630-9b0da31ad99d",
   "metadata": {},
   "outputs": [],
   "source": [
    "today = datetime.datetime.today()\n",
    "day_ago = today - datetime.timedelta(days=1)\n",
    "reftime_start = datetime.datetime.strftime(day_ago, '%Y-%m-%dT') + '11:00:00'\n",
    "reftime_end = datetime.datetime.strftime(day_ago, '%Y-%m-%dT') + '13:00:00'"
   ]
  },
  {
   "cell_type": "code",
   "execution_count": 7,
   "id": "64d57ddb-41bc-4803-bb39-0e12651da2de",
   "metadata": {},
   "outputs": [],
   "source": [
    "def get_max_coverage_package(dataset, area_name, varfilter = 'temp'):\n",
    "    \"\"\"Download full coverage for limited area datasets\"\"\"\n",
    "    coords = dataset.get_dataset_boundaries()\n",
    "    ds_west = np.amin([i[0] for i in coords])\n",
    "    ds_east = np.amax([i[0] for i in coords])\n",
    "    ds_south = np.amin([i[1] for i in coords])\n",
    "    ds_north = np.amax([i[1] for i in coords])\n",
    "    temperature_variable = sample_var_names[dataset]\n",
    "    assert len(temperature_variable) >= 1, \"something wrong {0}\".format(temperature_variable)\n",
    "    assert type(temperature_variable) == str\n",
    "    return package_api.package_api(dh,dataset.datasetkey,temperature_variable,ds_west,ds_east,ds_south,ds_north,area_name=area_name)"
   ]
  },
  {
   "cell_type": "code",
   "execution_count": 8,
   "id": "b7671881-4eec-4bd9-a953-72428c4a8dae",
   "metadata": {},
   "outputs": [],
   "source": [
    "area_name = 'maximum_04'"
   ]
  },
  {
   "cell_type": "code",
   "execution_count": 9,
   "id": "03900447-9d1f-4a66-91c8-659c278677d6",
   "metadata": {},
   "outputs": [],
   "source": [
    "package_harmonie = get_max_coverage_package(metno_harmonie_metcoop, area_name=area_name)\n",
    "package_fmi_hirlam = get_max_coverage_package(fmi_hirlam_surface, area_name=area_name)"
   ]
  },
  {
   "cell_type": "code",
   "execution_count": 10,
   "id": "9fb62abb-b440-48ac-94fb-a6b586a38160",
   "metadata": {},
   "outputs": [
    {
     "name": "stdout",
     "output_type": "stream",
     "text": [
      "Package exists\n",
      "Package exists\n"
     ]
    }
   ],
   "source": [
    "package_harmonie.make_package()\n",
    "package_fmi_hirlam.make_package()"
   ]
  },
  {
   "cell_type": "code",
   "execution_count": 11,
   "id": "21244c0d-6239-49f0-965c-db4f3cb9c7e4",
   "metadata": {},
   "outputs": [
    {
     "name": "stdout",
     "output_type": "stream",
     "text": [
      "File already downloaded\n",
      "File already downloaded\n"
     ]
    }
   ],
   "source": [
    "package_harmonie.download_package()\n",
    "package_fmi_hirlam.download_package()"
   ]
  },
  {
   "cell_type": "code",
   "execution_count": 12,
   "id": "c331a353-7e64-4c6c-bfad-52987190dde7",
   "metadata": {},
   "outputs": [],
   "source": [
    "data_harmonie = xr.open_dataset(package_harmonie.get_local_file_name())\n",
    "data_fmi_hirlam = xr.open_dataset(package_fmi_hirlam.get_local_file_name(),decode_cf=False)"
   ]
  },
  {
   "cell_type": "code",
   "execution_count": 31,
   "id": "d52c7e08-3a14-4a4b-953d-5c8856928d36",
   "metadata": {},
   "outputs": [
    {
     "name": "stdout",
     "output_type": "stream",
     "text": [
      "http://api.planetos.com/v1/packages?apikey=5c99902cc2e14dfc8c3ca63864bf4a48&dataset=noaa_gfs_pgrb2_global_forecast_recompute_0.25degree&package=noaa_gfs_pgrb2_global_forecast_recompute_0.25degree_recent_reftime_20220329_&z=all&polygon=%5B%5B-18.1224142667743%2C+49.765385397300214%5D%2C+%5B54.22758573322673%2C+49.765385397300214%5D%2C+%5B54.22758573322673%2C+75.21538539729877%5D%2C+%5B-18.1224142667743%2C+75.21538539729877%5D%2C+%5B-18.1224142667743%2C+49.765385397300214%5D%5D&reftime_recent=true&var=tmp_m\n"
     ]
    }
   ],
   "source": [
    "left = np.amin(data_harmonie['longitude'].data)\n",
    "right = np.amax(data_harmonie['longitude'].data)\n",
    "bottom = np.amin(data_harmonie['latitude'].data)\n",
    "top = np.amax(data_harmonie['latitude'].data)\n",
    "\n",
    "package_gfs = package_api.package_api(dh,gfs.datasetkey,sample_var_names[gfs],left,right,bottom,top)\n",
    "package_gfs.make_package()\n",
    "package_gfs.download_package()"
   ]
  },
  {
   "cell_type": "code",
   "execution_count": 32,
   "id": "70729fb7-ae53-40d0-8064-8969dd7a2395",
   "metadata": {},
   "outputs": [],
   "source": [
    "data_gfs = xr.open_dataset(package_gfs.get_local_file_name(),decode_cf=True)"
   ]
  },
  {
   "cell_type": "code",
   "execution_count": 41,
   "id": "66010a1b-b262-43e3-8575-9d898d6ae75b",
   "metadata": {},
   "outputs": [
    {
     "data": {
      "text/plain": [
       "<matplotlib.collections.QuadMesh at 0x7f4630870f10>"
      ]
     },
     "execution_count": 41,
     "metadata": {},
     "output_type": "execute_result"
    },
    {
     "data": {
      "image/png": "[encoded data removed]",
      "text/plain": [
       "<Figure size 432x288 with 2 Axes>"
      ]
     },
     "metadata": {
      "needs_background": "light"
     },
     "output_type": "display_data"
    }
   ],
   "source": [
    "data_gfs.tmp_m[10][0].plot()"
   ]
  },
  {
   "cell_type": "code",
   "execution_count": 25,
   "id": "b5316e12-0c71-4d1b-965a-ebbf9e45b6d5",
   "metadata": {},
   "outputs": [
    {
     "data": {
      "text/plain": [
       "75.21538539729877"
      ]
     },
     "execution_count": 25,
     "metadata": {},
     "output_type": "execute_result"
    }
   ],
   "source": [
    "top"
   ]
  },
  {
   "cell_type": "code",
   "execution_count": 30,
   "id": "d66e56c1-cb65-42ea-b503-ece518b1126f",
   "metadata": {},
   "outputs": [
    {
     "data": {
      "text/plain": [
       "<dh_py_access.package_api.package_api at 0x7f4633836910>"
      ]
     },
     "execution_count": 30,
     "metadata": {},
     "output_type": "execute_result"
    }
   ],
   "source": [
    "package_gfs"
   ]
  },
  {
   "cell_type": "code",
   "execution_count": null,
   "id": "f6ba936c-27ee-46cc-bf29-078bc01d9f4a",
   "metadata": {},
   "outputs": [],
   "source": []
  }
 ],
 "metadata": {
  "kernelspec": {
   "display_name": "Python 3 (ipykernel)",
   "language": "python",
   "name": "python3"
  },
  "language_info": {
   "codemirror_mode": {
    "name": "ipython",
    "version": 3
   },
   "file_extension": ".py",
   "mimetype": "text/x-python",
   "name": "python",
   "nbconvert_exporter": "python",
   "pygments_lexer": "ipython3",
   "version": "3.8.12"
  }
 },
 "nbformat": 4,
 "nbformat_minor": 5
}
